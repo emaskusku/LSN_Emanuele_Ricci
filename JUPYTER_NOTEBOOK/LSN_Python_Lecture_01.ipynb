{
 "cells": [
  {
   "cell_type": "markdown",
   "metadata": {},
   "source": [
    "# <span style=\"color:green\"> Numerical Simulation Laboratory </span>\n",
    "## <span style=\"color:brown\"> Python LECTURE 1 </span>\n",
    "## <span style=\"color:orange\"> BASIC CONCEPTS, CONTROL STRUCTURES, TYPES </span>"
   ]
  },
  {
   "cell_type": "markdown",
   "metadata": {},
   "source": [
    "<img src=\"Pictures/python.png\" width=\"600\">"
   ]
  },
  {
   "cell_type": "markdown",
   "metadata": {},
   "source": [
    "- What is Python ?\n",
    "- Running Python\n",
    "- Simple operations\n",
    "- Strings, integers, floats & type conversions\n",
    "- Input/Output\n",
    "- Variables\n",
    "- Booleans\n",
    "- Comparison\n",
    "- If, else & elif statements\n",
    "- While\n",
    "- Lists\n",
    "- None\n",
    "- Dictionaries, Tuples"
   ]
  },
  {
   "cell_type": "markdown",
   "metadata": {},
   "source": [
    "<img src=\"Pictures/cartoon.png\" width=\"400\">"
   ]
  },
  {
   "cell_type": "markdown",
   "metadata": {},
   "source": [
    "Example: Ordinary Differential Equation numerical integrator with symbolic calculus and plot of trajectories in the phase space (Don't worry if you do not understand it now!)"
   ]
  },
  {
   "cell_type": "code",
   "execution_count": null,
   "metadata": {},
   "outputs": [],
   "source": [
    "from sympy import *\n",
    "from sympy.abc import x\n",
    "import numpy as np\n",
    "import matplotlib.pyplot as plt\n",
    "from scipy.integrate import ode   # Standing on the shoulders of giants!\n",
    "m = 1\n",
    "g = 9.8\n",
    "L = 1\n",
    "V = m*g*L*(1-cos(x)) # potential energy\n",
    "F = -diff(V,x)       # force via symbolic differentiation!\n",
    "a = F/m              # acceleration\n",
    "def f(t,position):   # function: [x,v]->[v,a]\n",
    "    return [position[1], a.evalf(subs={x: position[0]})]\n",
    "solver = ode(f).set_integrator('dopri5') # 4th order Runge-Kutta solver\n",
    "instants = 200\n",
    "t = np.linspace(0.01, 7, instants)\n",
    "plt.figure(1)\n",
    "plt.grid()\n",
    "plt.xlabel('Position [m]')\n",
    "plt.ylabel('Velocity [m/s]')\n",
    "for j in range(6):\n",
    "    start = [(j+1)/2, 0.] # initial value\n",
    "    solver.set_initial_value(start)\n",
    "    r = np.zeros(instants)\n",
    "    v = np.zeros(instants)\n",
    "    for i in range(instants):\n",
    "        r[i] = solver.integrate(t[i])[0]\n",
    "        v[i] = solver.integrate(t[i])[1]\n",
    "    plt.plot(r,v)\n",
    "plt.show()"
   ]
  },
  {
   "cell_type": "markdown",
   "metadata": {},
   "source": [
    "<img src=\"Pictures/logo1.png\" width=\"400\">"
   ]
  },
  {
   "cell_type": "markdown",
   "metadata": {},
   "source": [
    "## What is Python ?\n",
    "\n",
    "- Python is a high-level programming language, with applications in numerous areas, including scientific computing, machine learning, artificial intelligence, scripting , quantum computing, and web programming.\n",
    "\n",
    "- It is very popular and used by organizations such as Google, NASA, etc.\n",
    "\n",
    "- Python is processed at runtime by the interpreter, which is is a program that runs scripts. There is no need to compile your program before executing it.\n",
    "\n",
    "- Python is easy to learn. It has efficient high-level data structures and a simple but effective approach to object-oriented programming. \n",
    "\n",
    "- Python’s elegant syntax and dynamic typing, together with its interpreted nature, make it an ideal language for scripting and rapid application development in many areas on most platforms.\n",
    "\n",
    "- Python is also suitable as an extension language for customizable applications."
   ]
  },
  {
   "cell_type": "markdown",
   "metadata": {},
   "source": [
    "## Welcome to Python!\n",
    "\n",
    "- The three major versions of Python are 1.*, 2.* and 3.*. These are subdivided into minor versions, such as 2.7 and 3.6.\n",
    "- Code written for Python 3.* is guaranteed to work in all future versions.\n",
    "- Both Python Version 2.* and 3.* are used currently.\n",
    "- This material covers Python 3.*, but it isn't hard to change from one version to another.\n",
    "- Python has several different implementations … we will use the Intel Python 3"
   ]
  },
  {
   "cell_type": "markdown",
   "metadata": {},
   "source": [
    "<img src=\"Pictures/intel.png\" width=\"400\">"
   ]
  },
  {
   "cell_type": "markdown",
   "metadata": {},
   "source": [
    "# Running Python\n",
    "- Interactive mode in a Python shell:\n",
    "<img src=\"Pictures/run1.png\" width=\"800\">\n",
    "- Interactive mode with IPython:\n",
    "<img src=\"Pictures/run2.png\" width=\"800\">\n",
    "- Jupiter notebook (Ipython in a browser):\n",
    "<img src=\"Pictures/run3.png\" width=\"800\">\n",
    "<img src=\"Pictures/run4.png\" width=\"800\">"
   ]
  },
  {
   "cell_type": "markdown",
   "metadata": {},
   "source": [
    "## Running Python 2\n",
    "- Use of a script:\n",
    "<img src=\"Pictures/run5.png\" width=\"800\">\n",
    "- Turn your python script into a unix script:\n",
    "<img src=\"Pictures/run6.png\" width=\"800\">"
   ]
  },
  {
   "cell_type": "markdown",
   "metadata": {},
   "source": [
    "## Your First Program\n",
    "- Let's start by creating a short program that displays \"Hello world!\".\n",
    "- In Python, we use the print statement to output text:"
   ]
  },
  {
   "cell_type": "code",
   "execution_count": 4,
   "metadata": {},
   "outputs": [
    {
     "name": "stdout",
     "output_type": "stream",
     "text": [
      "Hello world!\n"
     ]
    }
   ],
   "source": [
    "print('Hello world!')"
   ]
  },
  {
   "cell_type": "markdown",
   "metadata": {},
   "source": [
    "- Congratulations! You have written your first program … \n",
    "- Python is an interpreted language, which means that each line is executed as it is entered.\n",
    "- To exit from the Python shell/console type:\n",
    "    <span style=\"color:blue\"> exit() </span>"
   ]
  },
  {
   "cell_type": "markdown",
   "metadata": {},
   "source": [
    "## Simple operations\n",
    "- Python has the capability of carrying out calculations.\n",
    "- Enter a calculation directly into the Python console, and it will output the answer."
   ]
  },
  {
   "cell_type": "code",
   "execution_count": 5,
   "metadata": {},
   "outputs": [
    {
     "data": {
      "text/plain": [
       "6"
      ]
     },
     "execution_count": 5,
     "metadata": {},
     "output_type": "execute_result"
    }
   ],
   "source": [
    "5+4-3"
   ]
  },
  {
   "cell_type": "markdown",
   "metadata": {},
   "source": [
    "- Python also carries out multiplication and division, using an asterisk to indicate multiplication and a forward slash to indicate division.\n",
    "- Use parentheses to determine which operations are performed first."
   ]
  },
  {
   "cell_type": "code",
   "execution_count": 6,
   "metadata": {},
   "outputs": [
    {
     "data": {
      "text/plain": [
       "14"
      ]
     },
     "execution_count": 6,
     "metadata": {},
     "output_type": "execute_result"
    }
   ],
   "source": [
    "2 * (3 + 4)"
   ]
  },
  {
   "cell_type": "code",
   "execution_count": 7,
   "metadata": {},
   "outputs": [
    {
     "data": {
      "text/plain": [
       "5.0"
      ]
     },
     "execution_count": 7,
     "metadata": {},
     "output_type": "execute_result"
    }
   ],
   "source": [
    "10 / 2"
   ]
  },
  {
   "cell_type": "markdown",
   "metadata": {},
   "source": [
    "- The minus sign indicates a negative number:"
   ]
  },
  {
   "cell_type": "code",
   "execution_count": 8,
   "metadata": {},
   "outputs": [
    {
     "data": {
      "text/plain": [
       "20"
      ]
     },
     "execution_count": 8,
     "metadata": {},
     "output_type": "execute_result"
    }
   ],
   "source": [
    "(-7 + 2) * (-4)"
   ]
  },
  {
   "cell_type": "markdown",
   "metadata": {},
   "source": [
    "- Dividing by zero in Python produces an error, as no answer can be calculated:"
   ]
  },
  {
   "cell_type": "code",
   "execution_count": 10,
   "metadata": {},
   "outputs": [
    {
     "ename": "ZeroDivisionError",
     "evalue": "division by zero",
     "output_type": "error",
     "traceback": [
      "\u001b[0;31m---------------------------------------------------------------------------\u001b[0m",
      "\u001b[0;31mZeroDivisionError\u001b[0m                         Traceback (most recent call last)",
      "\u001b[0;32m<ipython-input-10-5be670730087>\u001b[0m in \u001b[0;36m<module>\u001b[0;34m()\u001b[0m\n\u001b[0;32m----> 1\u001b[0;31m \u001b[0;36m11\u001b[0m\u001b[0;34m/\u001b[0m\u001b[0;36m0\u001b[0m\u001b[0;34m\u001b[0m\u001b[0m\n\u001b[0m",
      "\u001b[0;31mZeroDivisionError\u001b[0m: division by zero"
     ]
    }
   ],
   "source": [
    "11/0"
   ]
  },
  {
   "cell_type": "markdown",
   "metadata": {},
   "source": [
    "- In Python, the last line of an error message indicates the error's type.\n",
    "- Read error messages carefully, as they often tell you how to fix a program/script!"
   ]
  },
  {
   "cell_type": "markdown",
   "metadata": {},
   "source": [
    "## Floats\n",
    "- Floats are used in Python to represent numbers that aren't integers. Some examples of numbers that are represented as floats are 0.5 and -7.8237591.\n",
    "- They can be created directly by entering a number with a decimal point, or by using operations such as division on integers. Extra zeros at the number's end are ignored."
   ]
  },
  {
   "cell_type": "code",
   "execution_count": 11,
   "metadata": {},
   "outputs": [
    {
     "data": {
      "text/plain": [
       "0.75"
      ]
     },
     "execution_count": 11,
     "metadata": {},
     "output_type": "execute_result"
    }
   ],
   "source": [
    "3/4"
   ]
  },
  {
   "cell_type": "code",
   "execution_count": 12,
   "metadata": {},
   "outputs": [
    {
     "data": {
      "text/plain": [
       "9.8765"
      ]
     },
     "execution_count": 12,
     "metadata": {},
     "output_type": "execute_result"
    }
   ],
   "source": [
    "9.87650000"
   ]
  },
  {
   "cell_type": "markdown",
   "metadata": {},
   "source": [
    "- Computers can't store floats perfectly accurately, in the same way that we can't write down the complete decimal expansion of 1/3 (0.3333333333333333...). Keep this in mind, because it often leads to infuriating bugs!\n",
    "- A float is also produced by running an operation on two floats, or on a float and an integer."
   ]
  },
  {
   "cell_type": "code",
   "execution_count": 13,
   "metadata": {},
   "outputs": [
    {
     "data": {
      "text/plain": [
       "42.0"
      ]
     },
     "execution_count": 13,
     "metadata": {},
     "output_type": "execute_result"
    }
   ],
   "source": [
    "6 * 7.0"
   ]
  },
  {
   "cell_type": "code",
   "execution_count": 14,
   "metadata": {},
   "outputs": [
    {
     "data": {
      "text/plain": [
       "5.65"
      ]
     },
     "execution_count": 14,
     "metadata": {},
     "output_type": "execute_result"
    }
   ],
   "source": [
    "4 + 1.65"
   ]
  },
  {
   "cell_type": "markdown",
   "metadata": {},
   "source": [
    "- A float can be added to an integer, because Python silently converts the integer to a float. \n",
    "- However, this implicit conversion is the exception rather the rule in Python - usually you have to convert values manually if you want to operate on them."
   ]
  },
  {
   "cell_type": "markdown",
   "metadata": {},
   "source": [
    "## Exponentiation\n",
    "- Besides addition, subtraction, multiplication, and division, Python also supports exponentiation, which is the raising of one number to the power of another. This operation is performed using two asterisks."
   ]
  },
  {
   "cell_type": "code",
   "execution_count": 15,
   "metadata": {},
   "outputs": [
    {
     "data": {
      "text/plain": [
       "32"
      ]
     },
     "execution_count": 15,
     "metadata": {},
     "output_type": "execute_result"
    }
   ],
   "source": [
    "2**5"
   ]
  },
  {
   "cell_type": "code",
   "execution_count": 16,
   "metadata": {},
   "outputs": [
    {
     "data": {
      "text/plain": [
       "3.0"
      ]
     },
     "execution_count": 16,
     "metadata": {},
     "output_type": "execute_result"
    }
   ],
   "source": [
    "9 ** (1/2)"
   ]
  },
  {
   "cell_type": "markdown",
   "metadata": {},
   "source": [
    "## Quotient & Remainder\n",
    "- To determine the quotient and remainder of a division, use the floor division and modulo operators, respectively\n",
    "- Floor division is done using two forward slashes\n",
    "- The modulo operator is carried out with a percent symbol (%)"
   ]
  },
  {
   "cell_type": "code",
   "execution_count": 17,
   "metadata": {},
   "outputs": [
    {
     "data": {
      "text/plain": [
       "3"
      ]
     },
     "execution_count": 17,
     "metadata": {},
     "output_type": "execute_result"
    }
   ],
   "source": [
    "20 // 6"
   ]
  },
  {
   "cell_type": "code",
   "execution_count": 18,
   "metadata": {},
   "outputs": [
    {
     "data": {
      "text/plain": [
       "0.25"
      ]
     },
     "execution_count": 18,
     "metadata": {},
     "output_type": "execute_result"
    }
   ],
   "source": [
    "1.25 % 0.5"
   ]
  },
  {
   "cell_type": "markdown",
   "metadata": {},
   "source": [
    "- These operators can be used with both floats and integers"
   ]
  },
  {
   "cell_type": "markdown",
   "metadata": {},
   "source": [
    "## String\n",
    "- If you want to use text in Python, you have to use a string. A string is created by entering text between two single or double quotation marks.\n",
    "- When the Python console displays a string, it generally uses single quotes. The delimiter used for a string doesn't affect how it behaves in any way."
   ]
  },
  {
   "cell_type": "code",
   "execution_count": 19,
   "metadata": {},
   "outputs": [
    {
     "data": {
      "text/plain": [
       "'Python is fun!'"
      ]
     },
     "execution_count": 19,
     "metadata": {},
     "output_type": "execute_result"
    }
   ],
   "source": [
    "\"Python is fun!\""
   ]
  },
  {
   "cell_type": "code",
   "execution_count": 20,
   "metadata": {},
   "outputs": [
    {
     "data": {
      "text/plain": [
       "'Always look on the bright side of life'"
      ]
     },
     "execution_count": 20,
     "metadata": {},
     "output_type": "execute_result"
    }
   ],
   "source": [
    "'Always look on the bright side of life'"
   ]
  },
  {
   "cell_type": "markdown",
   "metadata": {},
   "source": [
    "- Some characters can't be directly included in a string. For instance, double quotes can't be directly included in a double quote string; this would cause it to end prematurely.\n",
    "- Characters like these must be escaped by placing a backslash before them.\n",
    "- Other common characters that must be escaped are newlines and backslashes.\n",
    "- Double quotes only need to be escaped in double quote strings, and the same is true for single quote strings."
   ]
  },
  {
   "cell_type": "code",
   "execution_count": 21,
   "metadata": {},
   "outputs": [
    {
     "data": {
      "text/plain": [
       "\"Brian's mother: He's a naughty boy!\""
      ]
     },
     "execution_count": 21,
     "metadata": {},
     "output_type": "execute_result"
    }
   ],
   "source": [
    "'Brian\\'s mother: He\\'s a naughty boy!'"
   ]
  },
  {
   "cell_type": "markdown",
   "metadata": {},
   "source": [
    "- Backslashes can also be used to escape tabs (<span style=\"color:blue\"> \\t </span>), arbitrary Unicode characters, and various other things that can't be reliably printed. These characters are known as escape characters.\n",
    "- <span style=\"color:blue\"> \\n </span> represents a new line\n",
    "- Python provides an easy way to avoid manually writing <span style=\"color:blue\"> \\n </span> to escape newlines in a string. Create a string with three sets of quotes, and newlines that are created by pressing Enter are automatically escaped for you."
   ]
  },
  {
   "cell_type": "code",
   "execution_count": 22,
   "metadata": {},
   "outputs": [
    {
     "data": {
      "text/plain": [
       "'Customer: Good morning.\\nOwner: Good morning, Sir. Welcome to the National Cheese Emporium.'"
      ]
     },
     "execution_count": 22,
     "metadata": {},
     "output_type": "execute_result"
    }
   ],
   "source": [
    "\"\"\"Customer: Good morning.\n",
    "Owner: Good morning, Sir. Welcome to the National Cheese Emporium.\"\"\""
   ]
  },
  {
   "cell_type": "markdown",
   "metadata": {},
   "source": [
    "As you can see, the <span style=\"color:blue\"> \\n </span> was automatically put in the output, where we pressed <span style=\"color:blue\"> Enter </span>."
   ]
  },
  {
   "cell_type": "markdown",
   "metadata": {},
   "source": [
    "## Output\n",
    "- Usually, programs take input and process it to produce output.\n",
    "- In Python, you can use the print function to produce output. This displays a textual representation of something to the screen."
   ]
  },
  {
   "cell_type": "code",
   "execution_count": 23,
   "metadata": {},
   "outputs": [
    {
     "name": "stdout",
     "output_type": "stream",
     "text": [
      "2\n"
     ]
    }
   ],
   "source": [
    "print(1 + 1)"
   ]
  },
  {
   "cell_type": "code",
   "execution_count": 24,
   "metadata": {},
   "outputs": [
    {
     "name": "stdout",
     "output_type": "stream",
     "text": [
      "Hello\n",
      "World!\n"
     ]
    }
   ],
   "source": [
    "print(\"Hello\\nWorld!\")"
   ]
  },
  {
   "cell_type": "markdown",
   "metadata": {},
   "source": [
    "- When a string is printed, the quotes around it are not displayed."
   ]
  },
  {
   "cell_type": "markdown",
   "metadata": {},
   "source": [
    "## Input\n",
    "- To get input from the user in Python, you can use the intuitively named <span style=\"color:blue\"> input </span> function.\n",
    "- The function prompts the user for input, and returns what they enter as a string (with the contents automatically escaped)."
   ]
  },
  {
   "cell_type": "code",
   "execution_count": 27,
   "metadata": {},
   "outputs": [
    {
     "name": "stdout",
     "output_type": "stream",
     "text": [
      "Enter something please: This is what\\nthe user enters!\n"
     ]
    },
    {
     "data": {
      "text/plain": [
       "'This is what\\\\nthe user enters!'"
      ]
     },
     "execution_count": 27,
     "metadata": {},
     "output_type": "execute_result"
    }
   ],
   "source": [
    "input(\"Enter something please: \")"
   ]
  },
  {
   "cell_type": "markdown",
   "metadata": {},
   "source": [
    "- The print and input functions aren't very useful at the Python console, which automatically does input and output. However, they are very useful in actual Python programs and scripts."
   ]
  },
  {
   "cell_type": "markdown",
   "metadata": {},
   "source": [
    "## Concatenation\n",
    "- As with integers and floats, strings in Python can be added, using a process called concatenation, which can be done on any two strings.\n",
    "- When concatenating strings, it doesn't matter whether they've been created with single or double quotes."
   ]
  },
  {
   "cell_type": "code",
   "execution_count": 28,
   "metadata": {},
   "outputs": [
    {
     "data": {
      "text/plain": [
       "'Spameggs'"
      ]
     },
     "execution_count": 28,
     "metadata": {},
     "output_type": "execute_result"
    }
   ],
   "source": [
    "\"Spam\" + 'eggs'"
   ]
  },
  {
   "cell_type": "code",
   "execution_count": 29,
   "metadata": {},
   "outputs": [
    {
     "name": "stdout",
     "output_type": "stream",
     "text": [
      "First string, second string\n"
     ]
    }
   ],
   "source": [
    "print(\"First string\" + \", \" + \"second string\")"
   ]
  },
  {
   "cell_type": "markdown",
   "metadata": {},
   "source": [
    "- Even if your strings contain numbers, they are still added as strings rather than integers. Adding a string to a number produces an error, as even though they might look similar, they are two different entities."
   ]
  },
  {
   "cell_type": "code",
   "execution_count": 30,
   "metadata": {},
   "outputs": [
    {
     "data": {
      "text/plain": [
       "'22'"
      ]
     },
     "execution_count": 30,
     "metadata": {},
     "output_type": "execute_result"
    }
   ],
   "source": [
    "\"2\" + \"2\""
   ]
  },
  {
   "cell_type": "code",
   "execution_count": 31,
   "metadata": {},
   "outputs": [
    {
     "ename": "TypeError",
     "evalue": "unsupported operand type(s) for +: 'int' and 'str'",
     "output_type": "error",
     "traceback": [
      "\u001b[0;31m---------------------------------------------------------------------------\u001b[0m",
      "\u001b[0;31mTypeError\u001b[0m                                 Traceback (most recent call last)",
      "\u001b[0;32m<ipython-input-31-4f78e2bd30df>\u001b[0m in \u001b[0;36m<module>\u001b[0;34m()\u001b[0m\n\u001b[0;32m----> 1\u001b[0;31m \u001b[0;36m1\u001b[0m \u001b[0;34m+\u001b[0m \u001b[0;34m'2'\u001b[0m \u001b[0;34m+\u001b[0m \u001b[0;36m3\u001b[0m \u001b[0;34m+\u001b[0m \u001b[0;34m'4'\u001b[0m\u001b[0;34m\u001b[0m\u001b[0m\n\u001b[0m",
      "\u001b[0;31mTypeError\u001b[0m: unsupported operand type(s) for +: 'int' and 'str'"
     ]
    }
   ],
   "source": [
    "1 + '2' + 3 + '4'"
   ]
  },
  {
   "cell_type": "markdown",
   "metadata": {},
   "source": [
    "- Strings can also be multiplied by integers. This produces a repeated version of the original string. The order of the string and the integer doesn't matter, but the string usually comes first."
   ]
  },
  {
   "cell_type": "code",
   "execution_count": 32,
   "metadata": {},
   "outputs": [
    {
     "name": "stdout",
     "output_type": "stream",
     "text": [
      "spamspamspam\n"
     ]
    }
   ],
   "source": [
    "print(\"spam\" * 3)"
   ]
  },
  {
   "cell_type": "markdown",
   "metadata": {},
   "source": [
    "- Strings can't be multiplied by other strings. Strings also can't be multiplied by floats, even if the floats are whole numbers."
   ]
  },
  {
   "cell_type": "code",
   "execution_count": 33,
   "metadata": {},
   "outputs": [
    {
     "ename": "TypeError",
     "evalue": "can't multiply sequence by non-int of type 'str'",
     "output_type": "error",
     "traceback": [
      "\u001b[0;31m---------------------------------------------------------------------------\u001b[0m",
      "\u001b[0;31mTypeError\u001b[0m                                 Traceback (most recent call last)",
      "\u001b[0;32m<ipython-input-33-771cf903e209>\u001b[0m in \u001b[0;36m<module>\u001b[0;34m()\u001b[0m\n\u001b[0;32m----> 1\u001b[0;31m \u001b[0;34m'17'\u001b[0m \u001b[0;34m*\u001b[0m \u001b[0;34m'87'\u001b[0m\u001b[0;34m\u001b[0m\u001b[0m\n\u001b[0m",
      "\u001b[0;31mTypeError\u001b[0m: can't multiply sequence by non-int of type 'str'"
     ]
    }
   ],
   "source": [
    "'17' * '87'"
   ]
  },
  {
   "cell_type": "code",
   "execution_count": 34,
   "metadata": {},
   "outputs": [
    {
     "ename": "TypeError",
     "evalue": "can't multiply sequence by non-int of type 'float'",
     "output_type": "error",
     "traceback": [
      "\u001b[0;31m---------------------------------------------------------------------------\u001b[0m",
      "\u001b[0;31mTypeError\u001b[0m                                 Traceback (most recent call last)",
      "\u001b[0;32m<ipython-input-34-031324161a5f>\u001b[0m in \u001b[0;36m<module>\u001b[0;34m()\u001b[0m\n\u001b[0;32m----> 1\u001b[0;31m \u001b[0;34m'python is fun'\u001b[0m \u001b[0;34m*\u001b[0m \u001b[0;36m7.0\u001b[0m\u001b[0;34m\u001b[0m\u001b[0m\n\u001b[0m",
      "\u001b[0;31mTypeError\u001b[0m: can't multiply sequence by non-int of type 'float'"
     ]
    }
   ],
   "source": [
    "'python is fun' * 7.0"
   ]
  },
  {
   "cell_type": "markdown",
   "metadata": {},
   "source": [
    "## Type Conversion\n",
    "- In Python, it's impossible to complete certain operations due to the types involved. For instance, you can't add two strings containing the numbers 2 and 3 together to produce the integer 5, as the operation will be performed on strings, making the result '23'.\n",
    "- The solution to this is type conversion.\n",
    "- In the following example, you would use the <span style=\"color:blue\"> int </span> function."
   ]
  },
  {
   "cell_type": "code",
   "execution_count": 35,
   "metadata": {},
   "outputs": [
    {
     "data": {
      "text/plain": [
       "'23'"
      ]
     },
     "execution_count": 35,
     "metadata": {},
     "output_type": "execute_result"
    }
   ],
   "source": [
    "\"2\" + \"3\""
   ]
  },
  {
   "cell_type": "code",
   "execution_count": 36,
   "metadata": {},
   "outputs": [
    {
     "data": {
      "text/plain": [
       "5"
      ]
     },
     "execution_count": 36,
     "metadata": {},
     "output_type": "execute_result"
    }
   ],
   "source": [
    "int(\"2\") + int(\"3\")"
   ]
  },
  {
   "cell_type": "markdown",
   "metadata": {},
   "source": [
    "- In Python, the types we have used so far have been integers, floats, and strings. The functions used to convert to these are <span style=\"color:blue\"> int </span>, <span style=\"color:blue\"> float </span> and <span style=\"color:blue\"> str </span>, respectively.\n",
    "- Another example of type conversion is turning user input (which is a string) to numbers (integers or floats), to allow for the performance of calculations."
   ]
  },
  {
   "cell_type": "code",
   "execution_count": 37,
   "metadata": {},
   "outputs": [
    {
     "name": "stdout",
     "output_type": "stream",
     "text": [
      "Enter a number: 40\n",
      "Enter another number: 2\n"
     ]
    },
    {
     "data": {
      "text/plain": [
       "42.0"
      ]
     },
     "execution_count": 37,
     "metadata": {},
     "output_type": "execute_result"
    }
   ],
   "source": [
    "float(input(\"Enter a number: \")) + \tfloat(input(\"Enter another number: \"))"
   ]
  },
  {
   "cell_type": "markdown",
   "metadata": {},
   "source": [
    "- What is the output of the following code?"
   ]
  },
  {
   "cell_type": "code",
   "execution_count": 38,
   "metadata": {},
   "outputs": [
    {
     "name": "stdout",
     "output_type": "stream",
     "text": [
      "Enter a number:2\n"
     ]
    },
    {
     "data": {
      "text/plain": [
       "210210.0"
      ]
     },
     "execution_count": 38,
     "metadata": {},
     "output_type": "execute_result"
    }
   ],
   "source": [
    "float(\"210\" * int(input(\"Enter a number:\" )))"
   ]
  },
  {
   "cell_type": "markdown",
   "metadata": {},
   "source": [
    "## Variables\n",
    "- Variables play a very important role in most programming languages, and Python is no exception. A variable allows you to store a value by assigning it to a name, which can be used to refer to the value later in the program.\n",
    "- To assign a variable, use one equals sign. Unlike most lines of code we've looked at so far, it doesn't produce any output at the Python console."
   ]
  },
  {
   "cell_type": "code",
   "execution_count": 40,
   "metadata": {},
   "outputs": [
    {
     "name": "stdout",
     "output_type": "stream",
     "text": [
      "7\n",
      "10\n"
     ]
    }
   ],
   "source": [
    "x=7\n",
    "print(x)\n",
    "print(x+3)"
   ]
  },
  {
   "cell_type": "markdown",
   "metadata": {},
   "source": [
    "- You can use variables to perform corresponding operations, just as you did with numbers and strings. As you can see, the variable stores its value throughout the program.\n",
    "- Variables can be reassigned as many times as you want, in order to change their value.\n",
    "- In Python, variables don't have specific types, so you can assign a string to a variable, and later assign an integer to the same variable."
   ]
  },
  {
   "cell_type": "code",
   "execution_count": 41,
   "metadata": {},
   "outputs": [
    {
     "name": "stdout",
     "output_type": "stream",
     "text": [
      "123.456\n",
      "This is a string!\n"
     ]
    }
   ],
   "source": [
    "x = 123.456\n",
    "print(x)\n",
    "x = \"This is a string\"\n",
    "print(x + \"!\")"
   ]
  },
  {
   "cell_type": "markdown",
   "metadata": {},
   "source": [
    "## Variable names\n",
    "- Certain restrictions apply in regard to the characters that may be used in Python variable names. The only characters that are allowed are letters, numbers, and underscores. Also, they can't start with numbers.\n",
    "- Not following these rules results in errors."
   ]
  },
  {
   "cell_type": "code",
   "execution_count": 43,
   "metadata": {},
   "outputs": [
    {
     "ename": "SyntaxError",
     "evalue": "invalid syntax (<ipython-input-43-dd1e98a0ad62>, line 2)",
     "output_type": "error",
     "traceback": [
      "\u001b[0;36m  File \u001b[0;32m\"<ipython-input-43-dd1e98a0ad62>\"\u001b[0;36m, line \u001b[0;32m2\u001b[0m\n\u001b[0;31m    123abc = 7\u001b[0m\n\u001b[0m         ^\u001b[0m\n\u001b[0;31mSyntaxError\u001b[0m\u001b[0;31m:\u001b[0m invalid syntax\n"
     ]
    }
   ],
   "source": [
    "this_is_a_normal_name = 7\n",
    "123abc = 7"
   ]
  },
  {
   "cell_type": "code",
   "execution_count": 44,
   "metadata": {},
   "outputs": [
    {
     "ename": "SyntaxError",
     "evalue": "invalid syntax (<ipython-input-44-3b7144d6953f>, line 1)",
     "output_type": "error",
     "traceback": [
      "\u001b[0;36m  File \u001b[0;32m\"<ipython-input-44-3b7144d6953f>\"\u001b[0;36m, line \u001b[0;32m1\u001b[0m\n\u001b[0;31m    spaces are not allowed\u001b[0m\n\u001b[0m             ^\u001b[0m\n\u001b[0;31mSyntaxError\u001b[0m\u001b[0;31m:\u001b[0m invalid syntax\n"
     ]
    }
   ],
   "source": [
    "spaces are not allowed"
   ]
  },
  {
   "cell_type": "markdown",
   "metadata": {},
   "source": [
    "- Python is a case sensitive programming language. Thus, Lastname and lastname are two different variable names in Python.\n",
    "- Trying to reference a variable you haven't assigned to causes an error."
   ]
  },
  {
   "cell_type": "code",
   "execution_count": 46,
   "metadata": {},
   "outputs": [
    {
     "data": {
      "text/plain": [
       "'a string'"
      ]
     },
     "execution_count": 46,
     "metadata": {},
     "output_type": "execute_result"
    }
   ],
   "source": [
    "foo = \"a string\"\n",
    "foo"
   ]
  },
  {
   "cell_type": "code",
   "execution_count": 47,
   "metadata": {},
   "outputs": [
    {
     "ename": "NameError",
     "evalue": "name 'bar' is not defined",
     "output_type": "error",
     "traceback": [
      "\u001b[0;31m---------------------------------------------------------------------------\u001b[0m",
      "\u001b[0;31mNameError\u001b[0m                                 Traceback (most recent call last)",
      "\u001b[0;32m<ipython-input-47-e242ed3bffcc>\u001b[0m in \u001b[0;36m<module>\u001b[0;34m()\u001b[0m\n\u001b[0;32m----> 1\u001b[0;31m \u001b[0mbar\u001b[0m\u001b[0;34m\u001b[0m\u001b[0m\n\u001b[0m",
      "\u001b[0;31mNameError\u001b[0m: name 'bar' is not defined"
     ]
    }
   ],
   "source": [
    "bar"
   ]
  },
  {
   "cell_type": "markdown",
   "metadata": {},
   "source": [
    "- You can use the <span style=\"color:blue\"> del </span> statement to remove a variable, which means the reference from the name to the value is deleted, and trying to use the variable causes an error. Deleted variables can be reassigned to later as normal."
   ]
  },
  {
   "cell_type": "code",
   "execution_count": 48,
   "metadata": {},
   "outputs": [
    {
     "ename": "NameError",
     "evalue": "name 'foo' is not defined",
     "output_type": "error",
     "traceback": [
      "\u001b[0;31m---------------------------------------------------------------------------\u001b[0m",
      "\u001b[0;31mNameError\u001b[0m                                 Traceback (most recent call last)",
      "\u001b[0;32m<ipython-input-48-9b3fa6d0de85>\u001b[0m in \u001b[0;36m<module>\u001b[0;34m()\u001b[0m\n\u001b[1;32m      1\u001b[0m \u001b[0mfoo\u001b[0m \u001b[0;34m=\u001b[0m \u001b[0;34m\"a string\"\u001b[0m\u001b[0;34m\u001b[0m\u001b[0m\n\u001b[1;32m      2\u001b[0m \u001b[0;32mdel\u001b[0m \u001b[0mfoo\u001b[0m\u001b[0;34m\u001b[0m\u001b[0m\n\u001b[0;32m----> 3\u001b[0;31m \u001b[0mfoo\u001b[0m\u001b[0;34m\u001b[0m\u001b[0m\n\u001b[0m",
      "\u001b[0;31mNameError\u001b[0m: name 'foo' is not defined"
     ]
    }
   ],
   "source": [
    "foo = \"a string\"\n",
    "del foo\n",
    "foo"
   ]
  },
  {
   "cell_type": "markdown",
   "metadata": {},
   "source": [
    "- You can also take the value of the variable from the user input."
   ]
  },
  {
   "cell_type": "code",
   "execution_count": 49,
   "metadata": {},
   "outputs": [
    {
     "name": "stdout",
     "output_type": "stream",
     "text": [
      "Enter a number: 7\n",
      "7\n"
     ]
    }
   ],
   "source": [
    "foo = input(\"Enter a number: \")\n",
    "print(foo)"
   ]
  },
  {
   "cell_type": "markdown",
   "metadata": {},
   "source": [
    "- … but, of course, <span style=\"color:red\"> no check is done on the input type </span>:"
   ]
  },
  {
   "cell_type": "code",
   "execution_count": 50,
   "metadata": {},
   "outputs": [
    {
     "name": "stdout",
     "output_type": "stream",
     "text": [
      "Enter a number: dog\n",
      "dog\n"
     ]
    }
   ],
   "source": [
    "foo = input(\"Enter a number: \")\n",
    "print(foo)"
   ]
  },
  {
   "cell_type": "markdown",
   "metadata": {},
   "source": [
    "## In-place operators\n",
    "- In-place operators allow you to write code like **x = x + 3** more concisely, **as x += 3**\n",
    "- The same thing is possible with other operators such as -, *, / and % as well."
   ]
  },
  {
   "cell_type": "code",
   "execution_count": 51,
   "metadata": {},
   "outputs": [
    {
     "name": "stdout",
     "output_type": "stream",
     "text": [
      "5\n",
      "spameggs\n"
     ]
    }
   ],
   "source": [
    "x=2\n",
    "x+=3\n",
    "print(x)\n",
    "x='spam'\n",
    "x+='eggs'\n",
    "print(x)"
   ]
  },
  {
   "cell_type": "markdown",
   "metadata": {},
   "source": [
    "- Many other languages have special operators such as <span style=\"color:blue\"> ++ </span> as a shortcut for <span style=\"color:blue\"> x += 1 </span>. Python **does not** have these."
   ]
  },
  {
   "cell_type": "markdown",
   "metadata": {},
   "source": [
    "## Using an editor\n",
    "- So far, we've only used Python with the console, entering and running one line of code at a time.\n",
    "- Actual programs/scripts are created differently; many lines of code are written in a file, using a text editor, and then executed with the Python interpreter.\n",
    "- Python source files have an extension of **.py**\n",
    "- As seen in the first examples, Python programs/scripts can be executed at the shell prompt by entering: **python script.py**"
   ]
  },
  {
   "cell_type": "markdown",
   "metadata": {},
   "source": [
    "## Booleans\n",
    "- Another type in Python is the Boolean type. There are two Boolean values: **True** and **False**.\n",
    "- They can be created by comparing values, for instance by using the equal operator <span style=\"color:blue\"> == </span>"
   ]
  },
  {
   "cell_type": "code",
   "execution_count": 52,
   "metadata": {},
   "outputs": [
    {
     "data": {
      "text/plain": [
       "True"
      ]
     },
     "execution_count": 52,
     "metadata": {},
     "output_type": "execute_result"
    }
   ],
   "source": [
    "my_boolean = True\n",
    "my_boolean"
   ]
  },
  {
   "cell_type": "code",
   "execution_count": 53,
   "metadata": {},
   "outputs": [
    {
     "data": {
      "text/plain": [
       "False"
      ]
     },
     "execution_count": 53,
     "metadata": {},
     "output_type": "execute_result"
    }
   ],
   "source": [
    "2 == 3"
   ]
  },
  {
   "cell_type": "code",
   "execution_count": 54,
   "metadata": {},
   "outputs": [
    {
     "data": {
      "text/plain": [
       "True"
      ]
     },
     "execution_count": 54,
     "metadata": {},
     "output_type": "execute_result"
    }
   ],
   "source": [
    "\"hello\" == \"hello\""
   ]
  },
  {
   "cell_type": "markdown",
   "metadata": {},
   "source": [
    "- Be careful not to confuse assignment (one equals sign) with comparison (two equals signs)."
   ]
  },
  {
   "cell_type": "markdown",
   "metadata": {},
   "source": [
    "## Comparison\n",
    "- Another comparison operator, the not-equal operator **!=** , evaluates to True if the items being compared aren't equal, and False if they are"
   ]
  },
  {
   "cell_type": "code",
   "execution_count": 75,
   "metadata": {},
   "outputs": [
    {
     "data": {
      "text/plain": [
       "False"
      ]
     },
     "execution_count": 75,
     "metadata": {},
     "output_type": "execute_result"
    }
   ],
   "source": [
    "1 != 1"
   ]
  },
  {
   "cell_type": "code",
   "execution_count": 56,
   "metadata": {},
   "outputs": [
    {
     "data": {
      "text/plain": [
       "True"
      ]
     },
     "execution_count": 56,
     "metadata": {},
     "output_type": "execute_result"
    }
   ],
   "source": [
    "\"eleven\" != \"seven\""
   ]
  },
  {
   "cell_type": "code",
   "execution_count": 57,
   "metadata": {},
   "outputs": [
    {
     "data": {
      "text/plain": [
       "True"
      ]
     },
     "execution_count": 57,
     "metadata": {},
     "output_type": "execute_result"
    }
   ],
   "source": [
    "2 != 10"
   ]
  },
  {
   "cell_type": "markdown",
   "metadata": {},
   "source": [
    "- Python also has operators that determine whether one number (float or integer) is greater-than or smaller-than another. These operators are <span style=\"color:blue\"> > </span> and <span style=\"color:blue\"> \\< </span> respectively."
   ]
  },
  {
   "cell_type": "code",
   "execution_count": 61,
   "metadata": {},
   "outputs": [
    {
     "data": {
      "text/plain": [
       "True"
      ]
     },
     "execution_count": 61,
     "metadata": {},
     "output_type": "execute_result"
    }
   ],
   "source": [
    "7 > 5"
   ]
  },
  {
   "cell_type": "code",
   "execution_count": 62,
   "metadata": {},
   "outputs": [
    {
     "data": {
      "text/plain": [
       "False"
      ]
     },
     "execution_count": 62,
     "metadata": {},
     "output_type": "execute_result"
    }
   ],
   "source": [
    "10 < 10"
   ]
  },
  {
   "cell_type": "markdown",
   "metadata": {},
   "source": [
    "- The greater-than-or-equal-to, and smaller-than-or-equal-to operators are <span style=\"color:blue\"> >= </span> and <span style=\"color:blue\"> \\<= </span>\n",
    "- They return **True** when comparing equal numbers"
   ]
  },
  {
   "cell_type": "code",
   "execution_count": 60,
   "metadata": {},
   "outputs": [
    {
     "data": {
      "text/plain": [
       "True"
      ]
     },
     "execution_count": 60,
     "metadata": {},
     "output_type": "execute_result"
    }
   ],
   "source": [
    "7 <= 8"
   ]
  },
  {
   "cell_type": "code",
   "execution_count": 63,
   "metadata": {},
   "outputs": [
    {
     "data": {
      "text/plain": [
       "True"
      ]
     },
     "execution_count": 63,
     "metadata": {},
     "output_type": "execute_result"
    }
   ],
   "source": [
    "9 >= 9.0"
   ]
  },
  {
   "cell_type": "markdown",
   "metadata": {},
   "source": [
    "- Greater-than and smaller-than operators can also be used to compare strings lexicographically (the alphabetical order of words is based on the alphabetical order of their component letters)."
   ]
  },
  {
   "cell_type": "code",
   "execution_count": 64,
   "metadata": {},
   "outputs": [
    {
     "data": {
      "text/plain": [
       "True"
      ]
     },
     "execution_count": 64,
     "metadata": {},
     "output_type": "execute_result"
    }
   ],
   "source": [
    "'a' < 'b'"
   ]
  },
  {
   "cell_type": "code",
   "execution_count": 65,
   "metadata": {},
   "outputs": [
    {
     "data": {
      "text/plain": [
       "False"
      ]
     },
     "execution_count": 65,
     "metadata": {},
     "output_type": "execute_result"
    }
   ],
   "source": [
    "'professor' > 'student'"
   ]
  },
  {
   "cell_type": "markdown",
   "metadata": {},
   "source": [
    "## if statements & indentation\n",
    "- You can use **if** statements to run code if a certain condition holds.\n",
    "- If an expression evaluates to **True**, some statements are carried out. Otherwise, they aren't carried out.\n",
    "- An **if** statement looks like this:\n",
    "\n",
    "        if expression:\n",
    "            statements\n",
    "- Python uses indentation (white space at the beginning of a line) to delimit blocks of code. \n",
    "- Other languages, such as C++, use curly braces to accomplish this, but **in Python indentation is mandatory**; programs won't work without it. As you can see, the statements in the **if** should be indented\n",
    "- Notice the colon, :, at the end of the expression in the if statement\n",
    "- Here is an example **if** statement:"
   ]
  },
  {
   "cell_type": "code",
   "execution_count": 67,
   "metadata": {},
   "outputs": [
    {
     "name": "stdout",
     "output_type": "stream",
     "text": [
      "10 greater than 5\n",
      "Program ended\n"
     ]
    }
   ],
   "source": [
    "if 10 > 5:\n",
    "   print(\"10 greater than 5\")\n",
    "print(\"Program ended\")"
   ]
  },
  {
   "cell_type": "markdown",
   "metadata": {},
   "source": [
    "- To perform more complex checks, if statements can be nested, one inside the other.\n",
    "- This means that the inner if statement is the statement part of the outer one. This is one way to see whether multiple conditions are satisfied. For example:"
   ]
  },
  {
   "cell_type": "code",
   "execution_count": 68,
   "metadata": {},
   "outputs": [
    {
     "name": "stdout",
     "output_type": "stream",
     "text": [
      "Bigger than 5\n",
      "Between 5 and 47\n"
     ]
    }
   ],
   "source": [
    "num = 12\n",
    "if num > 5:\n",
    "   print(\"Bigger than 5\")\n",
    "   if num <= 47:\n",
    "      print(\"Between 5 and 47\")"
   ]
  },
  {
   "cell_type": "markdown",
   "metadata": {},
   "source": [
    "- An **else** statement follows an **if** statement, and contains code that is called when the **if** statement evaluates to **False**.\n",
    "- As with **if** statements, the code inside the block should be indented."
   ]
  },
  {
   "cell_type": "code",
   "execution_count": 69,
   "metadata": {},
   "outputs": [
    {
     "name": "stdout",
     "output_type": "stream",
     "text": [
      "No\n"
     ]
    }
   ],
   "source": [
    "x = 4\n",
    "if x == 5:\n",
    "   print(\"Yes\")\n",
    "else:\n",
    "   print(\"No\")"
   ]
  },
  {
   "cell_type": "markdown",
   "metadata": {},
   "source": [
    "- You can chain **if** and **else** statements to determine which option in a series of possibilities is true. For example:"
   ]
  },
  {
   "cell_type": "code",
   "execution_count": 70,
   "metadata": {},
   "outputs": [
    {
     "name": "stdout",
     "output_type": "stream",
     "text": [
      "Number is 7\n"
     ]
    }
   ],
   "source": [
    "num = 7\n",
    "if num == 5:\n",
    "  print(\"Number is 5\")\n",
    "else: \n",
    "  if num == 11:\n",
    "    print(\"Number is 11\")\n",
    "  else:\n",
    "    if num == 7:\n",
    "      print(\"Number is 7\")\n",
    "    else: \n",
    "      print(\"Number isn't 5, 11 or 7\")"
   ]
  },
  {
   "cell_type": "markdown",
   "metadata": {},
   "source": [
    "- The **elif** (short for else if) statement is a shortcut to use when chaining **if** and **else** statements. A series of **if elif** statements can have a final else block, which is called if none of the **if** or **elif** expressions is **True**."
   ]
  },
  {
   "cell_type": "code",
   "execution_count": 71,
   "metadata": {},
   "outputs": [
    {
     "name": "stdout",
     "output_type": "stream",
     "text": [
      "Number is 7\n"
     ]
    }
   ],
   "source": [
    "num = 7\n",
    "if num == 5:\n",
    "   print(\"Number is 5\")\n",
    "elif num == 11:\n",
    "   print(\"Number is 11\")\n",
    "elif num == 7:\n",
    "   print(\"Number is 7\")\n",
    "else:\n",
    "   print(\"Number isn't 5, 11 or 7\")"
   ]
  },
  {
   "cell_type": "markdown",
   "metadata": {},
   "source": [
    "## Boolean logic\n",
    "- Python uses words for its Boolean operators.\n",
    "- Boolean logic is used to make more complicated conditions for if statements that rely on more than one condition.\n",
    "- Python's Boolean operators are **and**, **or**, and **not**.\n",
    "- The and operator takes two arguments, and evaluates as **True** if, and only if, both of its arguments are **True**. Otherwise, it evaluates to **False**."
   ]
  },
  {
   "cell_type": "code",
   "execution_count": 72,
   "metadata": {},
   "outputs": [
    {
     "data": {
      "text/plain": [
       "True"
      ]
     },
     "execution_count": 72,
     "metadata": {},
     "output_type": "execute_result"
    }
   ],
   "source": [
    "1 == 1 and 2 == 2"
   ]
  },
  {
   "cell_type": "code",
   "execution_count": 73,
   "metadata": {},
   "outputs": [
    {
     "data": {
      "text/plain": [
       "False"
      ]
     },
     "execution_count": 73,
     "metadata": {},
     "output_type": "execute_result"
    }
   ],
   "source": [
    "1 == 1 and 2 == 3"
   ]
  },
  {
   "cell_type": "code",
   "execution_count": 76,
   "metadata": {},
   "outputs": [
    {
     "data": {
      "text/plain": [
       "False"
      ]
     },
     "execution_count": 76,
     "metadata": {},
     "output_type": "execute_result"
    }
   ],
   "source": [
    "1 != 1 and 2 == 2"
   ]
  },
  {
   "cell_type": "code",
   "execution_count": 77,
   "metadata": {},
   "outputs": [
    {
     "data": {
      "text/plain": [
       "False"
      ]
     },
     "execution_count": 77,
     "metadata": {},
     "output_type": "execute_result"
    }
   ],
   "source": [
    "2 < 1 and 3 >  6"
   ]
  },
  {
   "cell_type": "markdown",
   "metadata": {},
   "source": [
    "## Operator Precedence\n",
    "- Operator precedence is a very important concept in programming. It is an extension of the mathematical idea of order of operations (multiplication being performed before addition, etc.) to include other operators, such as those in Boolean logic.\n",
    "- The below code shows that **==** has a higher precedence than **or**:"
   ]
  },
  {
   "cell_type": "code",
   "execution_count": 78,
   "metadata": {},
   "outputs": [
    {
     "data": {
      "text/plain": [
       "True"
      ]
     },
     "execution_count": 78,
     "metadata": {},
     "output_type": "execute_result"
    }
   ],
   "source": [
    "False == False or True"
   ]
  },
  {
   "cell_type": "code",
   "execution_count": 79,
   "metadata": {},
   "outputs": [
    {
     "data": {
      "text/plain": [
       "False"
      ]
     },
     "execution_count": 79,
     "metadata": {},
     "output_type": "execute_result"
    }
   ],
   "source": [
    "False == (False or True)"
   ]
  },
  {
   "cell_type": "code",
   "execution_count": 80,
   "metadata": {},
   "outputs": [
    {
     "data": {
      "text/plain": [
       "True"
      ]
     },
     "execution_count": 80,
     "metadata": {},
     "output_type": "execute_result"
    }
   ],
   "source": [
    "(False == False) or True"
   ]
  },
  {
   "cell_type": "markdown",
   "metadata": {},
   "source": [
    "- Python's order of operations is the same as that of normal mathematics: parentheses first, then exponentiation, then multiplication/division, and then addition/subtraction.\n",
    "- The following table lists all of Python's operators, from highest precedence to lowest."
   ]
  },
  {
   "cell_type": "markdown",
   "metadata": {},
   "source": [
    "<img src=\"Pictures/precedence.png\" width=\"600\">"
   ]
  },
  {
   "cell_type": "markdown",
   "metadata": {},
   "source": [
    "## while loops\n",
    "- The statements inside a **while** statement are repeatedly executed, as long as the condition holds. Once it evaluates to **False**, the next section of code is executed. The code in the body of a while loop is executed repeatedly. This is called iteration\n",
    "- Below is a while loop containing a variable that counts up from 1 to 5, at which point the loop terminates."
   ]
  },
  {
   "cell_type": "code",
   "execution_count": 82,
   "metadata": {},
   "outputs": [
    {
     "name": "stdout",
     "output_type": "stream",
     "text": [
      "1\n",
      "2\n",
      "3\n",
      "4\n",
      "5\n",
      "Finished!\n"
     ]
    }
   ],
   "source": [
    "i = 1\n",
    "while i <= 5:\n",
    "   print(i)\n",
    "   i = i + 1\n",
    "\n",
    "print(\"Finished!\")"
   ]
  },
  {
   "cell_type": "markdown",
   "metadata": {},
   "source": [
    "- To end a while loop prematurely, the **break** statement can be used.\n",
    "- When encountered inside a loop, the **break** statement causes the loop to finish immediately."
   ]
  },
  {
   "cell_type": "code",
   "execution_count": 83,
   "metadata": {},
   "outputs": [
    {
     "name": "stdout",
     "output_type": "stream",
     "text": [
      "0\n",
      "1\n",
      "2\n",
      "3\n",
      "4\n",
      "Breaking\n",
      "Finished\n"
     ]
    }
   ],
   "source": [
    "i = 0\n",
    "while 1==1:\n",
    "  print(i)\n",
    "  i = i + 1\n",
    "  if i >= 5:\n",
    "    print(\"Breaking\")\n",
    "    break\n",
    "\n",
    "print(\"Finished\")"
   ]
  },
  {
   "cell_type": "markdown",
   "metadata": {},
   "source": [
    "- Another statement that can be used within loops is **continue**. Unlike **break**, **continue** jumps back to the top of the loop, rather than stopping it\n",
    "- Basically, the **continue** statement stops the current iteration and continues with the next one."
   ]
  },
  {
   "cell_type": "code",
   "execution_count": 84,
   "metadata": {
    "scrolled": true
   },
   "outputs": [
    {
     "name": "stdout",
     "output_type": "stream",
     "text": [
      "1\n",
      "Skipping 2\n",
      "3\n",
      "4\n",
      "Breaking\n",
      "Finished\n"
     ]
    }
   ],
   "source": [
    "i = 0\n",
    "while True:\n",
    "   i = i + 1\n",
    "   if i == 2:\n",
    "      print(\"Skipping 2\")\n",
    "      continue\n",
    "   if i == 5:\n",
    "      print(\"Breaking\")\n",
    "      break\n",
    "   print(i)\n",
    "print(\"Finished\")"
   ]
  },
  {
   "cell_type": "markdown",
   "metadata": {},
   "source": [
    "## Lists\n",
    "- Lists are another type of object in Python. They are used to store an indexed list of items.\n",
    "- A list is created using square brackets with commas separating items.\n",
    "- The certain item in the list can be accessed by using its index in square brackets."
   ]
  },
  {
   "cell_type": "code",
   "execution_count": 1,
   "metadata": {},
   "outputs": [
    {
     "name": "stdout",
     "output_type": "stream",
     "text": [
      "Hello\n",
      "world\n",
      "!\n"
     ]
    }
   ],
   "source": [
    "words = [\"Hello\", \"world\", \"!\"]\n",
    "print(words[0])\n",
    "print(words[1])\n",
    "print(words[2])"
   ]
  },
  {
   "cell_type": "markdown",
   "metadata": {},
   "source": [
    "- The first list item's index is 0, rather than 1, as might be expected.\n",
    "- Typically, a list will contain items of a single item type, but it is also possible to include several different types.\n",
    "- Lists can also be nested within other lists."
   ]
  },
  {
   "cell_type": "code",
   "execution_count": 2,
   "metadata": {},
   "outputs": [
    {
     "name": "stdout",
     "output_type": "stream",
     "text": [
      "0\n",
      "[1, 2, 3]\n",
      "3\n"
     ]
    }
   ],
   "source": [
    "number = 3\n",
    "things = [\"string\", 0, [1, 2, number], 4.56]\n",
    "print(things[1])\n",
    "print(things[2])\n",
    "print(things[2][2])"
   ]
  },
  {
   "cell_type": "markdown",
   "metadata": {},
   "source": [
    "- Lists of lists are often used to represent 2D grids, as basic Python lacks the multidimensional arrays â¦ but the <span style=\"color:red\"> numpy </span> module fills this lack.\n",
    "- Indexing out of the bounds of possible list values causes an **IndexError**.\n",
    "- Some types, such as strings, can be indexed like lists. Indexing strings behaves as though you are indexing a list containing each character in the string."
   ]
  },
  {
   "cell_type": "code",
   "execution_count": 3,
   "metadata": {},
   "outputs": [
    {
     "name": "stdout",
     "output_type": "stream",
     "text": [
      "w\n"
     ]
    }
   ],
   "source": [
    "str = \"Hello world!\"\n",
    "print(str[6])"
   ]
  },
  {
   "cell_type": "markdown",
   "metadata": {},
   "source": [
    "## List operations\n",
    "- The item at a certain index in a list can be reassigned."
   ]
  },
  {
   "cell_type": "code",
   "execution_count": 4,
   "metadata": {},
   "outputs": [
    {
     "name": "stdout",
     "output_type": "stream",
     "text": [
      "[7, 7, 5, 7, 7]\n"
     ]
    }
   ],
   "source": [
    "nums = [7, 7, 7, 7, 7]\n",
    "nums[2] = 5\n",
    "print(nums)"
   ]
  },
  {
   "cell_type": "markdown",
   "metadata": {},
   "source": [
    "- Lists and strings are similar in many ways - **strings can be thought of as lists of characters that can't be changed**.\n",
    "- Lists can be added and multiplied in the same way as strings."
   ]
  },
  {
   "cell_type": "code",
   "execution_count": 5,
   "metadata": {},
   "outputs": [
    {
     "name": "stdout",
     "output_type": "stream",
     "text": [
      "[1, 2, 3, 4, 5, 6]\n",
      "[1, 2, 3, 1, 2, 3, 1, 2, 3]\n"
     ]
    }
   ],
   "source": [
    "nums = [1, 2, 3]\n",
    "print(nums + [4, 5, 6])\n",
    "print(nums * 3)"
   ]
  },
  {
   "cell_type": "markdown",
   "metadata": {},
   "source": [
    "- To check if an item is in a list, the **in** operator can be used. It returns **True** if the item occurs one or more times in the list, and **False** if it doesn't."
   ]
  },
  {
   "cell_type": "code",
   "execution_count": 6,
   "metadata": {},
   "outputs": [
    {
     "name": "stdout",
     "output_type": "stream",
     "text": [
      "True\n",
      "True\n",
      "False\n"
     ]
    }
   ],
   "source": [
    "words = [\"spam\", \"egg\", \"spam\", \"sausage\"]\n",
    "print(\"spam\" in words)\n",
    "print(\"egg\" in words)\n",
    "print(\"tomato\" in words)"
   ]
  },
  {
   "cell_type": "markdown",
   "metadata": {},
   "source": [
    "- The **in** operator is also used to determine whether or not a string is a substring of another string.\n",
    "- To check if an item is not in a list, you can use the not operator in one of the following ways:"
   ]
  },
  {
   "cell_type": "code",
   "execution_count": 7,
   "metadata": {},
   "outputs": [
    {
     "name": "stdout",
     "output_type": "stream",
     "text": [
      "True\n",
      "True\n",
      "False\n",
      "False\n"
     ]
    }
   ],
   "source": [
    "nums = [1, 2, 3]\n",
    "print(not 4 in nums)\n",
    "print(4 not in nums)\n",
    "print(not 3 in nums)\n",
    "print(3 not in nums)"
   ]
  },
  {
   "cell_type": "markdown",
   "metadata": {},
   "source": [
    "- Another way of altering lists is using the append method. This adds an item to the end of an existing list."
   ]
  },
  {
   "cell_type": "code",
   "execution_count": 8,
   "metadata": {},
   "outputs": [
    {
     "name": "stdout",
     "output_type": "stream",
     "text": [
      "[1, 2, 3, 4]\n"
     ]
    }
   ],
   "source": [
    "nums = [1, 2, 3]\n",
    "nums.append(4)\n",
    "print(nums)"
   ]
  },
  {
   "cell_type": "markdown",
   "metadata": {},
   "source": [
    "- The dot before **append** is there because it is a method of the list class\n",
    "- <span style=\"color:orange\"> In these lectures we will **not** deepen the Object Oriented side of Python</span>. (Do it yourself, if you are interested)."
   ]
  },
  {
   "cell_type": "markdown",
   "metadata": {},
   "source": [
    "## List functions\n",
    "- To get the number of items in a list, you can use the **len** function."
   ]
  },
  {
   "cell_type": "code",
   "execution_count": 9,
   "metadata": {},
   "outputs": [
    {
     "name": "stdout",
     "output_type": "stream",
     "text": [
      "5\n"
     ]
    }
   ],
   "source": [
    "nums = [1, 3, 5, 2, 4]\n",
    "print(len(nums))"
   ]
  },
  {
   "cell_type": "markdown",
   "metadata": {},
   "source": [
    "- **len** is a normal function, rather than a method. This means it is written before the list it is being called on, without a dot.\n",
    "- The **insert** method is similar to **append**, except that it allows you to insert a new item at any position in the list, as opposed to just at the end."
   ]
  },
  {
   "cell_type": "code",
   "execution_count": 10,
   "metadata": {},
   "outputs": [
    {
     "name": "stdout",
     "output_type": "stream",
     "text": [
      "['Python', 'is', 'fun']\n"
     ]
    }
   ],
   "source": [
    "words = [\"Python\", \"fun\"]\n",
    "index = 1\n",
    "words.insert(index, \"is\")\n",
    "print(words)"
   ]
  },
  {
   "cell_type": "markdown",
   "metadata": {},
   "source": [
    "- Often used in conditional statements, **all** and **any** take a list as an argument, and return **True** if all or any (respectively) of their arguments evaluate to **True** (and **False** otherwise)."
   ]
  },
  {
   "cell_type": "code",
   "execution_count": 13,
   "metadata": {},
   "outputs": [
    {
     "name": "stdout",
     "output_type": "stream",
     "text": [
      "All larger than 5\n",
      "At least one is even\n"
     ]
    }
   ],
   "source": [
    "nums = [55, 44, 33, 22, 11]\n",
    "if all([i > 5 for i in nums]):\n",
    "   print(\"All larger than 5\")\n",
    "if any([i % 2 == 0 for i in nums]):\n",
    "   print(\"At least one is even\")"
   ]
  },
  {
   "cell_type": "markdown",
   "metadata": {},
   "source": [
    "- To find the maximum or minimum of some numbers or a list, you can use **max** or **min**.\n",
    "- To find the distance of a number from zero (its absolute value), use **abs**.\n",
    "- To round a number to a certain number of decimal places, use **round**.\n",
    "- To find the total of a list, use **sum**.\n",
    "\n",
    "Some examples:"
   ]
  },
  {
   "cell_type": "code",
   "execution_count": 14,
   "metadata": {},
   "outputs": [
    {
     "name": "stdout",
     "output_type": "stream",
     "text": [
      "0\n",
      "9\n",
      "99\n",
      "42\n",
      "3\n",
      "3.14\n",
      "15\n"
     ]
    }
   ],
   "source": [
    "print(min(1, 2, 3, 4, 0, 2, 1))\n",
    "print(max([1, 4, 9, 2, 5, 6, 8]))\n",
    "print(abs(-99))\n",
    "print(abs(42))\n",
    "print(round(3.14159))\n",
    "print(round(3.14159,2))\n",
    "print(sum([1, 2, 3, 4, 5]))"
   ]
  },
  {
   "cell_type": "markdown",
   "metadata": {},
   "source": [
    "- The **range** function creates a sequential list of numbers.\n",
    "- The code below generates a list containing all of the integers, up to 10."
   ]
  },
  {
   "cell_type": "code",
   "execution_count": 15,
   "metadata": {},
   "outputs": [
    {
     "name": "stdout",
     "output_type": "stream",
     "text": [
      "[0, 1, 2, 3, 4, 5, 6, 7, 8, 9]\n"
     ]
    }
   ],
   "source": [
    "numbers = list(range(10))\n",
    "print(numbers)"
   ]
  },
  {
   "cell_type": "markdown",
   "metadata": {},
   "source": [
    "- If **range** is called with two arguments, it produces values from the first to the second."
   ]
  },
  {
   "cell_type": "code",
   "execution_count": 16,
   "metadata": {},
   "outputs": [
    {
     "name": "stdout",
     "output_type": "stream",
     "text": [
      "[3, 4, 5, 6, 7]\n",
      "True\n"
     ]
    }
   ],
   "source": [
    "numbers = list(range(3, 8))\n",
    "print(numbers)\n",
    "print(range(20) == range(0, 20))"
   ]
  },
  {
   "cell_type": "markdown",
   "metadata": {},
   "source": [
    "- **range** can have a third argument, which determines the interval of the sequence produced. This third argument must be an integer."
   ]
  },
  {
   "cell_type": "code",
   "execution_count": 17,
   "metadata": {},
   "outputs": [
    {
     "name": "stdout",
     "output_type": "stream",
     "text": [
      "[5, 7, 9, 11, 13, 15, 17, 19]\n"
     ]
    }
   ],
   "source": [
    "numbers = list(range(5, 20, 2))\n",
    "print(numbers)"
   ]
  },
  {
   "cell_type": "markdown",
   "metadata": {},
   "source": [
    "## List slices\n",
    "- <span style=\"color:red\"> List slices </span> provide a more advanced way of retrieving values from a list. Basic list slicing involves indexing a list with two colon-separated integers. This returns a new list containing all the values in the old list between the indices."
   ]
  },
  {
   "cell_type": "code",
   "execution_count": 18,
   "metadata": {},
   "outputs": [
    {
     "name": "stdout",
     "output_type": "stream",
     "text": [
      "[4, 9, 16, 25]\n",
      "[9, 16, 25, 36, 49]\n",
      "[0]\n"
     ]
    }
   ],
   "source": [
    "squares = [0, 1, 4, 9, 16, 25, 36, 49, 64, 81]\n",
    "print(squares[2:6])\n",
    "print(squares[3:8])\n",
    "print(squares[0:1])"
   ]
  },
  {
   "cell_type": "markdown",
   "metadata": {},
   "source": [
    "- Like the arguments to range, the first index provided in a slice is included in the result, but the second isn't.\n",
    "- If the first number in a slice is omitted, it is taken to be the start of the list.\n",
    "- If the second number is omitted, it is taken to be the end."
   ]
  },
  {
   "cell_type": "code",
   "execution_count": 19,
   "metadata": {
    "scrolled": true
   },
   "outputs": [
    {
     "name": "stdout",
     "output_type": "stream",
     "text": [
      "[0, 1, 4, 9, 16, 25, 36]\n",
      "[49, 64, 81]\n"
     ]
    }
   ],
   "source": [
    "squares = [0, 1, 4, 9, 16, 25, 36, 49, 64, 81]\n",
    "print(squares[:7])\n",
    "print(squares[7:])"
   ]
  },
  {
   "cell_type": "markdown",
   "metadata": {},
   "source": [
    "- List slices can also have a third number, representing the step, to include only alternate values in the slice."
   ]
  },
  {
   "cell_type": "code",
   "execution_count": 20,
   "metadata": {},
   "outputs": [
    {
     "name": "stdout",
     "output_type": "stream",
     "text": [
      "[0, 4, 16, 36, 64]\n",
      "[4, 25]\n"
     ]
    }
   ],
   "source": [
    "squares = [0, 1, 4, 9, 16, 25, 36, 49, 64, 81]\n",
    "print(squares[::2])\n",
    "print(squares[2:8:3])"
   ]
  },
  {
   "cell_type": "markdown",
   "metadata": {},
   "source": [
    "- Negative values can be used in list slicing (and normal list indexing). When negative values are used for the first and second values in a slice (or a normal index), they count from the end of the list."
   ]
  },
  {
   "cell_type": "code",
   "execution_count": 21,
   "metadata": {},
   "outputs": [
    {
     "name": "stdout",
     "output_type": "stream",
     "text": [
      "[1, 4, 9, 16, 25, 36, 49, 64]\n"
     ]
    }
   ],
   "source": [
    "squares = [0, 1, 4, 9, 16, 25, 36, 49, 64, 81]\n",
    "print(squares[1:-1])"
   ]
  },
  {
   "cell_type": "markdown",
   "metadata": {},
   "source": [
    "- If a negative value is used for the step, the slice is done backwards.\n",
    "- Using **[ : :-1]** as a slice is a common and idiomatic way to reverse a list."
   ]
  },
  {
   "cell_type": "markdown",
   "metadata": {},
   "source": [
    "## List comprehensions\n",
    "- List comprehensions are a useful way of quickly creating lists whose contents obey a simple rule.\n",
    "- For example, we can do the following:\u0000"
   ]
  },
  {
   "cell_type": "code",
   "execution_count": 22,
   "metadata": {},
   "outputs": [
    {
     "name": "stdout",
     "output_type": "stream",
     "text": [
      "[0, 1, 8, 27, 64]\n"
     ]
    }
   ],
   "source": [
    "# a list comprehension\n",
    "cubes = [i**3 for i in range(5)]\n",
    "print(cubes)"
   ]
  },
  {
   "cell_type": "markdown",
   "metadata": {},
   "source": [
    "- A list comprehension can also contain an **if** statement to enforce a condition on values in the list.\n",
    "- Example:"
   ]
  },
  {
   "cell_type": "code",
   "execution_count": 23,
   "metadata": {},
   "outputs": [
    {
     "name": "stdout",
     "output_type": "stream",
     "text": [
      "[0, 4, 16, 36, 64]\n"
     ]
    }
   ],
   "source": [
    "evens=[i**2 for i in range(10) if i % 2 == 0]\n",
    "print(evens)"
   ]
  },
  {
   "cell_type": "markdown",
   "metadata": {},
   "source": [
    "## None\n",
    "- The **None** object is used to represent the absence of a value. It is similar to **null** in other programming languages.\n",
    "- Like other \"empty\" values, such as 0, [] and the empty string \"\", it is False when converted to a Boolean variable."
   ]
  },
  {
   "cell_type": "code",
   "execution_count": 26,
   "metadata": {},
   "outputs": [
    {
     "data": {
      "text/plain": [
       "True"
      ]
     },
     "execution_count": 26,
     "metadata": {},
     "output_type": "execute_result"
    }
   ],
   "source": [
    "None == None"
   ]
  },
  {
   "cell_type": "code",
   "execution_count": 30,
   "metadata": {},
   "outputs": [
    {
     "name": "stdout",
     "output_type": "stream",
     "text": [
      "False\n"
     ]
    }
   ],
   "source": [
    "a = bool(None)\n",
    "print(a)"
   ]
  },
  {
   "cell_type": "markdown",
   "metadata": {},
   "source": [
    "- The None object is returned by any function that doesn't explicitly return anything else."
   ]
  },
  {
   "cell_type": "code",
   "execution_count": 32,
   "metadata": {},
   "outputs": [
    {
     "name": "stdout",
     "output_type": "stream",
     "text": [
      "Hi!\n",
      "None\n"
     ]
    }
   ],
   "source": [
    "def some_func():\n",
    "   print(\"Hi!\")\n",
    "\n",
    "var = some_func()\n",
    "print(var)"
   ]
  },
  {
   "cell_type": "markdown",
   "metadata": {},
   "source": [
    "## Dictionaries\n",
    "- Dictionaries are data structures used to map arbitrary keys to values. they are created using braces {}\n",
    "- Lists can be thought of as dictionaries with integer keys within a certain range.\n",
    "- Dictionaries can be indexed in the same way as lists, using square brackets containing keys.\n",
    "- Example:"
   ]
  },
  {
   "cell_type": "code",
   "execution_count": 7,
   "metadata": {},
   "outputs": [
    {
     "name": "stdout",
     "output_type": "stream",
     "text": [
      "24\n",
      "42\n"
     ]
    },
    {
     "data": {
      "text/plain": [
       "dict"
      ]
     },
     "execution_count": 7,
     "metadata": {},
     "output_type": "execute_result"
    }
   ],
   "source": [
    "ages = {\"Dave\": 24, \"Mary\": 42, \"John\": 58}\n",
    "print(ages[\"Dave\"])\n",
    "print(ages[\"Mary\"])\n",
    "type(ages)"
   ]
  },
  {
   "cell_type": "markdown",
   "metadata": {},
   "source": [
    "- Each element in a dictionary is represented by a **key : value** pair."
   ]
  },
  {
   "cell_type": "markdown",
   "metadata": {},
   "source": [
    "## Tuples\n",
    "- Tuples are very similar to lists, except that they are immutable (they cannot be changed).\n",
    "- Also, they are created using parentheses, rather than square brackets:"
   ]
  },
  {
   "cell_type": "code",
   "execution_count": 6,
   "metadata": {},
   "outputs": [
    {
     "name": "stdout",
     "output_type": "stream",
     "text": [
      "spam\n"
     ]
    },
    {
     "data": {
      "text/plain": [
       "tuple"
      ]
     },
     "execution_count": 6,
     "metadata": {},
     "output_type": "execute_result"
    }
   ],
   "source": [
    "words = (\"spam\", \"eggs\", \"sausages\")\n",
    "print(words[0])\n",
    "type(words)"
   ]
  },
  {
   "cell_type": "markdown",
   "metadata": {},
   "source": [
    "- Tuples can be created also without the parentheses, by just separating the values with commas.\n",
    "- Example:"
   ]
  },
  {
   "cell_type": "code",
   "execution_count": 8,
   "metadata": {},
   "outputs": [
    {
     "name": "stdout",
     "output_type": "stream",
     "text": [
      "one\n"
     ]
    }
   ],
   "source": [
    "my_tuple = \"one\", \"two\", \"three\"\n",
    "print(my_tuple[0])"
   ]
  },
  {
   "cell_type": "markdown",
   "metadata": {},
   "source": [
    "- An empty tuple is created using an empty parenthesis pair: **tpl = ()**\n",
    "- Tuples are faster than lists, but they cannot be changed.\n",
    "- Slicing can also be done on tuples."
   ]
  },
  {
   "cell_type": "markdown",
   "metadata": {},
   "source": [
    "## Suggested books & material\n",
    "Hans Petter Langtangen:\n",
    "- A Primer on Scientific Programming with Python\n",
    "- Python Scripting for Computational Science"
   ]
  }
 ],
 "metadata": {
  "kernelspec": {
   "display_name": "Python 3",
   "language": "python",
   "name": "python3"
  },
  "language_info": {
   "codemirror_mode": {
    "name": "ipython",
    "version": 3
   },
   "file_extension": ".py",
   "mimetype": "text/x-python",
   "name": "python",
   "nbconvert_exporter": "python",
   "pygments_lexer": "ipython3",
   "version": "3.8.5"
  }
 },
 "nbformat": 4,
 "nbformat_minor": 2
}
