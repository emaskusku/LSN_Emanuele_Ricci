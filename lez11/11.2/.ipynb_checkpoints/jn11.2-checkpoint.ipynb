{
 "cells": [
  {
   "cell_type": "markdown",
   "metadata": {},
   "source": [
    "# Es 11.2"
   ]
  },
  {
   "cell_type": "markdown",
   "metadata": {},
   "source": [
    "Proverò a sperimentare più reti per risolvere il problema."
   ]
  },
  {
   "cell_type": "code",
   "execution_count": 16,
   "metadata": {},
   "outputs": [],
   "source": [
    "# target parameters\n",
    "a = 4 \n",
    "b = -3\n",
    "c = -2\n",
    "d = 3"
   ]
  },
  {
   "cell_type": "code",
   "execution_count": 17,
   "metadata": {},
   "outputs": [],
   "source": [
    "import numpy as np\n",
    "\n",
    "# generate training inputs\n",
    "np.random.seed(0)\n",
    "x_train = np.random.uniform(-1, 1, 1000)\n",
    "x_valid = np.random.uniform(-1, 1, 100)\n",
    "x_valid.sort()\n",
    "y_target = a + b*x_valid + c*x_valid**2 + d*x_valid**3 # ideal (target) linear function\n",
    "\n",
    "sigma = 0.5 # noise standard deviation, for the moment it is absent\n",
    "y_train = np.random.normal(a + b*x_train + c*x_train**2 + d*x_train**3, sigma) # actual measures from which we want to guess regression parameters\n",
    "y_valid = np.random.normal(a + b*x_valid + c*x_valid**2 + d*x_valid**3, sigma)\n",
    "\n"
   ]
  },
  {
   "cell_type": "code",
   "execution_count": 18,
   "metadata": {},
   "outputs": [
    {
     "data": {
      "image/png": "[encoded data removed]",
      "text/plain": [
       "<Figure size 432x288 with 1 Axes>"
      ]
     },
     "metadata": {
      "needs_background": "light"
     },
     "output_type": "display_data"
    }
   ],
   "source": [
    "# plot training and target dataset\n",
    "import matplotlib.pyplot as plt\n",
    "plt.plot(x_valid, y_target)\n",
    "plt.scatter(x_valid, y_valid, color='r')\n",
    "plt.grid(True); plt.show()"
   ]
  },
  {
   "cell_type": "markdown",
   "metadata": {},
   "source": [
    "## NN #1"
   ]
  },
  {
   "cell_type": "code",
   "execution_count": 4,
   "metadata": {},
   "outputs": [],
   "source": [
    "# compose the NN model\n",
    "import tensorflow as tf\n",
    "from tensorflow import keras\n",
    "\n",
    "from tensorflow.keras.models import Sequential\n",
    "from tensorflow.keras.layers import Dense, Activation\n",
    "from tensorflow.keras import backend as K\n",
    "from tensorflow.keras.utils import get_custom_objects\n",
    "from tensorflow.keras import optimizers, losses, metrics\n",
    "\n",
    "model = tf.keras.Sequential()\n",
    "model.add(Dense(1, input_shape=(1,)))\n",
    "model.add(Dense(2, input_shape=(1,),activation='relu'))\n",
    "model.add(Dense(4, input_shape=(1,),activation='relu'))\n",
    "model.add(Dense(8, input_shape=(1,),activation='relu'))\n",
    "model.add(Dense(16, input_shape=(1,),activation='relu'))\n",
    "model.add(Dense(8, input_shape=(1,),activation='relu'))\n",
    "model.add(Dense(4, input_shape=(1,),activation='relu'))\n",
    "model.add(Dense(2, input_shape=(1,),activation='relu'))\n",
    "model.add(Dense(1, input_shape=(1,),activation='relu'))\n",
    "# compile the model choosing optimizer, loss and metrics objects\n",
    "model.compile(optimizer='sgd', loss='mse', metrics=['mse'])\n",
    "#model.compile(optimizer='sgd', loss=losses.categorical_crossentropy, metrics=['mse'])\n",
    "from tensorflow.keras import optimizers, losses, metrics\n",
    "\n",
    "# Configure the model for mean-squared error regression.\n",
    "#model.compile(optimizer=optimizers.SGD(),             #optimizer='sgd',       # stochastic gradient descent\n",
    "              #loss=losses.categorical_crossentropy,\n",
    "              #metrics=[metrics.categorical_accuracy]) #metrics=['accuracy'])  # an optional list of metrics"
   ]
  },
  {
   "cell_type": "code",
   "execution_count": 5,
   "metadata": {},
   "outputs": [
    {
     "name": "stdout",
     "output_type": "stream",
     "text": [
      "Model: \"sequential\"\n",
      "_________________________________________________________________\n",
      "Layer (type)                 Output Shape              Param #   \n",
      "=================================================================\n",
      "dense (Dense)                (None, 1)                 2         \n",
      "_________________________________________________________________\n",
      "dense_1 (Dense)              (None, 2)                 4         \n",
      "_________________________________________________________________\n",
      "dense_2 (Dense)              (None, 4)                 12        \n",
      "_________________________________________________________________\n",
      "dense_3 (Dense)              (None, 8)                 40        \n",
      "_________________________________________________________________\n",
      "dense_4 (Dense)              (None, 16)                144       \n",
      "_________________________________________________________________\n",
      "dense_5 (Dense)              (None, 8)                 136       \n",
      "_________________________________________________________________\n",
      "dense_6 (Dense)              (None, 4)                 36        \n",
      "_________________________________________________________________\n",
      "dense_7 (Dense)              (None, 2)                 10        \n",
      "_________________________________________________________________\n",
      "dense_8 (Dense)              (None, 1)                 3         \n",
      "=================================================================\n",
      "Total params: 387\n",
      "Trainable params: 387\n",
      "Non-trainable params: 0\n",
      "_________________________________________________________________\n"
     ]
    }
   ],
   "source": [
    "model.summary()"
   ]
  },
  {
   "cell_type": "code",
   "execution_count": 7,
   "metadata": {
    "scrolled": true
   },
   "outputs": [
    {
     "name": "stdout",
     "output_type": "stream",
     "text": [
      "Epoch 1/50\n",
      "32/32 [==============================] - 0s 3ms/step - loss: 0.2474 - mse: 0.2474 - val_loss: 0.2171 - val_mse: 0.2171\n",
      "Epoch 2/50\n",
      "32/32 [==============================] - 0s 4ms/step - loss: 0.2462 - mse: 0.2462 - val_loss: 0.2110 - val_mse: 0.2110\n",
      "Epoch 3/50\n",
      "32/32 [==============================] - 0s 3ms/step - loss: 0.2420 - mse: 0.2420 - val_loss: 0.2180 - val_mse: 0.2180\n",
      "Epoch 4/50\n",
      "32/32 [==============================] - 0s 2ms/step - loss: 0.2509 - mse: 0.2509 - val_loss: 0.2268 - val_mse: 0.2268\n",
      "Epoch 5/50\n",
      "32/32 [==============================] - 0s 3ms/step - loss: 0.2488 - mse: 0.2488 - val_loss: 0.2385 - val_mse: 0.2385\n",
      "Epoch 6/50\n",
      "32/32 [==============================] - 0s 2ms/step - loss: 0.2416 - mse: 0.2416 - val_loss: 0.2259 - val_mse: 0.2259\n",
      "Epoch 7/50\n",
      "32/32 [==============================] - 0s 3ms/step - loss: 0.2515 - mse: 0.2515 - val_loss: 0.2164 - val_mse: 0.2164\n",
      "Epoch 8/50\n",
      "32/32 [==============================] - 0s 2ms/step - loss: 0.2480 - mse: 0.2480 - val_loss: 0.2198 - val_mse: 0.2198\n",
      "Epoch 9/50\n",
      "32/32 [==============================] - 0s 2ms/step - loss: 0.2494 - mse: 0.2494 - val_loss: 0.2357 - val_mse: 0.2357\n",
      "Epoch 10/50\n",
      "32/32 [==============================] - 0s 2ms/step - loss: 0.2473 - mse: 0.2473 - val_loss: 0.2159 - val_mse: 0.2159\n",
      "Epoch 11/50\n",
      "32/32 [==============================] - 0s 2ms/step - loss: 0.2511 - mse: 0.2511 - val_loss: 0.2159 - val_mse: 0.2159\n",
      "Epoch 12/50\n",
      "32/32 [==============================] - 0s 2ms/step - loss: 0.2490 - mse: 0.2490 - val_loss: 0.2102 - val_mse: 0.2102\n",
      "Epoch 13/50\n",
      "32/32 [==============================] - 0s 2ms/step - loss: 0.2525 - mse: 0.2525 - val_loss: 0.2308 - val_mse: 0.2308\n",
      "Epoch 14/50\n",
      "32/32 [==============================] - 0s 2ms/step - loss: 0.2435 - mse: 0.2435 - val_loss: 0.2382 - val_mse: 0.2382\n",
      "Epoch 15/50\n",
      "32/32 [==============================] - 0s 2ms/step - loss: 0.2510 - mse: 0.2510 - val_loss: 0.2248 - val_mse: 0.2248\n",
      "Epoch 16/50\n",
      "32/32 [==============================] - 0s 2ms/step - loss: 0.2448 - mse: 0.2448 - val_loss: 0.2326 - val_mse: 0.2326\n",
      "Epoch 17/50\n",
      "32/32 [==============================] - 0s 2ms/step - loss: 0.2466 - mse: 0.2466 - val_loss: 0.3100 - val_mse: 0.3100\n",
      "Epoch 18/50\n",
      "32/32 [==============================] - 0s 2ms/step - loss: 0.2474 - mse: 0.2474 - val_loss: 0.2681 - val_mse: 0.2681\n",
      "Epoch 19/50\n",
      "32/32 [==============================] - 0s 2ms/step - loss: 0.2447 - mse: 0.2447 - val_loss: 0.4768 - val_mse: 0.4768\n",
      "Epoch 20/50\n",
      "32/32 [==============================] - 0s 2ms/step - loss: 0.2589 - mse: 0.2589 - val_loss: 0.2449 - val_mse: 0.2449\n",
      "Epoch 21/50\n",
      "32/32 [==============================] - 0s 2ms/step - loss: 0.2505 - mse: 0.2505 - val_loss: 0.2194 - val_mse: 0.2194\n",
      "Epoch 22/50\n",
      "32/32 [==============================] - 0s 2ms/step - loss: 0.2439 - mse: 0.2439 - val_loss: 0.2167 - val_mse: 0.2167\n",
      "Epoch 23/50\n",
      "32/32 [==============================] - 0s 2ms/step - loss: 0.2522 - mse: 0.2522 - val_loss: 0.2096 - val_mse: 0.2096\n",
      "Epoch 24/50\n",
      "32/32 [==============================] - 0s 2ms/step - loss: 0.2477 - mse: 0.2477 - val_loss: 0.2466 - val_mse: 0.2466\n",
      "Epoch 25/50\n",
      "32/32 [==============================] - 0s 2ms/step - loss: 0.2446 - mse: 0.2446 - val_loss: 0.2145 - val_mse: 0.2145\n",
      "Epoch 26/50\n",
      "32/32 [==============================] - 0s 2ms/step - loss: 0.2465 - mse: 0.2465 - val_loss: 0.2309 - val_mse: 0.2309\n",
      "Epoch 27/50\n",
      "32/32 [==============================] - 0s 2ms/step - loss: 0.2440 - mse: 0.2440 - val_loss: 0.2161 - val_mse: 0.2161\n",
      "Epoch 28/50\n",
      "32/32 [==============================] - 0s 1ms/step - loss: 0.2426 - mse: 0.2426 - val_loss: 0.2100 - val_mse: 0.2100\n",
      "Epoch 29/50\n",
      "32/32 [==============================] - 0s 2ms/step - loss: 0.2401 - mse: 0.2401 - val_loss: 0.2201 - val_mse: 0.2201\n",
      "Epoch 30/50\n",
      "32/32 [==============================] - 0s 3ms/step - loss: 0.2471 - mse: 0.2471 - val_loss: 0.2415 - val_mse: 0.2415\n",
      "Epoch 31/50\n",
      "32/32 [==============================] - 0s 2ms/step - loss: 0.2461 - mse: 0.2461 - val_loss: 0.2856 - val_mse: 0.2856\n",
      "Epoch 32/50\n",
      "32/32 [==============================] - 0s 3ms/step - loss: 0.2455 - mse: 0.2455 - val_loss: 0.2119 - val_mse: 0.2119\n",
      "Epoch 33/50\n",
      "32/32 [==============================] - 0s 3ms/step - loss: 0.2460 - mse: 0.2460 - val_loss: 0.2600 - val_mse: 0.2600\n",
      "Epoch 34/50\n",
      "32/32 [==============================] - 0s 2ms/step - loss: 0.2424 - mse: 0.2424 - val_loss: 0.3859 - val_mse: 0.3859\n",
      "Epoch 35/50\n",
      "32/32 [==============================] - 0s 2ms/step - loss: 0.2538 - mse: 0.2538 - val_loss: 0.2452 - val_mse: 0.2452\n",
      "Epoch 36/50\n",
      "32/32 [==============================] - 0s 2ms/step - loss: 0.2465 - mse: 0.2465 - val_loss: 0.4359 - val_mse: 0.4359\n",
      "Epoch 37/50\n",
      "32/32 [==============================] - 0s 2ms/step - loss: 0.2483 - mse: 0.2483 - val_loss: 0.3416 - val_mse: 0.3416\n",
      "Epoch 38/50\n",
      "32/32 [==============================] - 0s 2ms/step - loss: 0.2436 - mse: 0.2436 - val_loss: 0.2197 - val_mse: 0.2197\n",
      "Epoch 39/50\n",
      "32/32 [==============================] - 0s 3ms/step - loss: 0.2497 - mse: 0.2497 - val_loss: 0.4112 - val_mse: 0.4112\n",
      "Epoch 40/50\n",
      "32/32 [==============================] - 0s 3ms/step - loss: 0.2530 - mse: 0.2530 - val_loss: 0.2906 - val_mse: 0.2906\n",
      "Epoch 41/50\n",
      "32/32 [==============================] - 0s 2ms/step - loss: 0.2432 - mse: 0.2432 - val_loss: 0.3246 - val_mse: 0.3246\n",
      "Epoch 42/50\n",
      "32/32 [==============================] - 0s 2ms/step - loss: 0.2520 - mse: 0.2520 - val_loss: 0.2411 - val_mse: 0.2411\n",
      "Epoch 43/50\n",
      "32/32 [==============================] - 0s 3ms/step - loss: 0.2453 - mse: 0.2453 - val_loss: 0.2413 - val_mse: 0.2413\n",
      "Epoch 44/50\n",
      "32/32 [==============================] - 0s 2ms/step - loss: 0.2423 - mse: 0.2423 - val_loss: 0.2278 - val_mse: 0.2278\n",
      "Epoch 45/50\n",
      "32/32 [==============================] - 0s 2ms/step - loss: 0.2485 - mse: 0.2485 - val_loss: 0.2230 - val_mse: 0.2230\n",
      "Epoch 46/50\n",
      "32/32 [==============================] - 0s 1ms/step - loss: 0.2488 - mse: 0.2488 - val_loss: 0.3443 - val_mse: 0.3443\n",
      "Epoch 47/50\n",
      "32/32 [==============================] - 0s 2ms/step - loss: 0.2479 - mse: 0.2479 - val_loss: 0.2420 - val_mse: 0.2420\n",
      "Epoch 48/50\n",
      "32/32 [==============================] - 0s 2ms/step - loss: 0.2427 - mse: 0.2427 - val_loss: 0.2458 - val_mse: 0.2458\n",
      "Epoch 49/50\n",
      "32/32 [==============================] - 0s 2ms/step - loss: 0.2464 - mse: 0.2464 - val_loss: 0.2220 - val_mse: 0.2220\n",
      "Epoch 50/50\n",
      "32/32 [==============================] - 0s 2ms/step - loss: 0.2449 - mse: 0.2449 - val_loss: 0.2503 - val_mse: 0.2503\n"
     ]
    }
   ],
   "source": [
    "history = model.fit(x=x_train, y=y_train, \n",
    "          batch_size=32, epochs=50,\n",
    "          shuffle=True, # a good idea is to shuffle input before at each epoch\n",
    "          validation_data=(x_valid, y_valid))"
   ]
  },
  {
   "cell_type": "code",
   "execution_count": 8,
   "metadata": {},
   "outputs": [
    {
     "name": "stdout",
     "output_type": "stream",
     "text": [
      "4/4 [==============================] - 0s 2ms/step - loss: 0.2503 - mse: 0.2503\n",
      "\n",
      "Test loss: 0.25027918815612793\n",
      "Test accuracy: 0.25027918815612793\n"
     ]
    },
    {
     "data": {
      "image/png": "[encoded data removed]",
      "text/plain": [
       "<Figure size 432x288 with 1 Axes>"
      ]
     },
     "metadata": {
      "needs_background": "light"
     },
     "output_type": "display_data"
    }
   ],
   "source": [
    "#model.evaluate(x_valid, y_valid, batch_size=32)\n",
    "# evaluate model\n",
    "score = model.evaluate(x_valid, y_valid, batch_size=32, verbose=1)\n",
    "\n",
    "# print performance\n",
    "print()\n",
    "print('Test loss:', score[0])\n",
    "print('Test accuracy:', score[1])\n",
    "\n",
    "# look into training history\n",
    "\n",
    "# summarize history for loss\n",
    "plt.plot(history.history['loss'])\n",
    "plt.plot(history.history['val_loss'])\n",
    "plt.ylabel('model loss')\n",
    "plt.xlabel('epoch')\n",
    "plt.legend(['train', 'test/validation'], loc='best')\n",
    "plt.show()"
   ]
  },
  {
   "cell_type": "code",
   "execution_count": 9,
   "metadata": {},
   "outputs": [
    {
     "data": {
      "image/png": "[encoded data removed]",
      "text/plain": [
       "<Figure size 432x288 with 1 Axes>"
      ]
     },
     "metadata": {
      "needs_background": "light"
     },
     "output_type": "display_data"
    }
   ],
   "source": [
    "x_predicted = np.random.uniform(-1, 1, 100)\n",
    "y_predicted = model.predict(x_predicted)\n",
    "plt.scatter(x_predicted, y_predicted,color='r')\n",
    "plt.plot(x_valid, y_target)\n",
    "plt.grid(True)\n",
    "plt.show()\n",
    "\n"
   ]
  },
  {
   "cell_type": "markdown",
   "metadata": {},
   "source": [
    "La rete si dimostra abbastanza capace di fittare il modello, i valori di loss e accuracy sono discreti."
   ]
  },
  {
   "cell_type": "markdown",
   "metadata": {},
   "source": [
    "## NN #2"
   ]
  },
  {
   "cell_type": "code",
   "execution_count": 19,
   "metadata": {},
   "outputs": [],
   "source": [
    "# compose the NN model\n",
    "import tensorflow as tf\n",
    "from tensorflow import keras\n",
    "\n",
    "from tensorflow.keras.models import Sequential\n",
    "from tensorflow.keras.layers import Dense, Activation\n",
    "from tensorflow.keras import backend as K\n",
    "from tensorflow.keras.utils import get_custom_objects\n",
    "from tensorflow.keras import optimizers, losses, metrics\n",
    "\n",
    "model = tf.keras.Sequential()\n",
    "model.add(Dense(20, input_shape=(1,),activation='relu'))\n",
    "model.add(Dense(15, input_shape=(1,),activation='relu'))\n",
    "model.add(Dense(10, input_shape=(1,),activation='relu'))\n",
    "model.add(Dense(1, input_shape=(1,),activation='relu'))\n",
    "# compile the model choosing optimizer, loss and metrics objects\n",
    "model.compile(optimizer='sgd', loss='mse', metrics=['mse'])\n",
    "#model.compile(optimizer='sgd', loss=losses.categorical_crossentropy, metrics=['mse'])\n",
    "from tensorflow.keras import optimizers, losses, metrics\n",
    "\n",
    "# Configure the model for mean-squared error regression.\n",
    "#model.compile(optimizer=optimizers.SGD(),             #optimizer='sgd',       # stochastic gradient descent\n",
    "              #loss=losses.categorical_crossentropy,\n",
    "              #metrics=[metrics.categorical_accuracy]) #metrics=['accuracy'])  # an optional list of metrics"
   ]
  },
  {
   "cell_type": "code",
   "execution_count": 20,
   "metadata": {},
   "outputs": [
    {
     "name": "stdout",
     "output_type": "stream",
     "text": [
      "Model: \"sequential_3\"\n",
      "_________________________________________________________________\n",
      "Layer (type)                 Output Shape              Param #   \n",
      "=================================================================\n",
      "dense_17 (Dense)             (None, 20)                40        \n",
      "_________________________________________________________________\n",
      "dense_18 (Dense)             (None, 15)                315       \n",
      "_________________________________________________________________\n",
      "dense_19 (Dense)             (None, 10)                160       \n",
      "_________________________________________________________________\n",
      "dense_20 (Dense)             (None, 1)                 11        \n",
      "=================================================================\n",
      "Total params: 526\n",
      "Trainable params: 526\n",
      "Non-trainable params: 0\n",
      "_________________________________________________________________\n"
     ]
    }
   ],
   "source": [
    "model.summary()"
   ]
  },
  {
   "cell_type": "code",
   "execution_count": 21,
   "metadata": {},
   "outputs": [
    {
     "name": "stdout",
     "output_type": "stream",
     "text": [
      "Epoch 1/50\n",
      "32/32 [==============================] - 1s 8ms/step - loss: 3.8758 - mse: 3.8758 - val_loss: 0.9665 - val_mse: 0.9665\n",
      "Epoch 2/50\n",
      "32/32 [==============================] - 0s 1ms/step - loss: 0.8253 - mse: 0.8253 - val_loss: 0.9680 - val_mse: 0.9680\n",
      "Epoch 3/50\n",
      "32/32 [==============================] - 0s 2ms/step - loss: 0.7046 - mse: 0.7046 - val_loss: 0.7953 - val_mse: 0.7953\n",
      "Epoch 4/50\n",
      "32/32 [==============================] - 0s 2ms/step - loss: 0.6317 - mse: 0.6317 - val_loss: 0.8021 - val_mse: 0.8021\n",
      "Epoch 5/50\n",
      "32/32 [==============================] - 0s 2ms/step - loss: 0.5878 - mse: 0.5878 - val_loss: 0.6555 - val_mse: 0.6555\n",
      "Epoch 6/50\n",
      "32/32 [==============================] - 0s 2ms/step - loss: 0.5254 - mse: 0.5254 - val_loss: 0.6150 - val_mse: 0.6150\n",
      "Epoch 7/50\n",
      "32/32 [==============================] - 0s 2ms/step - loss: 0.4753 - mse: 0.4753 - val_loss: 0.5361 - val_mse: 0.5361\n",
      "Epoch 8/50\n",
      "32/32 [==============================] - 0s 2ms/step - loss: 0.4398 - mse: 0.4398 - val_loss: 0.5077 - val_mse: 0.5077\n",
      "Epoch 9/50\n",
      "32/32 [==============================] - 0s 2ms/step - loss: 0.4044 - mse: 0.4044 - val_loss: 0.4462 - val_mse: 0.4462\n",
      "Epoch 10/50\n",
      "32/32 [==============================] - 0s 2ms/step - loss: 0.3773 - mse: 0.3773 - val_loss: 0.4163 - val_mse: 0.4163\n",
      "Epoch 11/50\n",
      "32/32 [==============================] - 0s 2ms/step - loss: 0.3539 - mse: 0.3539 - val_loss: 0.3657 - val_mse: 0.3657\n",
      "Epoch 12/50\n",
      "32/32 [==============================] - 0s 2ms/step - loss: 0.3349 - mse: 0.3349 - val_loss: 0.3423 - val_mse: 0.3423\n",
      "Epoch 13/50\n",
      "32/32 [==============================] - 0s 2ms/step - loss: 0.3180 - mse: 0.3180 - val_loss: 0.3602 - val_mse: 0.3602\n",
      "Epoch 14/50\n",
      "32/32 [==============================] - 0s 2ms/step - loss: 0.3047 - mse: 0.3047 - val_loss: 0.2938 - val_mse: 0.2938\n",
      "Epoch 15/50\n",
      "32/32 [==============================] - 0s 2ms/step - loss: 0.2945 - mse: 0.2945 - val_loss: 0.2806 - val_mse: 0.2806\n",
      "Epoch 16/50\n",
      "32/32 [==============================] - 0s 1ms/step - loss: 0.2888 - mse: 0.2888 - val_loss: 0.2765 - val_mse: 0.2765\n",
      "Epoch 17/50\n",
      "32/32 [==============================] - 0s 2ms/step - loss: 0.2816 - mse: 0.2816 - val_loss: 0.2894 - val_mse: 0.2894\n",
      "Epoch 18/50\n",
      "32/32 [==============================] - 0s 2ms/step - loss: 0.2798 - mse: 0.2798 - val_loss: 0.2521 - val_mse: 0.2521\n",
      "Epoch 19/50\n",
      "32/32 [==============================] - 0s 2ms/step - loss: 0.2709 - mse: 0.2709 - val_loss: 0.2542 - val_mse: 0.2542\n",
      "Epoch 20/50\n",
      "32/32 [==============================] - 0s 2ms/step - loss: 0.2675 - mse: 0.2675 - val_loss: 0.2625 - val_mse: 0.2625\n",
      "Epoch 21/50\n",
      "32/32 [==============================] - 0s 3ms/step - loss: 0.2689 - mse: 0.2689 - val_loss: 0.2718 - val_mse: 0.2718\n",
      "Epoch 22/50\n",
      "32/32 [==============================] - 0s 2ms/step - loss: 0.2696 - mse: 0.2696 - val_loss: 0.2800 - val_mse: 0.2800\n",
      "Epoch 23/50\n",
      "32/32 [==============================] - 0s 3ms/step - loss: 0.2598 - mse: 0.2598 - val_loss: 0.2312 - val_mse: 0.2312\n",
      "Epoch 24/50\n",
      "32/32 [==============================] - 0s 3ms/step - loss: 0.2596 - mse: 0.2596 - val_loss: 0.2682 - val_mse: 0.2682\n",
      "Epoch 25/50\n",
      "32/32 [==============================] - 0s 3ms/step - loss: 0.2606 - mse: 0.2606 - val_loss: 0.2482 - val_mse: 0.2482\n",
      "Epoch 26/50\n",
      "32/32 [==============================] - 0s 3ms/step - loss: 0.2569 - mse: 0.2569 - val_loss: 0.2616 - val_mse: 0.2616\n",
      "Epoch 27/50\n",
      "32/32 [==============================] - 0s 2ms/step - loss: 0.2603 - mse: 0.2603 - val_loss: 0.2302 - val_mse: 0.2302\n",
      "Epoch 28/50\n",
      "32/32 [==============================] - 0s 2ms/step - loss: 0.2581 - mse: 0.2581 - val_loss: 0.2287 - val_mse: 0.2287\n",
      "Epoch 29/50\n",
      "32/32 [==============================] - 0s 2ms/step - loss: 0.2565 - mse: 0.2565 - val_loss: 0.2938 - val_mse: 0.2938\n",
      "Epoch 30/50\n",
      "32/32 [==============================] - 0s 2ms/step - loss: 0.2534 - mse: 0.2534 - val_loss: 0.2229 - val_mse: 0.2229\n",
      "Epoch 31/50\n",
      "32/32 [==============================] - 0s 3ms/step - loss: 0.2520 - mse: 0.2520 - val_loss: 0.2199 - val_mse: 0.2199\n",
      "Epoch 32/50\n",
      "32/32 [==============================] - 0s 4ms/step - loss: 0.2514 - mse: 0.2514 - val_loss: 0.2339 - val_mse: 0.2339\n",
      "Epoch 33/50\n",
      "32/32 [==============================] - 0s 4ms/step - loss: 0.2488 - mse: 0.2488 - val_loss: 0.2292 - val_mse: 0.2292\n",
      "Epoch 34/50\n",
      "32/32 [==============================] - 0s 2ms/step - loss: 0.2482 - mse: 0.2482 - val_loss: 0.2417 - val_mse: 0.2417\n",
      "Epoch 35/50\n",
      "32/32 [==============================] - 0s 3ms/step - loss: 0.2511 - mse: 0.2511 - val_loss: 0.2892 - val_mse: 0.2892\n",
      "Epoch 36/50\n",
      "32/32 [==============================] - 0s 3ms/step - loss: 0.2537 - mse: 0.2537 - val_loss: 0.2433 - val_mse: 0.2433\n",
      "Epoch 37/50\n",
      "32/32 [==============================] - 0s 4ms/step - loss: 0.2491 - mse: 0.2491 - val_loss: 0.2297 - val_mse: 0.2297\n",
      "Epoch 38/50\n",
      "32/32 [==============================] - 0s 3ms/step - loss: 0.2457 - mse: 0.2457 - val_loss: 0.2337 - val_mse: 0.2337\n",
      "Epoch 39/50\n",
      "32/32 [==============================] - 0s 3ms/step - loss: 0.2497 - mse: 0.2497 - val_loss: 0.2282 - val_mse: 0.2282\n",
      "Epoch 40/50\n",
      "32/32 [==============================] - 0s 1ms/step - loss: 0.2473 - mse: 0.2473 - val_loss: 0.2740 - val_mse: 0.2740\n",
      "Epoch 41/50\n",
      "32/32 [==============================] - 0s 2ms/step - loss: 0.2453 - mse: 0.2453 - val_loss: 0.2994 - val_mse: 0.2994\n",
      "Epoch 42/50\n",
      "32/32 [==============================] - 0s 2ms/step - loss: 0.2463 - mse: 0.2463 - val_loss: 0.2143 - val_mse: 0.2143\n",
      "Epoch 43/50\n",
      "32/32 [==============================] - 0s 2ms/step - loss: 0.2438 - mse: 0.2438 - val_loss: 0.2213 - val_mse: 0.2213\n",
      "Epoch 44/50\n",
      "32/32 [==============================] - 0s 3ms/step - loss: 0.2555 - mse: 0.2555 - val_loss: 0.2880 - val_mse: 0.2880\n",
      "Epoch 45/50\n",
      "32/32 [==============================] - 0s 4ms/step - loss: 0.2487 - mse: 0.2487 - val_loss: 0.2247 - val_mse: 0.2247\n",
      "Epoch 46/50\n",
      "32/32 [==============================] - 0s 4ms/step - loss: 0.2460 - mse: 0.2460 - val_loss: 0.2262 - val_mse: 0.2262\n",
      "Epoch 47/50\n",
      "32/32 [==============================] - 0s 2ms/step - loss: 0.2426 - mse: 0.2426 - val_loss: 0.2144 - val_mse: 0.2144\n",
      "Epoch 48/50\n",
      "32/32 [==============================] - 0s 2ms/step - loss: 0.2454 - mse: 0.2454 - val_loss: 0.2114 - val_mse: 0.2114\n",
      "Epoch 49/50\n",
      "32/32 [==============================] - 0s 3ms/step - loss: 0.2450 - mse: 0.2450 - val_loss: 0.2155 - val_mse: 0.2155\n",
      "Epoch 50/50\n",
      "32/32 [==============================] - 0s 3ms/step - loss: 0.2457 - mse: 0.2457 - val_loss: 0.2096 - val_mse: 0.2096\n"
     ]
    }
   ],
   "source": [
    "# fit the model using training dataset\n",
    "# over 10 epochs of 32 batch size each\n",
    "# report training progress against validation data\n",
    "history = model.fit(x=x_train, y=y_train, \n",
    "          batch_size=32, epochs=50,\n",
    "          shuffle=True, # a good idea is to shuffle input before at each epoch\n",
    "          validation_data=(x_valid, y_valid))"
   ]
  },
  {
   "cell_type": "code",
   "execution_count": 22,
   "metadata": {},
   "outputs": [
    {
     "name": "stdout",
     "output_type": "stream",
     "text": [
      "4/4 [==============================] - 0s 2ms/step - loss: 0.2096 - mse: 0.2096\n",
      "\n",
      "Test loss: 0.2095775604248047\n",
      "Test accuracy: 0.2095775604248047\n"
     ]
    },
    {
     "data": {
      "image/png": "[encoded data removed]",
      "text/plain": [
       "<Figure size 432x288 with 1 Axes>"
      ]
     },
     "metadata": {
      "needs_background": "light"
     },
     "output_type": "display_data"
    }
   ],
   "source": [
    "#model.evaluate(x_valid, y_valid, batch_size=32)\n",
    "# evaluate model\n",
    "score = model.evaluate(x_valid, y_valid, batch_size=32, verbose=1)\n",
    "\n",
    "# print performance\n",
    "print()\n",
    "print('Test loss:', score[0])\n",
    "print('Test accuracy:', score[1])\n",
    "\n",
    "# look into training history\n",
    "\n",
    "# summarize history for loss\n",
    "plt.plot(history.history['loss'])\n",
    "plt.plot(history.history['val_loss'])\n",
    "plt.ylabel('model loss')\n",
    "plt.xlabel('epoch')\n",
    "plt.legend(['train', 'test/validation'], loc='best')\n",
    "plt.show()"
   ]
  },
  {
   "cell_type": "code",
   "execution_count": 23,
   "metadata": {},
   "outputs": [
    {
     "data": {
      "image/png": "[encoded data removed]",
      "text/plain": [
       "<Figure size 432x288 with 1 Axes>"
      ]
     },
     "metadata": {
      "needs_background": "light"
     },
     "output_type": "display_data"
    }
   ],
   "source": [
    "x_predicted = np.random.uniform(-1, 1, 100)\n",
    "y_predicted = model.predict(x_predicted)\n",
    "plt.scatter(x_predicted, y_predicted,color='r')\n",
    "plt.plot(x_valid, y_target)\n",
    "plt.grid(True)\n",
    "plt.show()\n"
   ]
  },
  {
   "cell_type": "markdown",
   "metadata": {},
   "source": [
    "Ho provato a cambiare la disposizione dei neuroni: i valori di loss e il fit sono migliorati."
   ]
  },
  {
   "cell_type": "markdown",
   "metadata": {},
   "source": [
    "## NN #3"
   ]
  },
  {
   "cell_type": "code",
   "execution_count": 24,
   "metadata": {},
   "outputs": [],
   "source": [
    "# compose the NN model\n",
    "import tensorflow as tf\n",
    "from tensorflow import keras\n",
    "\n",
    "from tensorflow.keras.models import Sequential\n",
    "from tensorflow.keras.layers import Dense, Activation\n",
    "from tensorflow.keras import backend as K\n",
    "from tensorflow.keras.utils import get_custom_objects\n",
    "from tensorflow.keras import optimizers, losses, metrics\n",
    "\n",
    "model = tf.keras.Sequential()\n",
    "model.add(Dense(50, input_shape=(1,),activation='relu'))\n",
    "model.add(Dense(1, input_shape=(1,),activation='relu'))\n",
    "# compile the model choosing optimizer, loss and metrics objects\n",
    "model.compile(optimizer='sgd', loss='mse', metrics=['mse'])\n",
    "#model.compile(optimizer='sgd', loss=losses.categorical_crossentropy, metrics=['mse'])\n",
    "from tensorflow.keras import optimizers, losses, metrics\n",
    "\n",
    "# Configure the model for mean-squared error regression.\n",
    "#model.compile(optimizer=optimizers.SGD(),             #optimizer='sgd',       # stochastic gradient descent\n",
    "              #loss=losses.categorical_crossentropy,\n",
    "              #metrics=[metrics.categorical_accuracy]) #metrics=['accuracy'])  # an optional list of metrics"
   ]
  },
  {
   "cell_type": "code",
   "execution_count": 25,
   "metadata": {},
   "outputs": [
    {
     "name": "stdout",
     "output_type": "stream",
     "text": [
      "Model: \"sequential_4\"\n",
      "_________________________________________________________________\n",
      "Layer (type)                 Output Shape              Param #   \n",
      "=================================================================\n",
      "dense_21 (Dense)             (None, 50)                100       \n",
      "_________________________________________________________________\n",
      "dense_22 (Dense)             (None, 1)                 51        \n",
      "=================================================================\n",
      "Total params: 151\n",
      "Trainable params: 151\n",
      "Non-trainable params: 0\n",
      "_________________________________________________________________\n"
     ]
    }
   ],
   "source": [
    "model.summary()"
   ]
  },
  {
   "cell_type": "code",
   "execution_count": 26,
   "metadata": {},
   "outputs": [
    {
     "name": "stdout",
     "output_type": "stream",
     "text": [
      "Epoch 1/50\n",
      "32/32 [==============================] - 0s 4ms/step - loss: 5.8867 - mse: 5.8867 - val_loss: 1.0811 - val_mse: 1.0811\n",
      "Epoch 2/50\n",
      "32/32 [==============================] - 0s 1ms/step - loss: 1.0085 - mse: 1.0085 - val_loss: 0.8807 - val_mse: 0.8807\n",
      "Epoch 3/50\n",
      "32/32 [==============================] - 0s 2ms/step - loss: 0.8161 - mse: 0.8161 - val_loss: 0.8848 - val_mse: 0.8848\n",
      "Epoch 4/50\n",
      "32/32 [==============================] - 0s 2ms/step - loss: 0.7641 - mse: 0.7641 - val_loss: 0.8702 - val_mse: 0.8702\n",
      "Epoch 5/50\n",
      "32/32 [==============================] - 0s 2ms/step - loss: 0.7340 - mse: 0.7340 - val_loss: 0.8643 - val_mse: 0.8643\n",
      "Epoch 6/50\n",
      "32/32 [==============================] - 0s 1ms/step - loss: 0.7111 - mse: 0.7111 - val_loss: 0.8412 - val_mse: 0.8412\n",
      "Epoch 7/50\n",
      "32/32 [==============================] - 0s 2ms/step - loss: 0.6908 - mse: 0.6908 - val_loss: 0.8044 - val_mse: 0.8044\n",
      "Epoch 8/50\n",
      "32/32 [==============================] - 0s 2ms/step - loss: 0.6681 - mse: 0.6681 - val_loss: 0.7789 - val_mse: 0.7789\n",
      "Epoch 9/50\n",
      "32/32 [==============================] - 0s 2ms/step - loss: 0.6488 - mse: 0.6488 - val_loss: 0.7241 - val_mse: 0.7241\n",
      "Epoch 10/50\n",
      "32/32 [==============================] - 0s 2ms/step - loss: 0.6321 - mse: 0.6321 - val_loss: 0.7239 - val_mse: 0.7239\n",
      "Epoch 11/50\n",
      "32/32 [==============================] - 0s 3ms/step - loss: 0.6110 - mse: 0.6110 - val_loss: 0.7172 - val_mse: 0.7172\n",
      "Epoch 12/50\n",
      "32/32 [==============================] - 0s 1ms/step - loss: 0.5914 - mse: 0.5914 - val_loss: 0.7242 - val_mse: 0.7242\n",
      "Epoch 13/50\n",
      "32/32 [==============================] - 0s 2ms/step - loss: 0.5745 - mse: 0.5745 - val_loss: 0.6628 - val_mse: 0.6628\n",
      "Epoch 14/50\n",
      "32/32 [==============================] - 0s 1ms/step - loss: 0.5593 - mse: 0.5593 - val_loss: 0.6592 - val_mse: 0.6592\n",
      "Epoch 15/50\n",
      "32/32 [==============================] - 0s 2ms/step - loss: 0.5392 - mse: 0.5392 - val_loss: 0.5872 - val_mse: 0.5872\n",
      "Epoch 16/50\n",
      "32/32 [==============================] - 0s 2ms/step - loss: 0.5249 - mse: 0.5249 - val_loss: 0.6035 - val_mse: 0.6035\n",
      "Epoch 17/50\n",
      "32/32 [==============================] - 0s 2ms/step - loss: 0.5050 - mse: 0.5050 - val_loss: 0.5932 - val_mse: 0.5932\n",
      "Epoch 18/50\n",
      "32/32 [==============================] - 0s 2ms/step - loss: 0.4886 - mse: 0.4886 - val_loss: 0.5628 - val_mse: 0.5628\n",
      "Epoch 19/50\n",
      "32/32 [==============================] - 0s 2ms/step - loss: 0.4723 - mse: 0.4723 - val_loss: 0.5349 - val_mse: 0.5349\n",
      "Epoch 20/50\n",
      "32/32 [==============================] - 0s 2ms/step - loss: 0.4602 - mse: 0.4602 - val_loss: 0.5067 - val_mse: 0.5067\n",
      "Epoch 21/50\n",
      "32/32 [==============================] - 0s 1ms/step - loss: 0.4467 - mse: 0.4467 - val_loss: 0.4957 - val_mse: 0.4957\n",
      "Epoch 22/50\n",
      "32/32 [==============================] - 0s 2ms/step - loss: 0.4320 - mse: 0.4320 - val_loss: 0.4901 - val_mse: 0.4901\n",
      "Epoch 23/50\n",
      "32/32 [==============================] - 0s 3ms/step - loss: 0.4211 - mse: 0.4211 - val_loss: 0.4773 - val_mse: 0.4773\n",
      "Epoch 24/50\n",
      "32/32 [==============================] - 0s 1ms/step - loss: 0.4111 - mse: 0.4111 - val_loss: 0.4456 - val_mse: 0.4456\n",
      "Epoch 25/50\n",
      "32/32 [==============================] - 0s 3ms/step - loss: 0.3993 - mse: 0.3993 - val_loss: 0.4472 - val_mse: 0.4472\n",
      "Epoch 26/50\n",
      "32/32 [==============================] - 0s 3ms/step - loss: 0.3915 - mse: 0.3915 - val_loss: 0.4175 - val_mse: 0.4175\n",
      "Epoch 27/50\n",
      "32/32 [==============================] - 0s 3ms/step - loss: 0.3837 - mse: 0.3837 - val_loss: 0.4125 - val_mse: 0.4125\n",
      "Epoch 28/50\n",
      "32/32 [==============================] - 0s 3ms/step - loss: 0.3746 - mse: 0.3746 - val_loss: 0.3953 - val_mse: 0.3953\n",
      "Epoch 29/50\n",
      "32/32 [==============================] - 0s 2ms/step - loss: 0.3679 - mse: 0.3679 - val_loss: 0.3977 - val_mse: 0.3977\n",
      "Epoch 30/50\n",
      "32/32 [==============================] - 0s 2ms/step - loss: 0.3612 - mse: 0.3612 - val_loss: 0.3819 - val_mse: 0.3819\n",
      "Epoch 31/50\n",
      "32/32 [==============================] - 0s 2ms/step - loss: 0.3543 - mse: 0.3543 - val_loss: 0.3670 - val_mse: 0.3670\n",
      "Epoch 32/50\n",
      "32/32 [==============================] - 0s 3ms/step - loss: 0.3496 - mse: 0.3496 - val_loss: 0.3642 - val_mse: 0.3642\n",
      "Epoch 33/50\n",
      "32/32 [==============================] - 0s 2ms/step - loss: 0.3436 - mse: 0.3436 - val_loss: 0.3567 - val_mse: 0.3567\n",
      "Epoch 34/50\n",
      "32/32 [==============================] - 0s 2ms/step - loss: 0.3385 - mse: 0.3385 - val_loss: 0.3414 - val_mse: 0.3414\n",
      "Epoch 35/50\n",
      "32/32 [==============================] - 0s 3ms/step - loss: 0.3350 - mse: 0.3350 - val_loss: 0.3541 - val_mse: 0.3541\n",
      "Epoch 36/50\n",
      "32/32 [==============================] - 0s 3ms/step - loss: 0.3304 - mse: 0.3304 - val_loss: 0.3414 - val_mse: 0.3414\n",
      "Epoch 37/50\n",
      "32/32 [==============================] - 0s 3ms/step - loss: 0.3278 - mse: 0.3278 - val_loss: 0.3222 - val_mse: 0.3222\n",
      "Epoch 38/50\n",
      "32/32 [==============================] - 0s 3ms/step - loss: 0.3237 - mse: 0.3237 - val_loss: 0.3203 - val_mse: 0.3203\n",
      "Epoch 39/50\n",
      "32/32 [==============================] - 0s 2ms/step - loss: 0.3201 - mse: 0.3201 - val_loss: 0.3238 - val_mse: 0.3238\n",
      "Epoch 40/50\n",
      "32/32 [==============================] - 0s 1ms/step - loss: 0.3176 - mse: 0.3176 - val_loss: 0.3244 - val_mse: 0.3244\n",
      "Epoch 41/50\n",
      "32/32 [==============================] - 0s 1ms/step - loss: 0.3140 - mse: 0.3140 - val_loss: 0.3122 - val_mse: 0.3122\n",
      "Epoch 42/50\n",
      "32/32 [==============================] - 0s 2ms/step - loss: 0.3113 - mse: 0.3113 - val_loss: 0.3090 - val_mse: 0.3090\n",
      "Epoch 43/50\n",
      "32/32 [==============================] - 0s 1ms/step - loss: 0.3088 - mse: 0.3088 - val_loss: 0.3093 - val_mse: 0.3093\n",
      "Epoch 44/50\n",
      "32/32 [==============================] - 0s 1ms/step - loss: 0.3067 - mse: 0.3067 - val_loss: 0.3049 - val_mse: 0.3049\n",
      "Epoch 45/50\n",
      "32/32 [==============================] - 0s 2ms/step - loss: 0.3026 - mse: 0.3026 - val_loss: 0.2925 - val_mse: 0.2925\n",
      "Epoch 46/50\n",
      "32/32 [==============================] - 0s 2ms/step - loss: 0.3032 - mse: 0.3032 - val_loss: 0.2938 - val_mse: 0.2938\n",
      "Epoch 47/50\n",
      "32/32 [==============================] - 0s 2ms/step - loss: 0.3009 - mse: 0.3009 - val_loss: 0.2996 - val_mse: 0.2996\n",
      "Epoch 48/50\n",
      "32/32 [==============================] - 0s 3ms/step - loss: 0.2986 - mse: 0.2986 - val_loss: 0.2932 - val_mse: 0.2932\n",
      "Epoch 49/50\n",
      "32/32 [==============================] - 0s 1ms/step - loss: 0.2973 - mse: 0.2973 - val_loss: 0.2910 - val_mse: 0.2910\n",
      "Epoch 50/50\n",
      "32/32 [==============================] - 0s 1ms/step - loss: 0.2965 - mse: 0.2965 - val_loss: 0.2919 - val_mse: 0.2919\n"
     ]
    }
   ],
   "source": [
    "# fit the model using training dataset\n",
    "# over 10 epochs of 32 batch size each\n",
    "# report training progress against validation data\n",
    "history = model.fit(x=x_train, y=y_train, \n",
    "          batch_size=32, epochs=50,\n",
    "          shuffle=True, # a good idea is to shuffle input before at each epoch\n",
    "          validation_data=(x_valid, y_valid))"
   ]
  },
  {
   "cell_type": "code",
   "execution_count": 27,
   "metadata": {},
   "outputs": [
    {
     "name": "stdout",
     "output_type": "stream",
     "text": [
      "4/4 [==============================] - 0s 2ms/step - loss: 0.2919 - mse: 0.2919\n",
      "\n",
      "Test loss: 0.2918524444103241\n",
      "Test accuracy: 0.2918524444103241\n"
     ]
    },
    {
     "data": {
      "image/png": "[encoded data removed]",
      "text/plain": [
       "<Figure size 432x288 with 1 Axes>"
      ]
     },
     "metadata": {
      "needs_background": "light"
     },
     "output_type": "display_data"
    }
   ],
   "source": [
    "#model.evaluate(x_valid, y_valid, batch_size=32)\n",
    "# evaluate model\n",
    "score = model.evaluate(x_valid, y_valid, batch_size=32, verbose=1)\n",
    "\n",
    "# print performance\n",
    "print()\n",
    "print('Test loss:', score[0])\n",
    "print('Test accuracy:', score[1])\n",
    "\n",
    "# look into training history\n",
    "\n",
    "# summarize history for loss\n",
    "plt.plot(history.history['loss'])\n",
    "plt.plot(history.history['val_loss'])\n",
    "plt.ylabel('model loss')\n",
    "plt.xlabel('epoch')\n",
    "plt.legend(['train', 'test/validation'], loc='best')\n",
    "plt.show()"
   ]
  },
  {
   "cell_type": "code",
   "execution_count": 28,
   "metadata": {},
   "outputs": [
    {
     "data": {
      "image/png": "[encoded data removed]",
      "text/plain": [
       "<Figure size 432x288 with 1 Axes>"
      ]
     },
     "metadata": {
      "needs_background": "light"
     },
     "output_type": "display_data"
    }
   ],
   "source": [
    "x_predicted = np.random.uniform(-1, 1, 100)\n",
    "y_predicted = model.predict(x_predicted)\n",
    "plt.scatter(x_predicted, y_predicted,color='r')\n",
    "plt.plot(x_valid, y_target)\n",
    "plt.grid(True)\n",
    "plt.show()\n",
    "\n"
   ]
  },
  {
   "cell_type": "markdown",
   "metadata": {},
   "source": [
    "Provando a disporre i neuroni in un solo layer si vede che tutti i risultati peggiorano notevolmente"
   ]
  },
  {
   "cell_type": "markdown",
   "metadata": {},
   "source": [
    "## NN #4"
   ]
  },
  {
   "cell_type": "code",
   "execution_count": 32,
   "metadata": {},
   "outputs": [],
   "source": [
    "import tensorflow as tf\n",
    "from tensorflow import keras\n",
    "\n",
    "from tensorflow.keras.models import Sequential\n",
    "from tensorflow.keras.layers import Dense, Activation\n",
    "from tensorflow.keras import backend as K\n",
    "from tensorflow.keras.utils import get_custom_objects\n",
    "from tensorflow.keras import optimizers, losses, metrics\n",
    "\n",
    "model = tf.keras.Sequential()\n",
    "model.add(Dense(25, input_shape=(1,),activation='relu'))\n",
    "model.add(Dense(18, input_shape=(1,),activation='relu'))\n",
    "model.add(Dense(7, input_shape=(1,),activation='relu'))\n",
    "model.add(Dense(1, input_shape=(1,),activation='relu'))\n",
    "# compile the model choosing optimizer, loss and metrics objects\n",
    "model.compile(optimizer='sgd', loss='mse', metrics=['mse'])\n",
    "#model.compile(optimizer='sgd', loss=losses.categorical_crossentropy, metrics=['mse'])\n",
    "from tensorflow.keras import optimizers, losses, metrics\n",
    "\n"
   ]
  },
  {
   "cell_type": "code",
   "execution_count": 33,
   "metadata": {},
   "outputs": [
    {
     "name": "stdout",
     "output_type": "stream",
     "text": [
      "Model: \"sequential_6\"\n",
      "_________________________________________________________________\n",
      "Layer (type)                 Output Shape              Param #   \n",
      "=================================================================\n",
      "dense_49 (Dense)             (None, 25)                50        \n",
      "_________________________________________________________________\n",
      "dense_50 (Dense)             (None, 18)                468       \n",
      "_________________________________________________________________\n",
      "dense_51 (Dense)             (None, 7)                 133       \n",
      "_________________________________________________________________\n",
      "dense_52 (Dense)             (None, 1)                 8         \n",
      "=================================================================\n",
      "Total params: 659\n",
      "Trainable params: 659\n",
      "Non-trainable params: 0\n",
      "_________________________________________________________________\n"
     ]
    }
   ],
   "source": [
    "model.summary()"
   ]
  },
  {
   "cell_type": "code",
   "execution_count": 34,
   "metadata": {},
   "outputs": [
    {
     "name": "stdout",
     "output_type": "stream",
     "text": [
      "Epoch 1/50\n",
      "32/32 [==============================] - 0s 4ms/step - loss: 5.6865 - mse: 5.6865 - val_loss: 1.2693 - val_mse: 1.2693\n",
      "Epoch 2/50\n",
      "32/32 [==============================] - 0s 2ms/step - loss: 1.2720 - mse: 1.2720 - val_loss: 1.0592 - val_mse: 1.0592\n",
      "Epoch 3/50\n",
      "32/32 [==============================] - 0s 2ms/step - loss: 0.9275 - mse: 0.9275 - val_loss: 0.8295 - val_mse: 0.8295\n",
      "Epoch 4/50\n",
      "32/32 [==============================] - 0s 2ms/step - loss: 0.7604 - mse: 0.7604 - val_loss: 0.7941 - val_mse: 0.7941\n",
      "Epoch 5/50\n",
      "32/32 [==============================] - 0s 2ms/step - loss: 0.6533 - mse: 0.6533 - val_loss: 0.6980 - val_mse: 0.6980\n",
      "Epoch 6/50\n",
      "32/32 [==============================] - 0s 2ms/step - loss: 0.5687 - mse: 0.5687 - val_loss: 0.5835 - val_mse: 0.5835\n",
      "Epoch 7/50\n",
      "32/32 [==============================] - 0s 2ms/step - loss: 0.4966 - mse: 0.4966 - val_loss: 0.5561 - val_mse: 0.5561\n",
      "Epoch 8/50\n",
      "32/32 [==============================] - 0s 2ms/step - loss: 0.4359 - mse: 0.4359 - val_loss: 0.4631 - val_mse: 0.4631\n",
      "Epoch 9/50\n",
      "32/32 [==============================] - 0s 1ms/step - loss: 0.3862 - mse: 0.3862 - val_loss: 0.3828 - val_mse: 0.3828\n",
      "Epoch 10/50\n",
      "32/32 [==============================] - 0s 2ms/step - loss: 0.3536 - mse: 0.3536 - val_loss: 0.3799 - val_mse: 0.3799\n",
      "Epoch 11/50\n",
      "32/32 [==============================] - 0s 2ms/step - loss: 0.3258 - mse: 0.3258 - val_loss: 0.3558 - val_mse: 0.3558\n",
      "Epoch 12/50\n",
      "32/32 [==============================] - 0s 2ms/step - loss: 0.3073 - mse: 0.3073 - val_loss: 0.3433 - val_mse: 0.3433\n",
      "Epoch 13/50\n",
      "32/32 [==============================] - 0s 3ms/step - loss: 0.2971 - mse: 0.2971 - val_loss: 0.2922 - val_mse: 0.2922\n",
      "Epoch 14/50\n",
      "32/32 [==============================] - 0s 2ms/step - loss: 0.2866 - mse: 0.2866 - val_loss: 0.2591 - val_mse: 0.2591\n",
      "Epoch 15/50\n",
      "32/32 [==============================] - 0s 2ms/step - loss: 0.2780 - mse: 0.2780 - val_loss: 0.2530 - val_mse: 0.2530\n",
      "Epoch 16/50\n",
      "32/32 [==============================] - 0s 2ms/step - loss: 0.2694 - mse: 0.2694 - val_loss: 0.2626 - val_mse: 0.2626\n",
      "Epoch 17/50\n",
      "32/32 [==============================] - 0s 2ms/step - loss: 0.2670 - mse: 0.2670 - val_loss: 0.2451 - val_mse: 0.2451\n",
      "Epoch 18/50\n",
      "32/32 [==============================] - 0s 2ms/step - loss: 0.2667 - mse: 0.2667 - val_loss: 0.2817 - val_mse: 0.2817\n",
      "Epoch 19/50\n",
      "32/32 [==============================] - 0s 2ms/step - loss: 0.2612 - mse: 0.2612 - val_loss: 0.2454 - val_mse: 0.2454\n",
      "Epoch 20/50\n",
      "32/32 [==============================] - 0s 2ms/step - loss: 0.2570 - mse: 0.2570 - val_loss: 0.2451 - val_mse: 0.2451\n",
      "Epoch 21/50\n",
      "32/32 [==============================] - 0s 2ms/step - loss: 0.2563 - mse: 0.2563 - val_loss: 0.2313 - val_mse: 0.2313\n",
      "Epoch 22/50\n",
      "32/32 [==============================] - 0s 2ms/step - loss: 0.2541 - mse: 0.2541 - val_loss: 0.2337 - val_mse: 0.2337\n",
      "Epoch 23/50\n",
      "32/32 [==============================] - 0s 2ms/step - loss: 0.2506 - mse: 0.2506 - val_loss: 0.2447 - val_mse: 0.2447\n",
      "Epoch 24/50\n",
      "32/32 [==============================] - 0s 2ms/step - loss: 0.2490 - mse: 0.2490 - val_loss: 0.2248 - val_mse: 0.2248\n",
      "Epoch 25/50\n",
      "32/32 [==============================] - 0s 2ms/step - loss: 0.2494 - mse: 0.2494 - val_loss: 0.2252 - val_mse: 0.2252\n",
      "Epoch 26/50\n",
      "32/32 [==============================] - 0s 2ms/step - loss: 0.2502 - mse: 0.2502 - val_loss: 0.2234 - val_mse: 0.2234\n",
      "Epoch 27/50\n",
      "32/32 [==============================] - 0s 2ms/step - loss: 0.2478 - mse: 0.2478 - val_loss: 0.2406 - val_mse: 0.2406\n",
      "Epoch 28/50\n",
      "32/32 [==============================] - 0s 2ms/step - loss: 0.2460 - mse: 0.2460 - val_loss: 0.2240 - val_mse: 0.2240\n",
      "Epoch 29/50\n",
      "32/32 [==============================] - 0s 3ms/step - loss: 0.2478 - mse: 0.2478 - val_loss: 0.2188 - val_mse: 0.2188\n",
      "Epoch 30/50\n",
      "32/32 [==============================] - 0s 4ms/step - loss: 0.2478 - mse: 0.2478 - val_loss: 0.2342 - val_mse: 0.2342\n",
      "Epoch 31/50\n",
      "32/32 [==============================] - 0s 2ms/step - loss: 0.2464 - mse: 0.2464 - val_loss: 0.2194 - val_mse: 0.2194\n",
      "Epoch 32/50\n",
      "32/32 [==============================] - 0s 3ms/step - loss: 0.2462 - mse: 0.2462 - val_loss: 0.2178 - val_mse: 0.2178\n",
      "Epoch 33/50\n",
      "32/32 [==============================] - 0s 3ms/step - loss: 0.2446 - mse: 0.2446 - val_loss: 0.2325 - val_mse: 0.2325\n",
      "Epoch 34/50\n",
      "32/32 [==============================] - 0s 4ms/step - loss: 0.2419 - mse: 0.2419 - val_loss: 0.2147 - val_mse: 0.2147\n",
      "Epoch 35/50\n",
      "32/32 [==============================] - 0s 2ms/step - loss: 0.2441 - mse: 0.2441 - val_loss: 0.2155 - val_mse: 0.2155\n",
      "Epoch 36/50\n",
      "32/32 [==============================] - 0s 3ms/step - loss: 0.2460 - mse: 0.2460 - val_loss: 0.2182 - val_mse: 0.2182\n",
      "Epoch 37/50\n",
      "32/32 [==============================] - 0s 3ms/step - loss: 0.2410 - mse: 0.2410 - val_loss: 0.2174 - val_mse: 0.2174\n",
      "Epoch 38/50\n",
      "32/32 [==============================] - 0s 3ms/step - loss: 0.2424 - mse: 0.2424 - val_loss: 0.2278 - val_mse: 0.2278\n",
      "Epoch 39/50\n",
      "32/32 [==============================] - 0s 2ms/step - loss: 0.2387 - mse: 0.2387 - val_loss: 0.2130 - val_mse: 0.2130\n",
      "Epoch 40/50\n",
      "32/32 [==============================] - 0s 3ms/step - loss: 0.2400 - mse: 0.2400 - val_loss: 0.2580 - val_mse: 0.2580\n",
      "Epoch 41/50\n",
      "32/32 [==============================] - 0s 2ms/step - loss: 0.2413 - mse: 0.2413 - val_loss: 0.2141 - val_mse: 0.2141\n",
      "Epoch 42/50\n",
      "32/32 [==============================] - 0s 2ms/step - loss: 0.2402 - mse: 0.2402 - val_loss: 0.2167 - val_mse: 0.2167\n",
      "Epoch 43/50\n",
      "32/32 [==============================] - 0s 1ms/step - loss: 0.2407 - mse: 0.2407 - val_loss: 0.2203 - val_mse: 0.2203\n",
      "Epoch 44/50\n",
      "32/32 [==============================] - 0s 1ms/step - loss: 0.2417 - mse: 0.2417 - val_loss: 0.2178 - val_mse: 0.2178\n",
      "Epoch 45/50\n",
      "32/32 [==============================] - 0s 1ms/step - loss: 0.2424 - mse: 0.2424 - val_loss: 0.2120 - val_mse: 0.2120\n",
      "Epoch 46/50\n",
      "32/32 [==============================] - 0s 1ms/step - loss: 0.2408 - mse: 0.2408 - val_loss: 0.2168 - val_mse: 0.2168\n",
      "Epoch 47/50\n",
      "32/32 [==============================] - 0s 1ms/step - loss: 0.2406 - mse: 0.2406 - val_loss: 0.2149 - val_mse: 0.2149\n",
      "Epoch 48/50\n",
      "32/32 [==============================] - 0s 1ms/step - loss: 0.2404 - mse: 0.2404 - val_loss: 0.2154 - val_mse: 0.2154\n",
      "Epoch 49/50\n",
      "32/32 [==============================] - 0s 1ms/step - loss: 0.2396 - mse: 0.2396 - val_loss: 0.2345 - val_mse: 0.2345\n",
      "Epoch 50/50\n",
      "32/32 [==============================] - 0s 1ms/step - loss: 0.2412 - mse: 0.2412 - val_loss: 0.2123 - val_mse: 0.2123\n"
     ]
    }
   ],
   "source": [
    "# fit the model using training dataset\n",
    "# over 10 epochs of 32 batch size each\n",
    "# report training progress against validation data\n",
    "history = model.fit(x=x_train, y=y_train, \n",
    "          batch_size=32, epochs=50,\n",
    "          shuffle=True, # a good idea is to shuffle input before at each epoch\n",
    "          validation_data=(x_valid, y_valid))"
   ]
  },
  {
   "cell_type": "code",
   "execution_count": 35,
   "metadata": {},
   "outputs": [
    {
     "name": "stdout",
     "output_type": "stream",
     "text": [
      "4/4 [==============================] - 0s 2ms/step - loss: 0.2123 - mse: 0.2123\n",
      "\n",
      "Test loss: 0.21227209270000458\n",
      "Test accuracy: 0.21227209270000458\n"
     ]
    },
    {
     "data": {
      "image/png": "[encoded data removed]",
      "text/plain": [
       "<Figure size 432x288 with 1 Axes>"
      ]
     },
     "metadata": {
      "needs_background": "light"
     },
     "output_type": "display_data"
    }
   ],
   "source": [
    "#model.evaluate(x_valid, y_valid, batch_size=32)\n",
    "# evaluate model\n",
    "score = model.evaluate(x_valid, y_valid, batch_size=32, verbose=1)\n",
    "\n",
    "# print performance\n",
    "print()\n",
    "print('Test loss:', score[0])\n",
    "print('Test accuracy:', score[1])\n",
    "\n",
    "# look into training history\n",
    "\n",
    "# summarize history for loss\n",
    "plt.plot(history.history['loss'])\n",
    "plt.plot(history.history['val_loss'])\n",
    "plt.ylabel('model loss')\n",
    "plt.xlabel('epoch')\n",
    "plt.legend(['train', 'test/validation'], loc='best')\n",
    "plt.show()"
   ]
  },
  {
   "cell_type": "code",
   "execution_count": 36,
   "metadata": {},
   "outputs": [
    {
     "data": {
      "image/png": "[encoded data removed]",
      "text/plain": [
       "<Figure size 432x288 with 1 Axes>"
      ]
     },
     "metadata": {
      "needs_background": "light"
     },
     "output_type": "display_data"
    }
   ],
   "source": [
    "x_predicted = np.random.uniform(-1, 1, 100)\n",
    "y_predicted = model.predict(x_predicted)\n",
    "plt.scatter(x_predicted, y_predicted,color='r')\n",
    "plt.plot(x_valid, y_target)\n",
    "plt.grid(True)\n",
    "plt.show()\n",
    "\n",
    "\n"
   ]
  },
  {
   "cell_type": "markdown",
   "metadata": {},
   "source": [
    "Ho provato a modificare di poco la rete #2 per migliorare i risultati ma non ci sono stati cambiamenti significativi"
   ]
  },
  {
   "cell_type": "markdown",
   "metadata": {},
   "source": [
    "## NN #5"
   ]
  },
  {
   "cell_type": "code",
   "execution_count": 37,
   "metadata": {},
   "outputs": [],
   "source": [
    "import tensorflow as tf\n",
    "from tensorflow import keras\n",
    "\n",
    "from tensorflow.keras.models import Sequential\n",
    "from tensorflow.keras.layers import Dense, Activation\n",
    "from tensorflow.keras import backend as K\n",
    "from tensorflow.keras.utils import get_custom_objects\n",
    "from tensorflow.keras import optimizers, losses, metrics\n",
    "\n",
    "model = tf.keras.Sequential()\n",
    "model.add(Dense(25, input_shape=(1,),activation='relu'))\n",
    "model.add(Dense(18, input_shape=(1,),activation='relu'))\n",
    "model.add(Dense(7, input_shape=(1,),activation='relu'))\n",
    "model.add(Dense(1, input_shape=(1,),activation='relu'))\n",
    "# compile the model choosing optimizer, loss and metrics objects\n",
    "model.compile(optimizer='sgd', loss='mean_absolute_error', metrics=['mean_absolute_error'])\n",
    "#model.compile(optimizer='sgd', loss=losses.categorical_crossentropy, metrics=['mse'])\n",
    "from tensorflow.keras import optimizers, losses, metrics\n",
    "\n",
    "\n"
   ]
  },
  {
   "cell_type": "code",
   "execution_count": 38,
   "metadata": {},
   "outputs": [
    {
     "name": "stdout",
     "output_type": "stream",
     "text": [
      "Model: \"sequential_7\"\n",
      "_________________________________________________________________\n",
      "Layer (type)                 Output Shape              Param #   \n",
      "=================================================================\n",
      "dense_53 (Dense)             (None, 25)                50        \n",
      "_________________________________________________________________\n",
      "dense_54 (Dense)             (None, 18)                468       \n",
      "_________________________________________________________________\n",
      "dense_55 (Dense)             (None, 7)                 133       \n",
      "_________________________________________________________________\n",
      "dense_56 (Dense)             (None, 1)                 8         \n",
      "=================================================================\n",
      "Total params: 659\n",
      "Trainable params: 659\n",
      "Non-trainable params: 0\n",
      "_________________________________________________________________\n"
     ]
    }
   ],
   "source": [
    "model.summary()"
   ]
  },
  {
   "cell_type": "code",
   "execution_count": 39,
   "metadata": {},
   "outputs": [
    {
     "name": "stdout",
     "output_type": "stream",
     "text": [
      "Epoch 1/50\n",
      "32/32 [==============================] - 0s 4ms/step - loss: 3.0380 - mean_absolute_error: 3.0380 - val_loss: 2.5156 - val_mean_absolute_error: 2.5156\n",
      "Epoch 2/50\n",
      "32/32 [==============================] - 0s 2ms/step - loss: 2.2113 - mean_absolute_error: 2.2113 - val_loss: 1.5494 - val_mean_absolute_error: 1.5494\n",
      "Epoch 3/50\n",
      "32/32 [==============================] - 0s 2ms/step - loss: 1.3990 - mean_absolute_error: 1.3990 - val_loss: 1.0087 - val_mean_absolute_error: 1.0087\n",
      "Epoch 4/50\n",
      "32/32 [==============================] - 0s 2ms/step - loss: 1.0344 - mean_absolute_error: 1.0344 - val_loss: 0.8512 - val_mean_absolute_error: 0.8512\n",
      "Epoch 5/50\n",
      "32/32 [==============================] - 0s 2ms/step - loss: 0.8665 - mean_absolute_error: 0.8665 - val_loss: 0.7896 - val_mean_absolute_error: 0.7896\n",
      "Epoch 6/50\n",
      "32/32 [==============================] - 0s 2ms/step - loss: 0.7625 - mean_absolute_error: 0.7625 - val_loss: 0.7115 - val_mean_absolute_error: 0.7115\n",
      "Epoch 7/50\n",
      "32/32 [==============================] - 0s 2ms/step - loss: 0.6891 - mean_absolute_error: 0.6891 - val_loss: 0.6887 - val_mean_absolute_error: 0.6887\n",
      "Epoch 8/50\n",
      "32/32 [==============================] - 0s 2ms/step - loss: 0.6395 - mean_absolute_error: 0.6395 - val_loss: 0.6751 - val_mean_absolute_error: 0.6751\n",
      "Epoch 9/50\n",
      "32/32 [==============================] - 0s 2ms/step - loss: 0.6067 - mean_absolute_error: 0.6067 - val_loss: 0.6979 - val_mean_absolute_error: 0.6979\n",
      "Epoch 10/50\n",
      "32/32 [==============================] - 0s 2ms/step - loss: 0.5908 - mean_absolute_error: 0.5908 - val_loss: 0.6811 - val_mean_absolute_error: 0.6811\n",
      "Epoch 11/50\n",
      "32/32 [==============================] - 0s 2ms/step - loss: 0.5774 - mean_absolute_error: 0.5774 - val_loss: 0.6849 - val_mean_absolute_error: 0.6849\n",
      "Epoch 12/50\n",
      "32/32 [==============================] - 0s 2ms/step - loss: 0.5644 - mean_absolute_error: 0.5644 - val_loss: 0.6265 - val_mean_absolute_error: 0.6265\n",
      "Epoch 13/50\n",
      "32/32 [==============================] - 0s 2ms/step - loss: 0.5516 - mean_absolute_error: 0.5516 - val_loss: 0.6117 - val_mean_absolute_error: 0.6117\n",
      "Epoch 14/50\n",
      "32/32 [==============================] - 0s 2ms/step - loss: 0.5396 - mean_absolute_error: 0.5396 - val_loss: 0.5866 - val_mean_absolute_error: 0.5866\n",
      "Epoch 15/50\n",
      "32/32 [==============================] - 0s 2ms/step - loss: 0.5230 - mean_absolute_error: 0.5230 - val_loss: 0.5800 - val_mean_absolute_error: 0.5800\n",
      "Epoch 16/50\n",
      "32/32 [==============================] - 0s 2ms/step - loss: 0.5079 - mean_absolute_error: 0.5079 - val_loss: 0.5448 - val_mean_absolute_error: 0.5448\n",
      "Epoch 17/50\n",
      "32/32 [==============================] - 0s 2ms/step - loss: 0.4878 - mean_absolute_error: 0.4878 - val_loss: 0.5128 - val_mean_absolute_error: 0.5128\n",
      "Epoch 18/50\n",
      "32/32 [==============================] - 0s 2ms/step - loss: 0.4742 - mean_absolute_error: 0.4742 - val_loss: 0.4952 - val_mean_absolute_error: 0.4952\n",
      "Epoch 19/50\n",
      "32/32 [==============================] - 0s 3ms/step - loss: 0.4638 - mean_absolute_error: 0.4638 - val_loss: 0.5009 - val_mean_absolute_error: 0.5009\n",
      "Epoch 20/50\n",
      "32/32 [==============================] - 0s 2ms/step - loss: 0.4572 - mean_absolute_error: 0.4572 - val_loss: 0.4807 - val_mean_absolute_error: 0.4807\n",
      "Epoch 21/50\n",
      "32/32 [==============================] - 0s 2ms/step - loss: 0.4469 - mean_absolute_error: 0.4469 - val_loss: 0.4555 - val_mean_absolute_error: 0.4555\n",
      "Epoch 22/50\n",
      "32/32 [==============================] - 0s 3ms/step - loss: 0.4421 - mean_absolute_error: 0.4421 - val_loss: 0.4612 - val_mean_absolute_error: 0.4612\n",
      "Epoch 23/50\n",
      "32/32 [==============================] - 0s 3ms/step - loss: 0.4368 - mean_absolute_error: 0.4368 - val_loss: 0.4445 - val_mean_absolute_error: 0.4445\n",
      "Epoch 24/50\n",
      "32/32 [==============================] - 0s 2ms/step - loss: 0.4331 - mean_absolute_error: 0.4331 - val_loss: 0.4354 - val_mean_absolute_error: 0.4354\n",
      "Epoch 25/50\n",
      "32/32 [==============================] - 0s 2ms/step - loss: 0.4282 - mean_absolute_error: 0.4282 - val_loss: 0.4231 - val_mean_absolute_error: 0.4231\n",
      "Epoch 26/50\n",
      "32/32 [==============================] - 0s 2ms/step - loss: 0.4269 - mean_absolute_error: 0.4269 - val_loss: 0.4227 - val_mean_absolute_error: 0.4227\n",
      "Epoch 27/50\n",
      "32/32 [==============================] - 0s 2ms/step - loss: 0.4196 - mean_absolute_error: 0.4196 - val_loss: 0.4380 - val_mean_absolute_error: 0.4380\n",
      "Epoch 28/50\n",
      "32/32 [==============================] - 0s 3ms/step - loss: 0.4158 - mean_absolute_error: 0.4158 - val_loss: 0.4181 - val_mean_absolute_error: 0.4181\n",
      "Epoch 29/50\n",
      "32/32 [==============================] - 0s 4ms/step - loss: 0.4166 - mean_absolute_error: 0.4166 - val_loss: 0.4221 - val_mean_absolute_error: 0.4221\n",
      "Epoch 30/50\n",
      "32/32 [==============================] - 0s 3ms/step - loss: 0.4122 - mean_absolute_error: 0.4122 - val_loss: 0.4043 - val_mean_absolute_error: 0.4043\n",
      "Epoch 31/50\n",
      "32/32 [==============================] - 0s 4ms/step - loss: 0.4142 - mean_absolute_error: 0.4142 - val_loss: 0.3946 - val_mean_absolute_error: 0.3946\n",
      "Epoch 32/50\n",
      "32/32 [==============================] - 0s 3ms/step - loss: 0.4081 - mean_absolute_error: 0.4081 - val_loss: 0.4016 - val_mean_absolute_error: 0.4016\n",
      "Epoch 33/50\n",
      "32/32 [==============================] - 0s 5ms/step - loss: 0.4077 - mean_absolute_error: 0.4077 - val_loss: 0.3958 - val_mean_absolute_error: 0.3958\n",
      "Epoch 34/50\n",
      "32/32 [==============================] - 0s 3ms/step - loss: 0.4069 - mean_absolute_error: 0.4069 - val_loss: 0.4137 - val_mean_absolute_error: 0.4137\n",
      "Epoch 35/50\n",
      "32/32 [==============================] - 0s 2ms/step - loss: 0.4051 - mean_absolute_error: 0.4051 - val_loss: 0.3833 - val_mean_absolute_error: 0.3833\n",
      "Epoch 36/50\n",
      "32/32 [==============================] - 0s 3ms/step - loss: 0.4068 - mean_absolute_error: 0.4068 - val_loss: 0.4237 - val_mean_absolute_error: 0.4237\n",
      "Epoch 37/50\n",
      "32/32 [==============================] - 0s 2ms/step - loss: 0.4017 - mean_absolute_error: 0.4017 - val_loss: 0.4462 - val_mean_absolute_error: 0.4462\n",
      "Epoch 38/50\n",
      "32/32 [==============================] - 0s 3ms/step - loss: 0.4029 - mean_absolute_error: 0.4029 - val_loss: 0.4364 - val_mean_absolute_error: 0.4364\n",
      "Epoch 39/50\n",
      "32/32 [==============================] - 0s 1ms/step - loss: 0.4057 - mean_absolute_error: 0.4057 - val_loss: 0.3815 - val_mean_absolute_error: 0.3815\n",
      "Epoch 40/50\n",
      "32/32 [==============================] - 0s 3ms/step - loss: 0.4018 - mean_absolute_error: 0.4018 - val_loss: 0.3861 - val_mean_absolute_error: 0.3861\n",
      "Epoch 41/50\n",
      "32/32 [==============================] - 0s 3ms/step - loss: 0.3974 - mean_absolute_error: 0.3974 - val_loss: 0.3869 - val_mean_absolute_error: 0.3869\n",
      "Epoch 42/50\n",
      "32/32 [==============================] - 0s 3ms/step - loss: 0.3983 - mean_absolute_error: 0.3983 - val_loss: 0.3832 - val_mean_absolute_error: 0.3832\n",
      "Epoch 43/50\n",
      "32/32 [==============================] - 0s 3ms/step - loss: 0.4010 - mean_absolute_error: 0.4010 - val_loss: 0.3944 - val_mean_absolute_error: 0.3944\n",
      "Epoch 44/50\n",
      "32/32 [==============================] - 0s 3ms/step - loss: 0.3989 - mean_absolute_error: 0.3989 - val_loss: 0.3832 - val_mean_absolute_error: 0.3832\n",
      "Epoch 45/50\n",
      "32/32 [==============================] - 0s 2ms/step - loss: 0.3960 - mean_absolute_error: 0.3960 - val_loss: 0.3950 - val_mean_absolute_error: 0.3950\n",
      "Epoch 46/50\n",
      "32/32 [==============================] - 0s 2ms/step - loss: 0.4012 - mean_absolute_error: 0.4012 - val_loss: 0.3802 - val_mean_absolute_error: 0.3802\n",
      "Epoch 47/50\n",
      "32/32 [==============================] - 0s 2ms/step - loss: 0.3961 - mean_absolute_error: 0.3961 - val_loss: 0.4040 - val_mean_absolute_error: 0.4040\n",
      "Epoch 48/50\n",
      "32/32 [==============================] - 0s 2ms/step - loss: 0.4017 - mean_absolute_error: 0.4017 - val_loss: 0.3693 - val_mean_absolute_error: 0.3693\n",
      "Epoch 49/50\n",
      "32/32 [==============================] - 0s 2ms/step - loss: 0.4041 - mean_absolute_error: 0.4041 - val_loss: 0.3898 - val_mean_absolute_error: 0.3898\n",
      "Epoch 50/50\n",
      "32/32 [==============================] - 0s 2ms/step - loss: 0.3958 - mean_absolute_error: 0.3958 - val_loss: 0.3745 - val_mean_absolute_error: 0.3745\n"
     ]
    }
   ],
   "source": [
    "# fit the model using training dataset\n",
    "# over 10 epochs of 32 batch size each\n",
    "# report training progress against validation data\n",
    "history = model.fit(x=x_train, y=y_train, \n",
    "          batch_size=32, epochs=50,\n",
    "          shuffle=True, # a good idea is to shuffle input before at each epoch\n",
    "          validation_data=(x_valid, y_valid))"
   ]
  },
  {
   "cell_type": "code",
   "execution_count": 40,
   "metadata": {},
   "outputs": [
    {
     "name": "stdout",
     "output_type": "stream",
     "text": [
      "4/4 [==============================] - 0s 2ms/step - loss: 0.3745 - mean_absolute_error: 0.3745\n",
      "\n",
      "Test loss: 0.3745158016681671\n",
      "Test accuracy: 0.3745158016681671\n"
     ]
    },
    {
     "data": {
      "image/png": "[encoded data removed]",
      "text/plain": [
       "<Figure size 432x288 with 1 Axes>"
      ]
     },
     "metadata": {
      "needs_background": "light"
     },
     "output_type": "display_data"
    }
   ],
   "source": [
    "#model.evaluate(x_valid, y_valid, batch_size=32)\n",
    "# evaluate model\n",
    "score = model.evaluate(x_valid, y_valid, batch_size=32, verbose=1)\n",
    "\n",
    "# print performance\n",
    "print()\n",
    "print('Test loss:', score[0])\n",
    "print('Test accuracy:', score[1])\n",
    "\n",
    "# look into training history\n",
    "\n",
    "# summarize history for loss\n",
    "plt.plot(history.history['loss'])\n",
    "plt.plot(history.history['val_loss'])\n",
    "plt.ylabel('model loss')\n",
    "plt.xlabel('epoch')\n",
    "plt.legend(['train', 'test/validation'], loc='best')\n",
    "plt.show()"
   ]
  },
  {
   "cell_type": "code",
   "execution_count": 41,
   "metadata": {},
   "outputs": [
    {
     "data": {
      "image/png": "[encoded data removed]",
      "text/plain": [
       "<Figure size 432x288 with 1 Axes>"
      ]
     },
     "metadata": {
      "needs_background": "light"
     },
     "output_type": "display_data"
    }
   ],
   "source": [
    "x_predicted = np.random.uniform(-1, 1, 100)\n",
    "y_predicted = model.predict(x_predicted)\n",
    "plt.scatter(x_predicted, y_predicted,color='r')\n",
    "plt.plot(x_valid, y_target)\n",
    "plt.grid(True)\n",
    "plt.show()"
   ]
  },
  {
   "cell_type": "markdown",
   "metadata": {},
   "source": [
    "Cambiando la loss mse con la mae i risultati peggiorano."
   ]
  },
  {
   "cell_type": "markdown",
   "metadata": {},
   "source": [
    "## NN #6"
   ]
  },
  {
   "cell_type": "code",
   "execution_count": 48,
   "metadata": {},
   "outputs": [],
   "source": [
    "import tensorflow as tf\n",
    "from tensorflow import keras\n",
    "\n",
    "from tensorflow.keras.models import Sequential\n",
    "from tensorflow.keras.layers import Dense, Activation\n",
    "from tensorflow.keras import backend as K\n",
    "from tensorflow.keras.utils import get_custom_objects\n",
    "from tensorflow.keras import optimizers, losses, metrics\n",
    "\n",
    "model = tf.keras.Sequential()\n",
    "model.add(Dense(25, input_shape=(1,),activation='relu'))\n",
    "model.add(Dense(13, input_shape=(1,),activation='relu'))\n",
    "model.add(Dense(12, input_shape=(1,),activation='relu'))\n",
    "model.add(Dense(1, input_shape=(1,),activation='relu'))\n",
    "# compile the model choosing optimizer, loss and metrics objects\n",
    "model.compile(optimizer='Nadam', loss='mean_absolute_error', metrics=['mean_absolute_error'])\n",
    "#model.compile(optimizer='sgd', loss=losses.categorical_crossentropy, metrics=['mse'])\n",
    "from tensorflow.keras import optimizers, losses, metrics\n",
    "\n"
   ]
  },
  {
   "cell_type": "code",
   "execution_count": 49,
   "metadata": {},
   "outputs": [
    {
     "name": "stdout",
     "output_type": "stream",
     "text": [
      "Model: \"sequential_10\"\n",
      "_________________________________________________________________\n",
      "Layer (type)                 Output Shape              Param #   \n",
      "=================================================================\n",
      "dense_65 (Dense)             (None, 25)                50        \n",
      "_________________________________________________________________\n",
      "dense_66 (Dense)             (None, 13)                338       \n",
      "_________________________________________________________________\n",
      "dense_67 (Dense)             (None, 12)                168       \n",
      "_________________________________________________________________\n",
      "dense_68 (Dense)             (None, 1)                 13        \n",
      "=================================================================\n",
      "Total params: 569\n",
      "Trainable params: 569\n",
      "Non-trainable params: 0\n",
      "_________________________________________________________________\n"
     ]
    }
   ],
   "source": [
    "model.summary()"
   ]
  },
  {
   "cell_type": "code",
   "execution_count": 50,
   "metadata": {},
   "outputs": [
    {
     "name": "stdout",
     "output_type": "stream",
     "text": [
      "Epoch 1/50\n",
      "32/32 [==============================] - 1s 5ms/step - loss: 3.1589 - mean_absolute_error: 3.1589 - val_loss: 2.7737 - val_mean_absolute_error: 2.7737\n",
      "Epoch 2/50\n",
      "32/32 [==============================] - 0s 2ms/step - loss: 2.5659 - mean_absolute_error: 2.5659 - val_loss: 1.8959 - val_mean_absolute_error: 1.8959\n",
      "Epoch 3/50\n",
      "32/32 [==============================] - 0s 2ms/step - loss: 1.5795 - mean_absolute_error: 1.5795 - val_loss: 1.1689 - val_mean_absolute_error: 1.1689\n",
      "Epoch 4/50\n",
      "32/32 [==============================] - 0s 2ms/step - loss: 1.0291 - mean_absolute_error: 1.0291 - val_loss: 1.0033 - val_mean_absolute_error: 1.0033\n",
      "Epoch 5/50\n",
      "32/32 [==============================] - 0s 2ms/step - loss: 0.8146 - mean_absolute_error: 0.8146 - val_loss: 0.8720 - val_mean_absolute_error: 0.8720\n",
      "Epoch 6/50\n",
      "32/32 [==============================] - 0s 2ms/step - loss: 0.6876 - mean_absolute_error: 0.6876 - val_loss: 0.7245 - val_mean_absolute_error: 0.7245\n",
      "Epoch 7/50\n",
      "32/32 [==============================] - 0s 2ms/step - loss: 0.6006 - mean_absolute_error: 0.6006 - val_loss: 0.6258 - val_mean_absolute_error: 0.6258\n",
      "Epoch 8/50\n",
      "32/32 [==============================] - 0s 2ms/step - loss: 0.5396 - mean_absolute_error: 0.5396 - val_loss: 0.5562 - val_mean_absolute_error: 0.5562\n",
      "Epoch 9/50\n",
      "32/32 [==============================] - 0s 2ms/step - loss: 0.4914 - mean_absolute_error: 0.4914 - val_loss: 0.5038 - val_mean_absolute_error: 0.5038\n",
      "Epoch 10/50\n",
      "32/32 [==============================] - 0s 2ms/step - loss: 0.4616 - mean_absolute_error: 0.4616 - val_loss: 0.4587 - val_mean_absolute_error: 0.4587\n",
      "Epoch 11/50\n",
      "32/32 [==============================] - 0s 2ms/step - loss: 0.4446 - mean_absolute_error: 0.4446 - val_loss: 0.4688 - val_mean_absolute_error: 0.4688\n",
      "Epoch 12/50\n",
      "32/32 [==============================] - 0s 2ms/step - loss: 0.4314 - mean_absolute_error: 0.4314 - val_loss: 0.4117 - val_mean_absolute_error: 0.4117\n",
      "Epoch 13/50\n",
      "32/32 [==============================] - 0s 2ms/step - loss: 0.4193 - mean_absolute_error: 0.4193 - val_loss: 0.4089 - val_mean_absolute_error: 0.4089\n",
      "Epoch 14/50\n",
      "32/32 [==============================] - 0s 2ms/step - loss: 0.4169 - mean_absolute_error: 0.4169 - val_loss: 0.3954 - val_mean_absolute_error: 0.3954\n",
      "Epoch 15/50\n",
      "32/32 [==============================] - 0s 2ms/step - loss: 0.4124 - mean_absolute_error: 0.4124 - val_loss: 0.3918 - val_mean_absolute_error: 0.3918\n",
      "Epoch 16/50\n",
      "32/32 [==============================] - 0s 3ms/step - loss: 0.4062 - mean_absolute_error: 0.4062 - val_loss: 0.4074 - val_mean_absolute_error: 0.4074\n",
      "Epoch 17/50\n",
      "32/32 [==============================] - 0s 2ms/step - loss: 0.4035 - mean_absolute_error: 0.4035 - val_loss: 0.3774 - val_mean_absolute_error: 0.3774\n",
      "Epoch 18/50\n",
      "32/32 [==============================] - 0s 2ms/step - loss: 0.4041 - mean_absolute_error: 0.4041 - val_loss: 0.3743 - val_mean_absolute_error: 0.3743\n",
      "Epoch 19/50\n",
      "32/32 [==============================] - 0s 3ms/step - loss: 0.4028 - mean_absolute_error: 0.4028 - val_loss: 0.3709 - val_mean_absolute_error: 0.3709\n",
      "Epoch 20/50\n",
      "32/32 [==============================] - 0s 4ms/step - loss: 0.4000 - mean_absolute_error: 0.4000 - val_loss: 0.4026 - val_mean_absolute_error: 0.4026\n",
      "Epoch 21/50\n",
      "32/32 [==============================] - 0s 3ms/step - loss: 0.4017 - mean_absolute_error: 0.4017 - val_loss: 0.3951 - val_mean_absolute_error: 0.3951\n",
      "Epoch 22/50\n",
      "32/32 [==============================] - 0s 2ms/step - loss: 0.4021 - mean_absolute_error: 0.4021 - val_loss: 0.3860 - val_mean_absolute_error: 0.3860\n",
      "Epoch 23/50\n",
      "32/32 [==============================] - 0s 3ms/step - loss: 0.3976 - mean_absolute_error: 0.3976 - val_loss: 0.3951 - val_mean_absolute_error: 0.3951\n",
      "Epoch 24/50\n",
      "32/32 [==============================] - 0s 4ms/step - loss: 0.3975 - mean_absolute_error: 0.3975 - val_loss: 0.3793 - val_mean_absolute_error: 0.3793\n",
      "Epoch 25/50\n",
      "32/32 [==============================] - 0s 3ms/step - loss: 0.3995 - mean_absolute_error: 0.3995 - val_loss: 0.3912 - val_mean_absolute_error: 0.3912\n",
      "Epoch 26/50\n",
      "32/32 [==============================] - 0s 2ms/step - loss: 0.3955 - mean_absolute_error: 0.3955 - val_loss: 0.4229 - val_mean_absolute_error: 0.4229\n",
      "Epoch 27/50\n",
      "32/32 [==============================] - 0s 2ms/step - loss: 0.3945 - mean_absolute_error: 0.3945 - val_loss: 0.3705 - val_mean_absolute_error: 0.3705\n",
      "Epoch 28/50\n",
      "32/32 [==============================] - 0s 2ms/step - loss: 0.3939 - mean_absolute_error: 0.3939 - val_loss: 0.4073 - val_mean_absolute_error: 0.4073\n",
      "Epoch 29/50\n",
      "32/32 [==============================] - 0s 3ms/step - loss: 0.3940 - mean_absolute_error: 0.3940 - val_loss: 0.3851 - val_mean_absolute_error: 0.3851\n",
      "Epoch 30/50\n",
      "32/32 [==============================] - 0s 2ms/step - loss: 0.3940 - mean_absolute_error: 0.3940 - val_loss: 0.3694 - val_mean_absolute_error: 0.3694\n",
      "Epoch 31/50\n",
      "32/32 [==============================] - 0s 3ms/step - loss: 0.3921 - mean_absolute_error: 0.3921 - val_loss: 0.3628 - val_mean_absolute_error: 0.3628\n",
      "Epoch 32/50\n",
      "32/32 [==============================] - 0s 2ms/step - loss: 0.3913 - mean_absolute_error: 0.3913 - val_loss: 0.3798 - val_mean_absolute_error: 0.3798\n",
      "Epoch 33/50\n",
      "32/32 [==============================] - 0s 2ms/step - loss: 0.3920 - mean_absolute_error: 0.3920 - val_loss: 0.3713 - val_mean_absolute_error: 0.3713\n",
      "Epoch 34/50\n",
      "32/32 [==============================] - 0s 2ms/step - loss: 0.3915 - mean_absolute_error: 0.3915 - val_loss: 0.3838 - val_mean_absolute_error: 0.3838\n",
      "Epoch 35/50\n",
      "32/32 [==============================] - 0s 2ms/step - loss: 0.3911 - mean_absolute_error: 0.3911 - val_loss: 0.3748 - val_mean_absolute_error: 0.3748\n",
      "Epoch 36/50\n",
      "32/32 [==============================] - 0s 4ms/step - loss: 0.3916 - mean_absolute_error: 0.3916 - val_loss: 0.3746 - val_mean_absolute_error: 0.3746\n",
      "Epoch 37/50\n",
      "32/32 [==============================] - 0s 4ms/step - loss: 0.3912 - mean_absolute_error: 0.3912 - val_loss: 0.3688 - val_mean_absolute_error: 0.3688\n",
      "Epoch 38/50\n",
      "32/32 [==============================] - 0s 4ms/step - loss: 0.3910 - mean_absolute_error: 0.3910 - val_loss: 0.3645 - val_mean_absolute_error: 0.3645\n",
      "Epoch 39/50\n",
      "32/32 [==============================] - 0s 5ms/step - loss: 0.3900 - mean_absolute_error: 0.3900 - val_loss: 0.4381 - val_mean_absolute_error: 0.4381\n",
      "Epoch 40/50\n",
      "32/32 [==============================] - 0s 4ms/step - loss: 0.3954 - mean_absolute_error: 0.3954 - val_loss: 0.3842 - val_mean_absolute_error: 0.3842\n",
      "Epoch 41/50\n",
      "32/32 [==============================] - 0s 3ms/step - loss: 0.3920 - mean_absolute_error: 0.3920 - val_loss: 0.3740 - val_mean_absolute_error: 0.3740\n",
      "Epoch 42/50\n",
      "32/32 [==============================] - 0s 2ms/step - loss: 0.3903 - mean_absolute_error: 0.3903 - val_loss: 0.3709 - val_mean_absolute_error: 0.3709\n",
      "Epoch 43/50\n",
      "32/32 [==============================] - 0s 2ms/step - loss: 0.3922 - mean_absolute_error: 0.3922 - val_loss: 0.3689 - val_mean_absolute_error: 0.3689\n",
      "Epoch 44/50\n",
      "32/32 [==============================] - 0s 2ms/step - loss: 0.3904 - mean_absolute_error: 0.3904 - val_loss: 0.3713 - val_mean_absolute_error: 0.3713\n",
      "Epoch 45/50\n",
      "32/32 [==============================] - 0s 2ms/step - loss: 0.3920 - mean_absolute_error: 0.3920 - val_loss: 0.3715 - val_mean_absolute_error: 0.3715\n",
      "Epoch 46/50\n",
      "32/32 [==============================] - 0s 3ms/step - loss: 0.3910 - mean_absolute_error: 0.3910 - val_loss: 0.3679 - val_mean_absolute_error: 0.3679\n",
      "Epoch 47/50\n",
      "32/32 [==============================] - 0s 3ms/step - loss: 0.3902 - mean_absolute_error: 0.3902 - val_loss: 0.3704 - val_mean_absolute_error: 0.3704\n",
      "Epoch 48/50\n",
      "32/32 [==============================] - 0s 3ms/step - loss: 0.3902 - mean_absolute_error: 0.3902 - val_loss: 0.3590 - val_mean_absolute_error: 0.3590\n",
      "Epoch 49/50\n",
      "32/32 [==============================] - 0s 3ms/step - loss: 0.3897 - mean_absolute_error: 0.3897 - val_loss: 0.3643 - val_mean_absolute_error: 0.3643\n",
      "Epoch 50/50\n",
      "32/32 [==============================] - 0s 3ms/step - loss: 0.3891 - mean_absolute_error: 0.3891 - val_loss: 0.3679 - val_mean_absolute_error: 0.3679\n"
     ]
    }
   ],
   "source": [
    "# fit the model using training dataset\n",
    "# over 10 epochs of 32 batch size each\n",
    "# report training progress against validation data\n",
    "history = model.fit(x=x_train, y=y_train, \n",
    "          batch_size=32, epochs=50,\n",
    "          shuffle=True, # a good idea is to shuffle input before at each epoch\n",
    "          validation_data=(x_valid, y_valid))"
   ]
  },
  {
   "cell_type": "code",
   "execution_count": 51,
   "metadata": {},
   "outputs": [
    {
     "name": "stdout",
     "output_type": "stream",
     "text": [
      "4/4 [==============================] - 0s 2ms/step - loss: 0.3679 - mean_absolute_error: 0.3679\n",
      "\n",
      "Test loss: 0.367918461561203\n",
      "Test accuracy: 0.367918461561203\n"
     ]
    },
    {
     "data": {
      "image/png": "[encoded data removed]",
      "text/plain": [
       "<Figure size 432x288 with 1 Axes>"
      ]
     },
     "metadata": {
      "needs_background": "light"
     },
     "output_type": "display_data"
    }
   ],
   "source": [
    "#model.evaluate(x_valid, y_valid, batch_size=32)\n",
    "# evaluate model\n",
    "score = model.evaluate(x_valid, y_valid, batch_size=32, verbose=1)\n",
    "\n",
    "# print performance\n",
    "print()\n",
    "print('Test loss:', score[0])\n",
    "print('Test accuracy:', score[1])\n",
    "\n",
    "# look into training history\n",
    "\n",
    "# summarize history for loss\n",
    "plt.plot(history.history['loss'])\n",
    "plt.plot(history.history['val_loss'])\n",
    "plt.ylabel('model loss')\n",
    "plt.xlabel('epoch')\n",
    "plt.legend(['train', 'test/validation'], loc='best')\n",
    "plt.show()"
   ]
  },
  {
   "cell_type": "code",
   "execution_count": 52,
   "metadata": {},
   "outputs": [
    {
     "data": {
      "image/png": "[encoded data removed]",
      "text/plain": [
       "<Figure size 432x288 with 1 Axes>"
      ]
     },
     "metadata": {
      "needs_background": "light"
     },
     "output_type": "display_data"
    }
   ],
   "source": [
    "x_predicted = np.random.uniform(-1, 1, 100)\n",
    "y_predicted = model.predict(x_predicted)\n",
    "plt.scatter(x_predicted, y_predicted,color='r')\n",
    "plt.plot(x_valid, y_target)\n",
    "plt.grid(True)\n",
    "plt.show()"
   ]
  },
  {
   "cell_type": "markdown",
   "metadata": {},
   "source": [
    "Questa volta ho cambiato l'optimazer dal SGD al nadam ma non ci sono miglioramenti"
   ]
  },
  {
   "cell_type": "markdown",
   "metadata": {},
   "source": [
    "## NN #7"
   ]
  },
  {
   "cell_type": "code",
   "execution_count": 53,
   "metadata": {},
   "outputs": [],
   "source": [
    "import tensorflow as tf\n",
    "from tensorflow import keras\n",
    "\n",
    "from tensorflow.keras.models import Sequential\n",
    "from tensorflow.keras.layers import Dense, Activation\n",
    "from tensorflow.keras import backend as K\n",
    "from tensorflow.keras.utils import get_custom_objects\n",
    "from tensorflow.keras import optimizers, losses, metrics\n",
    "\n",
    "model = tf.keras.Sequential()\n",
    "model.add(Dense(20, input_shape=(1,),activation='relu'))\n",
    "model.add(Dense(18, input_shape=(1,),activation='relu'))\n",
    "model.add(Dense(12, input_shape=(1,),activation='softplus'))\n",
    "model.add(Dense(1, input_shape=(1,),activation='softplus'))\n",
    "# compile the model choosing optimizer, loss and metrics objects\n",
    "model.compile(optimizer='Nadam', loss='mean_absolute_error', metrics=['mean_absolute_error'])\n",
    "#model.compile(optimizer='sgd', loss=losses.categorical_crossentropy, metrics=['mse'])\n",
    "from tensorflow.keras import optimizers, losses, metrics\n",
    "\n",
    "\n"
   ]
  },
  {
   "cell_type": "code",
   "execution_count": 54,
   "metadata": {},
   "outputs": [
    {
     "name": "stdout",
     "output_type": "stream",
     "text": [
      "Model: \"sequential_11\"\n",
      "_________________________________________________________________\n",
      "Layer (type)                 Output Shape              Param #   \n",
      "=================================================================\n",
      "dense_69 (Dense)             (None, 20)                40        \n",
      "_________________________________________________________________\n",
      "dense_70 (Dense)             (None, 18)                378       \n",
      "_________________________________________________________________\n",
      "dense_71 (Dense)             (None, 12)                228       \n",
      "_________________________________________________________________\n",
      "dense_72 (Dense)             (None, 1)                 13        \n",
      "=================================================================\n",
      "Total params: 659\n",
      "Trainable params: 659\n",
      "Non-trainable params: 0\n",
      "_________________________________________________________________\n"
     ]
    }
   ],
   "source": [
    "model.summary()"
   ]
  },
  {
   "cell_type": "code",
   "execution_count": 55,
   "metadata": {},
   "outputs": [
    {
     "name": "stdout",
     "output_type": "stream",
     "text": [
      "Epoch 1/50\n",
      "32/32 [==============================] - 1s 5ms/step - loss: 2.8231 - mean_absolute_error: 2.8231 - val_loss: 2.5233 - val_mean_absolute_error: 2.5233\n",
      "Epoch 2/50\n",
      "32/32 [==============================] - 0s 2ms/step - loss: 2.3504 - mean_absolute_error: 2.3504 - val_loss: 1.6817 - val_mean_absolute_error: 1.6817\n",
      "Epoch 3/50\n",
      "32/32 [==============================] - 0s 2ms/step - loss: 1.3760 - mean_absolute_error: 1.3760 - val_loss: 1.0449 - val_mean_absolute_error: 1.0449\n",
      "Epoch 4/50\n",
      "32/32 [==============================] - 0s 2ms/step - loss: 0.9217 - mean_absolute_error: 0.9217 - val_loss: 0.9195 - val_mean_absolute_error: 0.9195\n",
      "Epoch 5/50\n",
      "32/32 [==============================] - 0s 2ms/step - loss: 0.7916 - mean_absolute_error: 0.7916 - val_loss: 0.8526 - val_mean_absolute_error: 0.8526\n",
      "Epoch 6/50\n",
      "32/32 [==============================] - 0s 3ms/step - loss: 0.7167 - mean_absolute_error: 0.7167 - val_loss: 0.7969 - val_mean_absolute_error: 0.7969\n",
      "Epoch 7/50\n",
      "32/32 [==============================] - 0s 2ms/step - loss: 0.6598 - mean_absolute_error: 0.6598 - val_loss: 0.7157 - val_mean_absolute_error: 0.7157\n",
      "Epoch 8/50\n",
      "32/32 [==============================] - 0s 2ms/step - loss: 0.6101 - mean_absolute_error: 0.6101 - val_loss: 0.6494 - val_mean_absolute_error: 0.6494\n",
      "Epoch 9/50\n",
      "32/32 [==============================] - 0s 2ms/step - loss: 0.5610 - mean_absolute_error: 0.5610 - val_loss: 0.6022 - val_mean_absolute_error: 0.6022\n",
      "Epoch 10/50\n",
      "32/32 [==============================] - 0s 2ms/step - loss: 0.5180 - mean_absolute_error: 0.5180 - val_loss: 0.5340 - val_mean_absolute_error: 0.5340\n",
      "Epoch 11/50\n",
      "32/32 [==============================] - 0s 2ms/step - loss: 0.4786 - mean_absolute_error: 0.4786 - val_loss: 0.4999 - val_mean_absolute_error: 0.4999\n",
      "Epoch 12/50\n",
      "32/32 [==============================] - 0s 2ms/step - loss: 0.4513 - mean_absolute_error: 0.4513 - val_loss: 0.4519 - val_mean_absolute_error: 0.4519\n",
      "Epoch 13/50\n",
      "32/32 [==============================] - 0s 2ms/step - loss: 0.4339 - mean_absolute_error: 0.4339 - val_loss: 0.4294 - val_mean_absolute_error: 0.4294\n",
      "Epoch 14/50\n",
      "32/32 [==============================] - 0s 2ms/step - loss: 0.4242 - mean_absolute_error: 0.4242 - val_loss: 0.4093 - val_mean_absolute_error: 0.4093\n",
      "Epoch 15/50\n",
      "32/32 [==============================] - 0s 8ms/step - loss: 0.4141 - mean_absolute_error: 0.4141 - val_loss: 0.3850 - val_mean_absolute_error: 0.3850\n",
      "Epoch 16/50\n",
      "32/32 [==============================] - 0s 2ms/step - loss: 0.4094 - mean_absolute_error: 0.4094 - val_loss: 0.3839 - val_mean_absolute_error: 0.3839\n",
      "Epoch 17/50\n",
      "32/32 [==============================] - 0s 2ms/step - loss: 0.4048 - mean_absolute_error: 0.4048 - val_loss: 0.3767 - val_mean_absolute_error: 0.3767\n",
      "Epoch 18/50\n",
      "32/32 [==============================] - 0s 3ms/step - loss: 0.4034 - mean_absolute_error: 0.4034 - val_loss: 0.4233 - val_mean_absolute_error: 0.4233\n",
      "Epoch 19/50\n",
      "32/32 [==============================] - 0s 4ms/step - loss: 0.4031 - mean_absolute_error: 0.4031 - val_loss: 0.4073 - val_mean_absolute_error: 0.4073\n",
      "Epoch 20/50\n",
      "32/32 [==============================] - 0s 4ms/step - loss: 0.3994 - mean_absolute_error: 0.3994 - val_loss: 0.3806 - val_mean_absolute_error: 0.3806\n",
      "Epoch 21/50\n",
      "32/32 [==============================] - 0s 5ms/step - loss: 0.3990 - mean_absolute_error: 0.3990 - val_loss: 0.4029 - val_mean_absolute_error: 0.4029\n",
      "Epoch 22/50\n",
      "32/32 [==============================] - 0s 2ms/step - loss: 0.3958 - mean_absolute_error: 0.3958 - val_loss: 0.3878 - val_mean_absolute_error: 0.3878\n",
      "Epoch 23/50\n",
      "32/32 [==============================] - 0s 2ms/step - loss: 0.3984 - mean_absolute_error: 0.3984 - val_loss: 0.3820 - val_mean_absolute_error: 0.3820\n",
      "Epoch 24/50\n",
      "32/32 [==============================] - 0s 3ms/step - loss: 0.3952 - mean_absolute_error: 0.3952 - val_loss: 0.3808 - val_mean_absolute_error: 0.3808\n",
      "Epoch 25/50\n",
      "32/32 [==============================] - 0s 2ms/step - loss: 0.3977 - mean_absolute_error: 0.3977 - val_loss: 0.3655 - val_mean_absolute_error: 0.3655\n",
      "Epoch 26/50\n",
      "32/32 [==============================] - 0s 4ms/step - loss: 0.3947 - mean_absolute_error: 0.3947 - val_loss: 0.4020 - val_mean_absolute_error: 0.4020\n",
      "Epoch 27/50\n",
      "32/32 [==============================] - 0s 3ms/step - loss: 0.3955 - mean_absolute_error: 0.3955 - val_loss: 0.3676 - val_mean_absolute_error: 0.3676\n",
      "Epoch 28/50\n",
      "32/32 [==============================] - 0s 2ms/step - loss: 0.3941 - mean_absolute_error: 0.3941 - val_loss: 0.3631 - val_mean_absolute_error: 0.3631\n",
      "Epoch 29/50\n",
      "32/32 [==============================] - 0s 2ms/step - loss: 0.3935 - mean_absolute_error: 0.3935 - val_loss: 0.3659 - val_mean_absolute_error: 0.3659\n",
      "Epoch 30/50\n",
      "32/32 [==============================] - 0s 2ms/step - loss: 0.3934 - mean_absolute_error: 0.3934 - val_loss: 0.3833 - val_mean_absolute_error: 0.3833\n",
      "Epoch 31/50\n",
      "32/32 [==============================] - 0s 2ms/step - loss: 0.3913 - mean_absolute_error: 0.3913 - val_loss: 0.3739 - val_mean_absolute_error: 0.3739\n",
      "Epoch 32/50\n",
      "32/32 [==============================] - 0s 2ms/step - loss: 0.3925 - mean_absolute_error: 0.3925 - val_loss: 0.3688 - val_mean_absolute_error: 0.3688\n",
      "Epoch 33/50\n",
      "32/32 [==============================] - 0s 2ms/step - loss: 0.3913 - mean_absolute_error: 0.3913 - val_loss: 0.3603 - val_mean_absolute_error: 0.3603\n",
      "Epoch 34/50\n",
      "32/32 [==============================] - 0s 3ms/step - loss: 0.3936 - mean_absolute_error: 0.3936 - val_loss: 0.3844 - val_mean_absolute_error: 0.3844\n",
      "Epoch 35/50\n",
      "32/32 [==============================] - 0s 2ms/step - loss: 0.3939 - mean_absolute_error: 0.3939 - val_loss: 0.3645 - val_mean_absolute_error: 0.3645\n",
      "Epoch 36/50\n",
      "32/32 [==============================] - 0s 3ms/step - loss: 0.3915 - mean_absolute_error: 0.3915 - val_loss: 0.3692 - val_mean_absolute_error: 0.3692\n",
      "Epoch 37/50\n",
      "32/32 [==============================] - 0s 3ms/step - loss: 0.3901 - mean_absolute_error: 0.3901 - val_loss: 0.3837 - val_mean_absolute_error: 0.3837\n",
      "Epoch 38/50\n",
      "32/32 [==============================] - 0s 3ms/step - loss: 0.3920 - mean_absolute_error: 0.3920 - val_loss: 0.3667 - val_mean_absolute_error: 0.3667\n",
      "Epoch 39/50\n",
      "32/32 [==============================] - 0s 2ms/step - loss: 0.3913 - mean_absolute_error: 0.3913 - val_loss: 0.3678 - val_mean_absolute_error: 0.3678\n",
      "Epoch 40/50\n",
      "32/32 [==============================] - 0s 2ms/step - loss: 0.3896 - mean_absolute_error: 0.3896 - val_loss: 0.3747 - val_mean_absolute_error: 0.3747\n",
      "Epoch 41/50\n",
      "32/32 [==============================] - 0s 3ms/step - loss: 0.3926 - mean_absolute_error: 0.3926 - val_loss: 0.3730 - val_mean_absolute_error: 0.3730\n",
      "Epoch 42/50\n",
      "32/32 [==============================] - 0s 4ms/step - loss: 0.3907 - mean_absolute_error: 0.3907 - val_loss: 0.3680 - val_mean_absolute_error: 0.3680\n",
      "Epoch 43/50\n",
      "32/32 [==============================] - 0s 2ms/step - loss: 0.3914 - mean_absolute_error: 0.3914 - val_loss: 0.3680 - val_mean_absolute_error: 0.3680\n",
      "Epoch 44/50\n",
      "32/32 [==============================] - 0s 4ms/step - loss: 0.3910 - mean_absolute_error: 0.3910 - val_loss: 0.3657 - val_mean_absolute_error: 0.3657\n",
      "Epoch 45/50\n",
      "32/32 [==============================] - 0s 4ms/step - loss: 0.3919 - mean_absolute_error: 0.3919 - val_loss: 0.3778 - val_mean_absolute_error: 0.3778\n",
      "Epoch 46/50\n",
      "32/32 [==============================] - 0s 4ms/step - loss: 0.3920 - mean_absolute_error: 0.3920 - val_loss: 0.3637 - val_mean_absolute_error: 0.3637\n",
      "Epoch 47/50\n",
      "32/32 [==============================] - 0s 3ms/step - loss: 0.3919 - mean_absolute_error: 0.3919 - val_loss: 0.3593 - val_mean_absolute_error: 0.3593\n",
      "Epoch 48/50\n",
      "32/32 [==============================] - 0s 2ms/step - loss: 0.3915 - mean_absolute_error: 0.3915 - val_loss: 0.3696 - val_mean_absolute_error: 0.3696\n",
      "Epoch 49/50\n",
      "32/32 [==============================] - 0s 2ms/step - loss: 0.3914 - mean_absolute_error: 0.3914 - val_loss: 0.3890 - val_mean_absolute_error: 0.3890\n",
      "Epoch 50/50\n",
      "32/32 [==============================] - 0s 2ms/step - loss: 0.3909 - mean_absolute_error: 0.3909 - val_loss: 0.3732 - val_mean_absolute_error: 0.3732\n"
     ]
    }
   ],
   "source": [
    "# fit the model using training dataset\n",
    "# over 10 epochs of 32 batch size each\n",
    "# report training progress against validation data\n",
    "history = model.fit(x=x_train, y=y_train, \n",
    "          batch_size=32, epochs=50,\n",
    "          shuffle=True, # a good idea is to shuffle input before at each epoch\n",
    "          validation_data=(x_valid, y_valid))"
   ]
  },
  {
   "cell_type": "code",
   "execution_count": 56,
   "metadata": {},
   "outputs": [
    {
     "name": "stdout",
     "output_type": "stream",
     "text": [
      "4/4 [==============================] - 0s 2ms/step - loss: 0.3732 - mean_absolute_error: 0.3732\n",
      "\n",
      "Test loss: 0.3732154369354248\n",
      "Test accuracy: 0.3732154369354248\n"
     ]
    },
    {
     "data": {
      "image/png": "[encoded data removed]",
      "text/plain": [
       "<Figure size 432x288 with 1 Axes>"
      ]
     },
     "metadata": {
      "needs_background": "light"
     },
     "output_type": "display_data"
    }
   ],
   "source": [
    "#model.evaluate(x_valid, y_valid, batch_size=32)\n",
    "# evaluate model\n",
    "score = model.evaluate(x_valid, y_valid, batch_size=32, verbose=1)\n",
    "\n",
    "# print performance\n",
    "print()\n",
    "print('Test loss:', score[0])\n",
    "print('Test accuracy:', score[1])\n",
    "\n",
    "# look into training history\n",
    "\n",
    "# summarize history for loss\n",
    "plt.plot(history.history['loss'])\n",
    "plt.plot(history.history['val_loss'])\n",
    "plt.ylabel('model loss')\n",
    "plt.xlabel('epoch')\n",
    "plt.legend(['train', 'test/validation'], loc='best')\n",
    "plt.show()"
   ]
  },
  {
   "cell_type": "code",
   "execution_count": 57,
   "metadata": {},
   "outputs": [
    {
     "data": {
      "image/png": "[encoded data removed]",
      "text/plain": [
       "<Figure size 432x288 with 1 Axes>"
      ]
     },
     "metadata": {
      "needs_background": "light"
     },
     "output_type": "display_data"
    }
   ],
   "source": [
    "x_predicted = np.random.uniform(-1, 1, 100)\n",
    "y_predicted = model.predict(x_predicted)\n",
    "plt.scatter(x_predicted, y_predicted,color='r')\n",
    "plt.plot(x_valid, y_target)\n",
    "plt.grid(True)\n",
    "plt.show()"
   ]
  },
  {
   "cell_type": "markdown",
   "metadata": {},
   "source": [
    "Ho cambiato la funzione di attivazione ma di nuovo non ci sono miglioramenti.\n",
    "Tutte queste reti sembrano circa equivalersi."
   ]
  },
  {
   "cell_type": "markdown",
   "metadata": {},
   "source": [
    "# Fuori dal training"
   ]
  },
  {
   "cell_type": "code",
   "execution_count": 277,
   "metadata": {},
   "outputs": [],
   "source": [
    "import numpy as np\n",
    "\n",
    "# generate training inputs\n",
    "np.random.seed(0)\n",
    "x_train = np.random.uniform(-1, 1, 1000)\n",
    "x_valid = np.random.uniform(-2, 2, 100)\n",
    "x_valid.sort()\n",
    "y_target = a + b*x_valid + c*x_valid**2 + d*x_valid**3 # ideal (target) linear function\n",
    "\n",
    "sigma = 0.5 # noise standard deviation, for the moment it is absent\n",
    "y_train = np.random.normal(a + b*x_train + c*x_train**2 + d*x_train**3, sigma) # actual measures from which we want to guess regression parameters\n",
    "y_valid = np.random.normal(a + b*x_valid + c*x_valid**2 + d*x_valid**3, sigma)\n",
    "\n"
   ]
  },
  {
   "cell_type": "code",
   "execution_count": 278,
   "metadata": {},
   "outputs": [
    {
     "data": {
      "image/png": "[encoded data removed]",
      "text/plain": [
       "<Figure size 432x288 with 1 Axes>"
      ]
     },
     "metadata": {
      "needs_background": "light"
     },
     "output_type": "display_data"
    }
   ],
   "source": [
    "# plot training and target dataset\n",
    "import matplotlib.pyplot as plt\n",
    "plt.plot(x_valid, y_target)\n",
    "plt.scatter(x_valid, y_valid, color='r')\n",
    "plt.grid(True); plt.show()"
   ]
  },
  {
   "cell_type": "code",
   "execution_count": 279,
   "metadata": {},
   "outputs": [],
   "source": [
    "import tensorflow as tf\n",
    "from tensorflow import keras\n",
    "\n",
    "from tensorflow.keras.models import Sequential\n",
    "from tensorflow.keras.layers import Dense, Activation\n",
    "from tensorflow.keras import backend as K\n",
    "from tensorflow.keras.utils import get_custom_objects\n",
    "from tensorflow.keras import optimizers, losses, metrics\n",
    "\n",
    "model = tf.keras.Sequential()\n",
    "model.add(Dense(20, input_shape=(1,),activation='relu'))\n",
    "model.add(Dense(18, input_shape=(1,),activation='relu'))\n",
    "model.add(Dense(12, input_shape=(1,),activation='relu'))\n",
    "model.add(Dense(1, input_shape=(1,),activation='relu'))\n",
    "# compile the model choosing optimizer, loss and metrics objects\n",
    "model.compile(optimizer='sgd', loss='mse', metrics=['mse'])\n",
    "#model.compile(optimizer='sgd', loss=losses.categorical_crossentropy, metrics=['mse'])\n",
    "from tensorflow.keras import optimizers, losses, metrics\n",
    "\n",
    "# Configure the model for mean-squared error regression.\n",
    "#model.compile(optimizer=optimizers.SGD(),             #optimizer='sgd',       # stochastic gradient descent\n",
    "              #loss=losses.categorical_crossentropy,\n",
    "              #metrics=[metrics.categorical_accuracy]) #metrics=['accuracy'])  # an optional list of metrics"
   ]
  },
  {
   "cell_type": "code",
   "execution_count": 280,
   "metadata": {},
   "outputs": [
    {
     "name": "stdout",
     "output_type": "stream",
     "text": [
      "Epoch 1/50\n",
      "32/32 [==============================] - 0s 5ms/step - loss: 3.0739 - mse: 3.0739 - val_loss: 94.6521 - val_mse: 94.6521\n",
      "Epoch 2/50\n",
      "32/32 [==============================] - 0s 2ms/step - loss: 0.7578 - mse: 0.7578 - val_loss: 95.1125 - val_mse: 95.1125\n",
      "Epoch 3/50\n",
      "32/32 [==============================] - 0s 2ms/step - loss: 0.6445 - mse: 0.6445 - val_loss: 90.0453 - val_mse: 90.0453\n",
      "Epoch 4/50\n",
      "32/32 [==============================] - 0s 2ms/step - loss: 0.5706 - mse: 0.5706 - val_loss: 87.8137 - val_mse: 87.8137\n",
      "Epoch 5/50\n",
      "32/32 [==============================] - 0s 3ms/step - loss: 0.4918 - mse: 0.4918 - val_loss: 86.6621 - val_mse: 86.6621\n",
      "Epoch 6/50\n",
      "32/32 [==============================] - 0s 3ms/step - loss: 0.4283 - mse: 0.4283 - val_loss: 84.1720 - val_mse: 84.1720\n",
      "Epoch 7/50\n",
      "32/32 [==============================] - 0s 2ms/step - loss: 0.3868 - mse: 0.3868 - val_loss: 81.6940 - val_mse: 81.6940\n",
      "Epoch 8/50\n",
      "32/32 [==============================] - 0s 3ms/step - loss: 0.3544 - mse: 0.3544 - val_loss: 79.9062 - val_mse: 79.9062\n",
      "Epoch 9/50\n",
      "32/32 [==============================] - 0s 2ms/step - loss: 0.3267 - mse: 0.3267 - val_loss: 79.0572 - val_mse: 79.0572\n",
      "Epoch 10/50\n",
      "32/32 [==============================] - 0s 2ms/step - loss: 0.3073 - mse: 0.3073 - val_loss: 75.6276 - val_mse: 75.6276\n",
      "Epoch 11/50\n",
      "32/32 [==============================] - 0s 2ms/step - loss: 0.2918 - mse: 0.2918 - val_loss: 74.1516 - val_mse: 74.1516\n",
      "Epoch 12/50\n",
      "32/32 [==============================] - 0s 2ms/step - loss: 0.2841 - mse: 0.2841 - val_loss: 71.7294 - val_mse: 71.7294\n",
      "Epoch 13/50\n",
      "32/32 [==============================] - 0s 2ms/step - loss: 0.2727 - mse: 0.2727 - val_loss: 70.5910 - val_mse: 70.5910\n",
      "Epoch 14/50\n",
      "32/32 [==============================] - 0s 2ms/step - loss: 0.2770 - mse: 0.2770 - val_loss: 71.3627 - val_mse: 71.3627\n",
      "Epoch 15/50\n",
      "32/32 [==============================] - 0s 2ms/step - loss: 0.2663 - mse: 0.2663 - val_loss: 70.5139 - val_mse: 70.5139\n",
      "Epoch 16/50\n",
      "32/32 [==============================] - 0s 2ms/step - loss: 0.2614 - mse: 0.2614 - val_loss: 70.1437 - val_mse: 70.1437\n",
      "Epoch 17/50\n",
      "32/32 [==============================] - 0s 2ms/step - loss: 0.2602 - mse: 0.2602 - val_loss: 69.5337 - val_mse: 69.5337\n",
      "Epoch 18/50\n",
      "32/32 [==============================] - 0s 2ms/step - loss: 0.2572 - mse: 0.2572 - val_loss: 69.5744 - val_mse: 69.5744\n",
      "Epoch 19/50\n",
      "32/32 [==============================] - 0s 3ms/step - loss: 0.2539 - mse: 0.2539 - val_loss: 69.2180 - val_mse: 69.2180\n",
      "Epoch 20/50\n",
      "32/32 [==============================] - 0s 4ms/step - loss: 0.2544 - mse: 0.2544 - val_loss: 68.9760 - val_mse: 68.9760\n",
      "Epoch 21/50\n",
      "32/32 [==============================] - 0s 3ms/step - loss: 0.2481 - mse: 0.2481 - val_loss: 68.4048 - val_mse: 68.4048\n",
      "Epoch 22/50\n",
      "32/32 [==============================] - 0s 3ms/step - loss: 0.2515 - mse: 0.2515 - val_loss: 68.5592 - val_mse: 68.5592\n",
      "Epoch 23/50\n",
      "32/32 [==============================] - 0s 3ms/step - loss: 0.2493 - mse: 0.2493 - val_loss: 68.0904 - val_mse: 68.0904\n",
      "Epoch 24/50\n",
      "32/32 [==============================] - 0s 4ms/step - loss: 0.2466 - mse: 0.2466 - val_loss: 68.0506 - val_mse: 68.0506\n",
      "Epoch 25/50\n",
      "32/32 [==============================] - 0s 2ms/step - loss: 0.2456 - mse: 0.2456 - val_loss: 67.6220 - val_mse: 67.6220\n",
      "Epoch 26/50\n",
      "32/32 [==============================] - 0s 2ms/step - loss: 0.2480 - mse: 0.2480 - val_loss: 67.8918 - val_mse: 67.8918\n",
      "Epoch 27/50\n",
      "32/32 [==============================] - 0s 2ms/step - loss: 0.2471 - mse: 0.2471 - val_loss: 67.8849 - val_mse: 67.8849\n",
      "Epoch 28/50\n",
      "32/32 [==============================] - 0s 4ms/step - loss: 0.2439 - mse: 0.2439 - val_loss: 67.4959 - val_mse: 67.4959\n",
      "Epoch 29/50\n",
      "32/32 [==============================] - 0s 3ms/step - loss: 0.2494 - mse: 0.2494 - val_loss: 67.3789 - val_mse: 67.3789\n",
      "Epoch 30/50\n",
      "32/32 [==============================] - 0s 4ms/step - loss: 0.2447 - mse: 0.2447 - val_loss: 67.7387 - val_mse: 67.7387\n",
      "Epoch 31/50\n",
      "32/32 [==============================] - 0s 3ms/step - loss: 0.2511 - mse: 0.2511 - val_loss: 67.0573 - val_mse: 67.0573\n",
      "Epoch 32/50\n",
      "32/32 [==============================] - 0s 4ms/step - loss: 0.2404 - mse: 0.2404 - val_loss: 67.5852 - val_mse: 67.5852\n",
      "Epoch 33/50\n",
      "32/32 [==============================] - 0s 3ms/step - loss: 0.2483 - mse: 0.2483 - val_loss: 66.9084 - val_mse: 66.9084\n",
      "Epoch 34/50\n",
      "32/32 [==============================] - 0s 4ms/step - loss: 0.2421 - mse: 0.2421 - val_loss: 66.8657 - val_mse: 66.8657\n",
      "Epoch 35/50\n",
      "32/32 [==============================] - 0s 3ms/step - loss: 0.2429 - mse: 0.2429 - val_loss: 66.9603 - val_mse: 66.9603\n",
      "Epoch 36/50\n",
      "32/32 [==============================] - 0s 3ms/step - loss: 0.2460 - mse: 0.2460 - val_loss: 66.8341 - val_mse: 66.8341\n",
      "Epoch 37/50\n",
      "32/32 [==============================] - 0s 4ms/step - loss: 0.2421 - mse: 0.2421 - val_loss: 66.9395 - val_mse: 66.9395\n",
      "Epoch 38/50\n",
      "32/32 [==============================] - 0s 4ms/step - loss: 0.2417 - mse: 0.2417 - val_loss: 66.6239 - val_mse: 66.6239\n",
      "Epoch 39/50\n",
      "32/32 [==============================] - 0s 3ms/step - loss: 0.2396 - mse: 0.2396 - val_loss: 66.7649 - val_mse: 66.7649\n",
      "Epoch 40/50\n",
      "32/32 [==============================] - 0s 2ms/step - loss: 0.2422 - mse: 0.2422 - val_loss: 66.6627 - val_mse: 66.6627\n",
      "Epoch 41/50\n",
      "32/32 [==============================] - 0s 2ms/step - loss: 0.2434 - mse: 0.2434 - val_loss: 66.5063 - val_mse: 66.5063\n",
      "Epoch 42/50\n",
      "32/32 [==============================] - 0s 2ms/step - loss: 0.2424 - mse: 0.2424 - val_loss: 66.5591 - val_mse: 66.5591\n",
      "Epoch 43/50\n",
      "32/32 [==============================] - 0s 3ms/step - loss: 0.2432 - mse: 0.2432 - val_loss: 66.6527 - val_mse: 66.6527\n",
      "Epoch 44/50\n",
      "32/32 [==============================] - 0s 2ms/step - loss: 0.2417 - mse: 0.2417 - val_loss: 66.5485 - val_mse: 66.5485\n",
      "Epoch 45/50\n",
      "32/32 [==============================] - 0s 2ms/step - loss: 0.2420 - mse: 0.2420 - val_loss: 66.6845 - val_mse: 66.6845\n",
      "Epoch 46/50\n",
      "32/32 [==============================] - 0s 2ms/step - loss: 0.2402 - mse: 0.2402 - val_loss: 66.3318 - val_mse: 66.3318\n",
      "Epoch 47/50\n",
      "32/32 [==============================] - 0s 2ms/step - loss: 0.2451 - mse: 0.2451 - val_loss: 66.3470 - val_mse: 66.3470\n",
      "Epoch 48/50\n",
      "32/32 [==============================] - 0s 2ms/step - loss: 0.2411 - mse: 0.2411 - val_loss: 66.3772 - val_mse: 66.3772\n",
      "Epoch 49/50\n",
      "32/32 [==============================] - 0s 3ms/step - loss: 0.2454 - mse: 0.2454 - val_loss: 66.4040 - val_mse: 66.4040\n",
      "Epoch 50/50\n",
      "32/32 [==============================] - 0s 2ms/step - loss: 0.2399 - mse: 0.2399 - val_loss: 66.3267 - val_mse: 66.3267\n"
     ]
    }
   ],
   "source": [
    "# fit the model using training dataset\n",
    "# over 10 epochs of 32 batch size each\n",
    "# report training progress against validation data\n",
    "history = model.fit(x=x_train, y=y_train, \n",
    "          batch_size=32, epochs=50,\n",
    "          shuffle=True, # a good idea is to shuffle input before at each epoch\n",
    "          validation_data=(x_valid, y_valid))"
   ]
  },
  {
   "cell_type": "code",
   "execution_count": 284,
   "metadata": {},
   "outputs": [
    {
     "name": "stdout",
     "output_type": "stream",
     "text": [
      "4/4 [==============================] - 0s 1ms/step - loss: 66.3267 - mse: 66.3267\n",
      "\n",
      "Test loss: 66.32671356201172\n",
      "Test accuracy: 66.32671356201172\n"
     ]
    },
    {
     "data": {
      "image/png": "[encoded data removed]",
      "text/plain": [
       "<Figure size 432x288 with 1 Axes>"
      ]
     },
     "metadata": {
      "needs_background": "light"
     },
     "output_type": "display_data"
    }
   ],
   "source": [
    "#model.evaluate(x_valid, y_valid, batch_size=32)\n",
    "# evaluate model\n",
    "score = model.evaluate(x_valid, y_valid, batch_size=32, verbose=1)\n",
    "\n",
    "# print performance\n",
    "print()\n",
    "print('Test loss:', score[0])\n",
    "print('Test accuracy:', score[1])\n",
    "\n",
    "# look into training history\n",
    "\n",
    "# summarize history for loss\n",
    "plt.plot(history.history['loss'])\n",
    "plt.plot(history.history['val_loss'])\n",
    "plt.ylabel('model loss')\n",
    "plt.xlabel('epoch')\n",
    "plt.legend(['train', 'test/validation'], loc='best')\n",
    "plt.show()"
   ]
  },
  {
   "cell_type": "code",
   "execution_count": 285,
   "metadata": {},
   "outputs": [
    {
     "data": {
      "image/png": "[encoded data removed]",
      "text/plain": [
       "<Figure size 432x288 with 1 Axes>"
      ]
     },
     "metadata": {
      "needs_background": "light"
     },
     "output_type": "display_data"
    }
   ],
   "source": [
    "x_predicted = np.random.uniform(-2, 2, 100)\n",
    "y_predicted = model.predict(x_predicted)\n",
    "plt.scatter(x_predicted, y_predicted,color='r')\n",
    "plt.plot(x_valid, y_target)\n",
    "plt.grid(True)\n",
    "plt.show()"
   ]
  },
  {
   "cell_type": "markdown",
   "metadata": {},
   "source": [
    "Per fittare fuori dal traning ho usato un modello buono dei precedenti. Emerge chiaramente che con dati fuori da quelli di trainig la rete è totalmente incapace di fare predizioni sensate. "
   ]
  },
  {
   "cell_type": "code",
   "execution_count": null,
   "metadata": {},
   "outputs": [],
   "source": []
  }
 ],
 "metadata": {
  "kernelspec": {
   "display_name": "Python 3",
   "language": "python",
   "name": "python3"
  },
  "language_info": {
   "codemirror_mode": {
    "name": "ipython",
    "version": 3
   },
   "file_extension": ".py",
   "mimetype": "text/x-python",
   "name": "python",
   "nbconvert_exporter": "python",
   "pygments_lexer": "ipython3",
   "version": "3.8.5"
  }
 },
 "nbformat": 4,
 "nbformat_minor": 4
}
