{
 "cells": [
  {
   "cell_type": "markdown",
   "metadata": {},
   "source": [
    "# Es 11.1"
   ]
  },
  {
   "cell_type": "markdown",
   "metadata": {},
   "source": [
    "Proverò a rifare il fit lineare con i seguenti metodi:\n",
    "- Aumentando le epoche\n",
    "- Aumentanfo il set di train e valid\n",
    "\n",
    "E con una sigma = 0.6"
   ]
  },
  {
   "cell_type": "markdown",
   "metadata": {},
   "source": [
    "### Più epoche"
   ]
  },
  {
   "cell_type": "code",
   "execution_count": 28,
   "metadata": {},
   "outputs": [],
   "source": [
    "# target parameters of f(x) = m*x + b\n",
    "m = 2 # slope\n",
    "b = 1 # intersect"
   ]
  },
  {
   "cell_type": "code",
   "execution_count": 29,
   "metadata": {},
   "outputs": [],
   "source": [
    "import numpy as np\n",
    "\n",
    "# generate training inputs\n",
    "np.random.seed(0)\n",
    "x_train = np.random.uniform(-1, 1, 500)\n",
    "x_valid = np.random.uniform(-1, 1, 50)\n",
    "x_valid.sort()\n",
    "y_target = m * x_valid + b # ideal (target) linear function\n",
    "\n",
    "sigma = 0.6 # noise standard deviation, for the moment it is absent\n",
    "y_train = np.random.normal(m * x_train + b, sigma) # actual measures from which we want to guess regression parameters\n",
    "y_valid = np.random.normal(m * x_valid + b, sigma)"
   ]
  },
  {
   "cell_type": "code",
   "execution_count": 30,
   "metadata": {},
   "outputs": [
    {
     "data": {
      "image/png": "[encoded data removed]",
      "text/plain": [
       "<Figure size 432x288 with 1 Axes>"
      ]
     },
     "metadata": {
      "needs_background": "light"
     },
     "output_type": "display_data"
    }
   ],
   "source": [
    "# plot validation and target dataset\n",
    "import matplotlib.pyplot as plt\n",
    "plt.plot(x_valid, y_target, label='target')\n",
    "plt.scatter(x_valid, y_valid, color='r', label='validation data')\n",
    "plt.legend()\n",
    "plt.grid(True)\n",
    "plt.show()"
   ]
  },
  {
   "cell_type": "code",
   "execution_count": 31,
   "metadata": {},
   "outputs": [],
   "source": [
    "import tensorflow as tf\n",
    "from tensorflow import keras\n",
    "\n",
    "from tensorflow.keras.models import Sequential\n",
    "from tensorflow.keras.layers import Dense, Activation\n",
    "from tensorflow.keras import backend as K\n",
    "from tensorflow.keras.utils import get_custom_objects\n",
    "\n",
    "model = tf.keras.Sequential()\n",
    "model.add(Dense(1, input_shape=(1,)))\n",
    "\n",
    "# compile the model choosing optimizer, loss and metrics objects\n",
    "model.compile(optimizer='sgd', loss='mse', metrics=['mse'])"
   ]
  },
  {
   "cell_type": "code",
   "execution_count": 32,
   "metadata": {
    "scrolled": true
   },
   "outputs": [
    {
     "name": "stdout",
     "output_type": "stream",
     "text": [
      "Model: \"sequential_2\"\n",
      "_________________________________________________________________\n",
      "Layer (type)                 Output Shape              Param #   \n",
      "=================================================================\n",
      "dense_2 (Dense)              (None, 1)                 2         \n",
      "=================================================================\n",
      "Total params: 2\n",
      "Trainable params: 2\n",
      "Non-trainable params: 0\n",
      "_________________________________________________________________\n"
     ]
    }
   ],
   "source": [
    "# get a summary of our composed model\n",
    "model.summary()"
   ]
  },
  {
   "cell_type": "code",
   "execution_count": 33,
   "metadata": {
    "scrolled": true
   },
   "outputs": [
    {
     "name": "stdout",
     "output_type": "stream",
     "text": [
      "Epoch 1/320\n",
      "16/16 [==============================] - 0s 7ms/step - loss: 2.7740 - mse: 2.7740 - val_loss: 2.4705 - val_mse: 2.4705\n",
      "Epoch 2/320\n",
      "16/16 [==============================] - 0s 2ms/step - loss: 2.1254 - mse: 2.1254 - val_loss: 1.9291 - val_mse: 1.9291\n",
      "Epoch 3/320\n",
      "16/16 [==============================] - 0s 3ms/step - loss: 1.6889 - mse: 1.6889 - val_loss: 1.5515 - val_mse: 1.5515\n",
      "Epoch 4/320\n",
      "16/16 [==============================] - 0s 2ms/step - loss: 1.3799 - mse: 1.3799 - val_loss: 1.2778 - val_mse: 1.2778\n",
      "Epoch 5/320\n",
      "16/16 [==============================] - 0s 3ms/step - loss: 1.1529 - mse: 1.1529 - val_loss: 1.0769 - val_mse: 1.0769\n",
      "Epoch 6/320\n",
      "16/16 [==============================] - 0s 2ms/step - loss: 0.9831 - mse: 0.9831 - val_loss: 0.9239 - val_mse: 0.9239\n",
      "Epoch 7/320\n",
      "16/16 [==============================] - 0s 3ms/step - loss: 0.8510 - mse: 0.8510 - val_loss: 0.8075 - val_mse: 0.8075\n",
      "Epoch 8/320\n",
      "16/16 [==============================] - 0s 4ms/step - loss: 0.7495 - mse: 0.7495 - val_loss: 0.7172 - val_mse: 0.7172\n",
      "Epoch 9/320\n",
      "16/16 [==============================] - 0s 2ms/step - loss: 0.6703 - mse: 0.6703 - val_loss: 0.6492 - val_mse: 0.6492\n",
      "Epoch 10/320\n",
      "16/16 [==============================] - 0s 2ms/step - loss: 0.6075 - mse: 0.6075 - val_loss: 0.5947 - val_mse: 0.5947\n",
      "Epoch 11/320\n",
      "16/16 [==============================] - 0s 2ms/step - loss: 0.5568 - mse: 0.5568 - val_loss: 0.5505 - val_mse: 0.5505\n",
      "Epoch 12/320\n",
      "16/16 [==============================] - 0s 2ms/step - loss: 0.5162 - mse: 0.5162 - val_loss: 0.5169 - val_mse: 0.5169\n",
      "Epoch 13/320\n",
      "16/16 [==============================] - 0s 2ms/step - loss: 0.4840 - mse: 0.4840 - val_loss: 0.4919 - val_mse: 0.4919\n",
      "Epoch 14/320\n",
      "16/16 [==============================] - 0s 2ms/step - loss: 0.4584 - mse: 0.4584 - val_loss: 0.4714 - val_mse: 0.4714\n",
      "Epoch 15/320\n",
      "16/16 [==============================] - 0s 2ms/step - loss: 0.4377 - mse: 0.4377 - val_loss: 0.4551 - val_mse: 0.4551\n",
      "Epoch 16/320\n",
      "16/16 [==============================] - 0s 2ms/step - loss: 0.4210 - mse: 0.4210 - val_loss: 0.4428 - val_mse: 0.4428\n",
      "Epoch 17/320\n",
      "16/16 [==============================] - 0s 3ms/step - loss: 0.4073 - mse: 0.4073 - val_loss: 0.4320 - val_mse: 0.4320\n",
      "Epoch 18/320\n",
      "16/16 [==============================] - 0s 3ms/step - loss: 0.3964 - mse: 0.3964 - val_loss: 0.4251 - val_mse: 0.4251\n",
      "Epoch 19/320\n",
      "16/16 [==============================] - 0s 2ms/step - loss: 0.3878 - mse: 0.3878 - val_loss: 0.4179 - val_mse: 0.4179\n",
      "Epoch 20/320\n",
      "16/16 [==============================] - 0s 10ms/step - loss: 0.3807 - mse: 0.3807 - val_loss: 0.4130 - val_mse: 0.4130\n",
      "Epoch 21/320\n",
      "16/16 [==============================] - 0s 2ms/step - loss: 0.3752 - mse: 0.3752 - val_loss: 0.4095 - val_mse: 0.4095\n",
      "Epoch 22/320\n",
      "16/16 [==============================] - 0s 2ms/step - loss: 0.3705 - mse: 0.3705 - val_loss: 0.4064 - val_mse: 0.4064\n",
      "Epoch 23/320\n",
      "16/16 [==============================] - 0s 2ms/step - loss: 0.3671 - mse: 0.3671 - val_loss: 0.4055 - val_mse: 0.4055\n",
      "Epoch 24/320\n",
      "16/16 [==============================] - 0s 3ms/step - loss: 0.3639 - mse: 0.3639 - val_loss: 0.4031 - val_mse: 0.4031\n",
      "Epoch 25/320\n",
      "16/16 [==============================] - 0s 3ms/step - loss: 0.3617 - mse: 0.3617 - val_loss: 0.4033 - val_mse: 0.4033\n",
      "Epoch 26/320\n",
      "16/16 [==============================] - 0s 2ms/step - loss: 0.3597 - mse: 0.3597 - val_loss: 0.4019 - val_mse: 0.4019\n",
      "Epoch 27/320\n",
      "16/16 [==============================] - 0s 3ms/step - loss: 0.3583 - mse: 0.3583 - val_loss: 0.4015 - val_mse: 0.4015\n",
      "Epoch 28/320\n",
      "16/16 [==============================] - 0s 2ms/step - loss: 0.3571 - mse: 0.3571 - val_loss: 0.4000 - val_mse: 0.4000\n",
      "Epoch 29/320\n",
      "16/16 [==============================] - 0s 3ms/step - loss: 0.3563 - mse: 0.3563 - val_loss: 0.3988 - val_mse: 0.3988\n",
      "Epoch 30/320\n",
      "16/16 [==============================] - 0s 3ms/step - loss: 0.3554 - mse: 0.3554 - val_loss: 0.3989 - val_mse: 0.3989\n",
      "Epoch 31/320\n",
      "16/16 [==============================] - 0s 2ms/step - loss: 0.3548 - mse: 0.3548 - val_loss: 0.3986 - val_mse: 0.3986\n",
      "Epoch 32/320\n",
      "16/16 [==============================] - 0s 3ms/step - loss: 0.3544 - mse: 0.3544 - val_loss: 0.3986 - val_mse: 0.3986\n",
      "Epoch 33/320\n",
      "16/16 [==============================] - 0s 2ms/step - loss: 0.3539 - mse: 0.3539 - val_loss: 0.3989 - val_mse: 0.3989\n",
      "Epoch 34/320\n",
      "16/16 [==============================] - 0s 3ms/step - loss: 0.3537 - mse: 0.3537 - val_loss: 0.3974 - val_mse: 0.3974\n",
      "Epoch 35/320\n",
      "16/16 [==============================] - 0s 3ms/step - loss: 0.3534 - mse: 0.3534 - val_loss: 0.3970 - val_mse: 0.3970\n",
      "Epoch 36/320\n",
      "16/16 [==============================] - 0s 2ms/step - loss: 0.3531 - mse: 0.3531 - val_loss: 0.3978 - val_mse: 0.3978\n",
      "Epoch 37/320\n",
      "16/16 [==============================] - 0s 3ms/step - loss: 0.3530 - mse: 0.3530 - val_loss: 0.3992 - val_mse: 0.3992\n",
      "Epoch 38/320\n",
      "16/16 [==============================] - 0s 2ms/step - loss: 0.3529 - mse: 0.3529 - val_loss: 0.3992 - val_mse: 0.3992\n",
      "Epoch 39/320\n",
      "16/16 [==============================] - 0s 4ms/step - loss: 0.3527 - mse: 0.3527 - val_loss: 0.3997 - val_mse: 0.3997\n",
      "Epoch 40/320\n",
      "16/16 [==============================] - 0s 3ms/step - loss: 0.3526 - mse: 0.3526 - val_loss: 0.3990 - val_mse: 0.3990\n",
      "Epoch 41/320\n",
      "16/16 [==============================] - 0s 2ms/step - loss: 0.3527 - mse: 0.3527 - val_loss: 0.3991 - val_mse: 0.3991\n",
      "Epoch 42/320\n",
      "16/16 [==============================] - 0s 2ms/step - loss: 0.3527 - mse: 0.3527 - val_loss: 0.3997 - val_mse: 0.3997\n",
      "Epoch 43/320\n",
      "16/16 [==============================] - 0s 2ms/step - loss: 0.3525 - mse: 0.3525 - val_loss: 0.3991 - val_mse: 0.3991\n",
      "Epoch 44/320\n",
      "16/16 [==============================] - 0s 2ms/step - loss: 0.3524 - mse: 0.3524 - val_loss: 0.3991 - val_mse: 0.3991\n",
      "Epoch 45/320\n",
      "16/16 [==============================] - 0s 2ms/step - loss: 0.3523 - mse: 0.3523 - val_loss: 0.4004 - val_mse: 0.4004\n",
      "Epoch 46/320\n",
      "16/16 [==============================] - 0s 2ms/step - loss: 0.3523 - mse: 0.3523 - val_loss: 0.4006 - val_mse: 0.4006\n",
      "Epoch 47/320\n",
      "16/16 [==============================] - 0s 2ms/step - loss: 0.3523 - mse: 0.3523 - val_loss: 0.4005 - val_mse: 0.4005\n",
      "Epoch 48/320\n",
      "16/16 [==============================] - 0s 2ms/step - loss: 0.3523 - mse: 0.3523 - val_loss: 0.4009 - val_mse: 0.4009\n",
      "Epoch 49/320\n",
      "16/16 [==============================] - 0s 2ms/step - loss: 0.3525 - mse: 0.3525 - val_loss: 0.4021 - val_mse: 0.4021\n",
      "Epoch 50/320\n",
      "16/16 [==============================] - 0s 2ms/step - loss: 0.3523 - mse: 0.3523 - val_loss: 0.4015 - val_mse: 0.4015\n",
      "Epoch 51/320\n",
      "16/16 [==============================] - 0s 2ms/step - loss: 0.3526 - mse: 0.3526 - val_loss: 0.4023 - val_mse: 0.4023\n",
      "Epoch 52/320\n",
      "16/16 [==============================] - 0s 2ms/step - loss: 0.3523 - mse: 0.3523 - val_loss: 0.4016 - val_mse: 0.4016\n",
      "Epoch 53/320\n",
      "16/16 [==============================] - 0s 2ms/step - loss: 0.3523 - mse: 0.3523 - val_loss: 0.4010 - val_mse: 0.4010\n",
      "Epoch 54/320\n",
      "16/16 [==============================] - 0s 2ms/step - loss: 0.3523 - mse: 0.3523 - val_loss: 0.4001 - val_mse: 0.4001\n",
      "Epoch 55/320\n",
      "16/16 [==============================] - 0s 2ms/step - loss: 0.3524 - mse: 0.3524 - val_loss: 0.4000 - val_mse: 0.4000\n",
      "Epoch 56/320\n",
      "16/16 [==============================] - 0s 2ms/step - loss: 0.3524 - mse: 0.3524 - val_loss: 0.4002 - val_mse: 0.4002\n",
      "Epoch 57/320\n",
      "16/16 [==============================] - 0s 2ms/step - loss: 0.3522 - mse: 0.3522 - val_loss: 0.4002 - val_mse: 0.4002\n",
      "Epoch 58/320\n",
      "16/16 [==============================] - 0s 2ms/step - loss: 0.3524 - mse: 0.3524 - val_loss: 0.4008 - val_mse: 0.4008\n",
      "Epoch 59/320\n",
      "16/16 [==============================] - 0s 2ms/step - loss: 0.3524 - mse: 0.3524 - val_loss: 0.4008 - val_mse: 0.4008\n",
      "Epoch 60/320\n",
      "16/16 [==============================] - 0s 2ms/step - loss: 0.3523 - mse: 0.3523 - val_loss: 0.4001 - val_mse: 0.4001\n",
      "Epoch 61/320\n",
      "16/16 [==============================] - 0s 3ms/step - loss: 0.3524 - mse: 0.3524 - val_loss: 0.4008 - val_mse: 0.4008\n",
      "Epoch 62/320\n",
      "16/16 [==============================] - 0s 3ms/step - loss: 0.3523 - mse: 0.3523 - val_loss: 0.4007 - val_mse: 0.4007\n",
      "Epoch 63/320\n"
     ]
    },
    {
     "name": "stdout",
     "output_type": "stream",
     "text": [
      "16/16 [==============================] - 0s 2ms/step - loss: 0.3523 - mse: 0.3523 - val_loss: 0.4009 - val_mse: 0.4009\n",
      "Epoch 64/320\n",
      "16/16 [==============================] - 0s 2ms/step - loss: 0.3522 - mse: 0.3522 - val_loss: 0.4012 - val_mse: 0.4012\n",
      "Epoch 65/320\n",
      "16/16 [==============================] - 0s 4ms/step - loss: 0.3523 - mse: 0.3523 - val_loss: 0.4017 - val_mse: 0.4017\n",
      "Epoch 66/320\n",
      "16/16 [==============================] - 0s 2ms/step - loss: 0.3522 - mse: 0.3522 - val_loss: 0.4013 - val_mse: 0.4013\n",
      "Epoch 67/320\n",
      "16/16 [==============================] - 0s 2ms/step - loss: 0.3523 - mse: 0.3523 - val_loss: 0.4018 - val_mse: 0.4018\n",
      "Epoch 68/320\n",
      "16/16 [==============================] - 0s 2ms/step - loss: 0.3524 - mse: 0.3524 - val_loss: 0.4030 - val_mse: 0.4030\n",
      "Epoch 69/320\n",
      "16/16 [==============================] - 0s 2ms/step - loss: 0.3523 - mse: 0.3523 - val_loss: 0.4028 - val_mse: 0.4028\n",
      "Epoch 70/320\n",
      "16/16 [==============================] - 0s 2ms/step - loss: 0.3522 - mse: 0.3522 - val_loss: 0.4037 - val_mse: 0.4037\n",
      "Epoch 71/320\n",
      "16/16 [==============================] - 0s 2ms/step - loss: 0.3522 - mse: 0.3522 - val_loss: 0.4030 - val_mse: 0.4030\n",
      "Epoch 72/320\n",
      "16/16 [==============================] - 0s 2ms/step - loss: 0.3522 - mse: 0.3522 - val_loss: 0.4017 - val_mse: 0.4017\n",
      "Epoch 73/320\n",
      "16/16 [==============================] - 0s 2ms/step - loss: 0.3523 - mse: 0.3523 - val_loss: 0.4019 - val_mse: 0.4019\n",
      "Epoch 74/320\n",
      "16/16 [==============================] - 0s 2ms/step - loss: 0.3523 - mse: 0.3523 - val_loss: 0.4013 - val_mse: 0.4013\n",
      "Epoch 75/320\n",
      "16/16 [==============================] - 0s 2ms/step - loss: 0.3523 - mse: 0.3523 - val_loss: 0.4016 - val_mse: 0.4016\n",
      "Epoch 76/320\n",
      "16/16 [==============================] - 0s 2ms/step - loss: 0.3523 - mse: 0.3523 - val_loss: 0.4011 - val_mse: 0.4011\n",
      "Epoch 77/320\n",
      "16/16 [==============================] - 0s 2ms/step - loss: 0.3521 - mse: 0.3521 - val_loss: 0.4015 - val_mse: 0.4015\n",
      "Epoch 78/320\n",
      "16/16 [==============================] - 0s 2ms/step - loss: 0.3523 - mse: 0.3523 - val_loss: 0.4007 - val_mse: 0.4007\n",
      "Epoch 79/320\n",
      "16/16 [==============================] - 0s 2ms/step - loss: 0.3523 - mse: 0.3523 - val_loss: 0.4025 - val_mse: 0.4025\n",
      "Epoch 80/320\n",
      "16/16 [==============================] - 0s 2ms/step - loss: 0.3525 - mse: 0.3525 - val_loss: 0.4018 - val_mse: 0.4018\n",
      "Epoch 81/320\n",
      "16/16 [==============================] - 0s 2ms/step - loss: 0.3522 - mse: 0.3522 - val_loss: 0.4018 - val_mse: 0.4018\n",
      "Epoch 82/320\n",
      "16/16 [==============================] - 0s 2ms/step - loss: 0.3521 - mse: 0.3521 - val_loss: 0.4017 - val_mse: 0.4017\n",
      "Epoch 83/320\n",
      "16/16 [==============================] - 0s 2ms/step - loss: 0.3525 - mse: 0.3525 - val_loss: 0.4021 - val_mse: 0.4021\n",
      "Epoch 84/320\n",
      "16/16 [==============================] - 0s 2ms/step - loss: 0.3522 - mse: 0.3522 - val_loss: 0.4012 - val_mse: 0.4012\n",
      "Epoch 85/320\n",
      "16/16 [==============================] - 0s 2ms/step - loss: 0.3523 - mse: 0.3523 - val_loss: 0.4007 - val_mse: 0.4007\n",
      "Epoch 86/320\n",
      "16/16 [==============================] - 0s 2ms/step - loss: 0.3523 - mse: 0.3523 - val_loss: 0.4025 - val_mse: 0.4025\n",
      "Epoch 87/320\n",
      "16/16 [==============================] - 0s 2ms/step - loss: 0.3522 - mse: 0.3522 - val_loss: 0.4027 - val_mse: 0.4027\n",
      "Epoch 88/320\n",
      "16/16 [==============================] - 0s 2ms/step - loss: 0.3522 - mse: 0.3522 - val_loss: 0.4031 - val_mse: 0.4031\n",
      "Epoch 89/320\n",
      "16/16 [==============================] - 0s 2ms/step - loss: 0.3522 - mse: 0.3522 - val_loss: 0.4032 - val_mse: 0.4032\n",
      "Epoch 90/320\n",
      "16/16 [==============================] - 0s 2ms/step - loss: 0.3523 - mse: 0.3523 - val_loss: 0.4034 - val_mse: 0.4034\n",
      "Epoch 91/320\n",
      "16/16 [==============================] - 0s 2ms/step - loss: 0.3522 - mse: 0.3522 - val_loss: 0.4030 - val_mse: 0.4030\n",
      "Epoch 92/320\n",
      "16/16 [==============================] - 0s 2ms/step - loss: 0.3521 - mse: 0.3521 - val_loss: 0.4025 - val_mse: 0.4025\n",
      "Epoch 93/320\n",
      "16/16 [==============================] - 0s 2ms/step - loss: 0.3522 - mse: 0.3522 - val_loss: 0.4035 - val_mse: 0.4035\n",
      "Epoch 94/320\n",
      "16/16 [==============================] - 0s 2ms/step - loss: 0.3522 - mse: 0.3522 - val_loss: 0.4018 - val_mse: 0.4018\n",
      "Epoch 95/320\n",
      "16/16 [==============================] - 0s 2ms/step - loss: 0.3522 - mse: 0.3522 - val_loss: 0.4019 - val_mse: 0.4019\n",
      "Epoch 96/320\n",
      "16/16 [==============================] - 0s 2ms/step - loss: 0.3524 - mse: 0.3524 - val_loss: 0.4029 - val_mse: 0.4029\n",
      "Epoch 97/320\n",
      "16/16 [==============================] - 0s 2ms/step - loss: 0.3523 - mse: 0.3523 - val_loss: 0.4011 - val_mse: 0.4011\n",
      "Epoch 98/320\n",
      "16/16 [==============================] - 0s 2ms/step - loss: 0.3522 - mse: 0.3522 - val_loss: 0.4010 - val_mse: 0.4010\n",
      "Epoch 99/320\n",
      "16/16 [==============================] - 0s 2ms/step - loss: 0.3523 - mse: 0.3523 - val_loss: 0.4033 - val_mse: 0.4033\n",
      "Epoch 100/320\n",
      "16/16 [==============================] - 0s 2ms/step - loss: 0.3522 - mse: 0.3522 - val_loss: 0.4027 - val_mse: 0.4027\n",
      "Epoch 101/320\n",
      "16/16 [==============================] - 0s 2ms/step - loss: 0.3522 - mse: 0.3522 - val_loss: 0.4015 - val_mse: 0.4015\n",
      "Epoch 102/320\n",
      "16/16 [==============================] - 0s 2ms/step - loss: 0.3522 - mse: 0.3522 - val_loss: 0.4017 - val_mse: 0.4017\n",
      "Epoch 103/320\n",
      "16/16 [==============================] - 0s 2ms/step - loss: 0.3523 - mse: 0.3523 - val_loss: 0.4014 - val_mse: 0.4014\n",
      "Epoch 104/320\n",
      "16/16 [==============================] - 0s 2ms/step - loss: 0.3522 - mse: 0.3522 - val_loss: 0.4012 - val_mse: 0.4012\n",
      "Epoch 105/320\n",
      "16/16 [==============================] - 0s 4ms/step - loss: 0.3522 - mse: 0.3522 - val_loss: 0.4018 - val_mse: 0.4018\n",
      "Epoch 106/320\n",
      "16/16 [==============================] - 0s 2ms/step - loss: 0.3523 - mse: 0.3523 - val_loss: 0.4009 - val_mse: 0.4009\n",
      "Epoch 107/320\n",
      "16/16 [==============================] - 0s 4ms/step - loss: 0.3523 - mse: 0.3523 - val_loss: 0.4009 - val_mse: 0.4009\n",
      "Epoch 108/320\n",
      "16/16 [==============================] - 0s 2ms/step - loss: 0.3523 - mse: 0.3523 - val_loss: 0.4014 - val_mse: 0.4014\n",
      "Epoch 109/320\n",
      "16/16 [==============================] - 0s 2ms/step - loss: 0.3522 - mse: 0.3522 - val_loss: 0.4011 - val_mse: 0.4011\n",
      "Epoch 110/320\n",
      "16/16 [==============================] - 0s 2ms/step - loss: 0.3523 - mse: 0.3523 - val_loss: 0.4016 - val_mse: 0.4016\n",
      "Epoch 111/320\n",
      "16/16 [==============================] - 0s 2ms/step - loss: 0.3523 - mse: 0.3523 - val_loss: 0.4026 - val_mse: 0.4026\n",
      "Epoch 112/320\n",
      "16/16 [==============================] - 0s 2ms/step - loss: 0.3522 - mse: 0.3522 - val_loss: 0.4030 - val_mse: 0.4030\n",
      "Epoch 113/320\n",
      "16/16 [==============================] - 0s 2ms/step - loss: 0.3522 - mse: 0.3522 - val_loss: 0.4025 - val_mse: 0.4025\n",
      "Epoch 114/320\n",
      "16/16 [==============================] - 0s 2ms/step - loss: 0.3523 - mse: 0.3523 - val_loss: 0.4017 - val_mse: 0.4017\n",
      "Epoch 115/320\n",
      "16/16 [==============================] - 0s 2ms/step - loss: 0.3523 - mse: 0.3523 - val_loss: 0.4028 - val_mse: 0.4028\n",
      "Epoch 116/320\n",
      "16/16 [==============================] - 0s 2ms/step - loss: 0.3523 - mse: 0.3523 - val_loss: 0.4030 - val_mse: 0.4030\n",
      "Epoch 117/320\n",
      "16/16 [==============================] - 0s 2ms/step - loss: 0.3525 - mse: 0.3525 - val_loss: 0.4038 - val_mse: 0.4038\n",
      "Epoch 118/320\n",
      "16/16 [==============================] - 0s 2ms/step - loss: 0.3523 - mse: 0.3523 - val_loss: 0.4040 - val_mse: 0.4040\n",
      "Epoch 119/320\n",
      "16/16 [==============================] - 0s 2ms/step - loss: 0.3522 - mse: 0.3522 - val_loss: 0.4049 - val_mse: 0.4049\n",
      "Epoch 120/320\n",
      "16/16 [==============================] - 0s 2ms/step - loss: 0.3523 - mse: 0.3523 - val_loss: 0.4045 - val_mse: 0.4045\n",
      "Epoch 121/320\n",
      "16/16 [==============================] - 0s 2ms/step - loss: 0.3523 - mse: 0.3523 - val_loss: 0.4042 - val_mse: 0.4042\n",
      "Epoch 122/320\n",
      "16/16 [==============================] - 0s 3ms/step - loss: 0.3522 - mse: 0.3522 - val_loss: 0.4033 - val_mse: 0.4033\n",
      "Epoch 123/320\n",
      "16/16 [==============================] - 0s 2ms/step - loss: 0.3523 - mse: 0.3523 - val_loss: 0.4017 - val_mse: 0.4017\n",
      "Epoch 124/320\n",
      "16/16 [==============================] - 0s 3ms/step - loss: 0.3524 - mse: 0.3524 - val_loss: 0.4020 - val_mse: 0.4020\n"
     ]
    },
    {
     "name": "stdout",
     "output_type": "stream",
     "text": [
      "Epoch 125/320\n",
      "16/16 [==============================] - 0s 3ms/step - loss: 0.3524 - mse: 0.3524 - val_loss: 0.4017 - val_mse: 0.4017\n",
      "Epoch 126/320\n",
      "16/16 [==============================] - 0s 2ms/step - loss: 0.3522 - mse: 0.3522 - val_loss: 0.4018 - val_mse: 0.4018\n",
      "Epoch 127/320\n",
      "16/16 [==============================] - 0s 2ms/step - loss: 0.3523 - mse: 0.3523 - val_loss: 0.4026 - val_mse: 0.4026\n",
      "Epoch 128/320\n",
      "16/16 [==============================] - 0s 2ms/step - loss: 0.3522 - mse: 0.3522 - val_loss: 0.4020 - val_mse: 0.4020\n",
      "Epoch 129/320\n",
      "16/16 [==============================] - 0s 2ms/step - loss: 0.3522 - mse: 0.3522 - val_loss: 0.4019 - val_mse: 0.4019\n",
      "Epoch 130/320\n",
      "16/16 [==============================] - 0s 2ms/step - loss: 0.3522 - mse: 0.3522 - val_loss: 0.4024 - val_mse: 0.4024\n",
      "Epoch 131/320\n",
      "16/16 [==============================] - 0s 2ms/step - loss: 0.3524 - mse: 0.3524 - val_loss: 0.4028 - val_mse: 0.4028\n",
      "Epoch 132/320\n",
      "16/16 [==============================] - 0s 2ms/step - loss: 0.3522 - mse: 0.3522 - val_loss: 0.4034 - val_mse: 0.4034\n",
      "Epoch 133/320\n",
      "16/16 [==============================] - 0s 2ms/step - loss: 0.3523 - mse: 0.3523 - val_loss: 0.4024 - val_mse: 0.4024\n",
      "Epoch 134/320\n",
      "16/16 [==============================] - 0s 2ms/step - loss: 0.3524 - mse: 0.3524 - val_loss: 0.4032 - val_mse: 0.4032\n",
      "Epoch 135/320\n",
      "16/16 [==============================] - 0s 2ms/step - loss: 0.3523 - mse: 0.3523 - val_loss: 0.4020 - val_mse: 0.4020\n",
      "Epoch 136/320\n",
      "16/16 [==============================] - 0s 2ms/step - loss: 0.3523 - mse: 0.3523 - val_loss: 0.4028 - val_mse: 0.4028\n",
      "Epoch 137/320\n",
      "16/16 [==============================] - 0s 2ms/step - loss: 0.3522 - mse: 0.3522 - val_loss: 0.4029 - val_mse: 0.4029\n",
      "Epoch 138/320\n",
      "16/16 [==============================] - 0s 2ms/step - loss: 0.3522 - mse: 0.3522 - val_loss: 0.4021 - val_mse: 0.4021\n",
      "Epoch 139/320\n",
      "16/16 [==============================] - 0s 2ms/step - loss: 0.3523 - mse: 0.3523 - val_loss: 0.4016 - val_mse: 0.4016\n",
      "Epoch 140/320\n",
      "16/16 [==============================] - 0s 2ms/step - loss: 0.3523 - mse: 0.3523 - val_loss: 0.4010 - val_mse: 0.4010\n",
      "Epoch 141/320\n",
      "16/16 [==============================] - 0s 2ms/step - loss: 0.3524 - mse: 0.3524 - val_loss: 0.4026 - val_mse: 0.4026\n",
      "Epoch 142/320\n",
      "16/16 [==============================] - 0s 2ms/step - loss: 0.3523 - mse: 0.3523 - val_loss: 0.4021 - val_mse: 0.4021\n",
      "Epoch 143/320\n",
      "16/16 [==============================] - 0s 2ms/step - loss: 0.3523 - mse: 0.3523 - val_loss: 0.4006 - val_mse: 0.4006\n",
      "Epoch 144/320\n",
      "16/16 [==============================] - 0s 2ms/step - loss: 0.3524 - mse: 0.3524 - val_loss: 0.3996 - val_mse: 0.3996\n",
      "Epoch 145/320\n",
      "16/16 [==============================] - 0s 2ms/step - loss: 0.3523 - mse: 0.3523 - val_loss: 0.4008 - val_mse: 0.4008\n",
      "Epoch 146/320\n",
      "16/16 [==============================] - 0s 2ms/step - loss: 0.3522 - mse: 0.3522 - val_loss: 0.4010 - val_mse: 0.4010\n",
      "Epoch 147/320\n",
      "16/16 [==============================] - 0s 2ms/step - loss: 0.3522 - mse: 0.3522 - val_loss: 0.4014 - val_mse: 0.4014\n",
      "Epoch 148/320\n",
      "16/16 [==============================] - 0s 2ms/step - loss: 0.3526 - mse: 0.3526 - val_loss: 0.4010 - val_mse: 0.4010\n",
      "Epoch 149/320\n",
      "16/16 [==============================] - 0s 2ms/step - loss: 0.3522 - mse: 0.3522 - val_loss: 0.4014 - val_mse: 0.4014\n",
      "Epoch 150/320\n",
      "16/16 [==============================] - 0s 2ms/step - loss: 0.3522 - mse: 0.3522 - val_loss: 0.4019 - val_mse: 0.4019\n",
      "Epoch 151/320\n",
      "16/16 [==============================] - 0s 2ms/step - loss: 0.3523 - mse: 0.3523 - val_loss: 0.4019 - val_mse: 0.4019\n",
      "Epoch 152/320\n",
      "16/16 [==============================] - 0s 2ms/step - loss: 0.3524 - mse: 0.3524 - val_loss: 0.4001 - val_mse: 0.4001\n",
      "Epoch 153/320\n",
      "16/16 [==============================] - 0s 2ms/step - loss: 0.3522 - mse: 0.3522 - val_loss: 0.4020 - val_mse: 0.4020\n",
      "Epoch 154/320\n",
      "16/16 [==============================] - 0s 2ms/step - loss: 0.3522 - mse: 0.3522 - val_loss: 0.4011 - val_mse: 0.4011\n",
      "Epoch 155/320\n",
      "16/16 [==============================] - 0s 2ms/step - loss: 0.3523 - mse: 0.3523 - val_loss: 0.4021 - val_mse: 0.4021\n",
      "Epoch 156/320\n",
      "16/16 [==============================] - 0s 2ms/step - loss: 0.3522 - mse: 0.3522 - val_loss: 0.4025 - val_mse: 0.4025\n",
      "Epoch 157/320\n",
      "16/16 [==============================] - 0s 2ms/step - loss: 0.3523 - mse: 0.3523 - val_loss: 0.4024 - val_mse: 0.4024\n",
      "Epoch 158/320\n",
      "16/16 [==============================] - 0s 2ms/step - loss: 0.3523 - mse: 0.3523 - val_loss: 0.4014 - val_mse: 0.4014\n",
      "Epoch 159/320\n",
      "16/16 [==============================] - 0s 2ms/step - loss: 0.3522 - mse: 0.3522 - val_loss: 0.4016 - val_mse: 0.4016\n",
      "Epoch 160/320\n",
      "16/16 [==============================] - 0s 2ms/step - loss: 0.3522 - mse: 0.3522 - val_loss: 0.4018 - val_mse: 0.4018\n",
      "Epoch 161/320\n",
      "16/16 [==============================] - 0s 2ms/step - loss: 0.3523 - mse: 0.3523 - val_loss: 0.4017 - val_mse: 0.4017\n",
      "Epoch 162/320\n",
      "16/16 [==============================] - 0s 2ms/step - loss: 0.3523 - mse: 0.3523 - val_loss: 0.4005 - val_mse: 0.4005\n",
      "Epoch 163/320\n",
      "16/16 [==============================] - 0s 2ms/step - loss: 0.3522 - mse: 0.3522 - val_loss: 0.4001 - val_mse: 0.4001\n",
      "Epoch 164/320\n",
      "16/16 [==============================] - 0s 2ms/step - loss: 0.3522 - mse: 0.3522 - val_loss: 0.4018 - val_mse: 0.4018\n",
      "Epoch 165/320\n",
      "16/16 [==============================] - 0s 2ms/step - loss: 0.3523 - mse: 0.3523 - val_loss: 0.4012 - val_mse: 0.4012\n",
      "Epoch 166/320\n",
      "16/16 [==============================] - 0s 2ms/step - loss: 0.3523 - mse: 0.3523 - val_loss: 0.4007 - val_mse: 0.4007\n",
      "Epoch 167/320\n",
      "16/16 [==============================] - 0s 2ms/step - loss: 0.3524 - mse: 0.3524 - val_loss: 0.4018 - val_mse: 0.4018\n",
      "Epoch 168/320\n",
      "16/16 [==============================] - 0s 2ms/step - loss: 0.3523 - mse: 0.3523 - val_loss: 0.4035 - val_mse: 0.4035\n",
      "Epoch 169/320\n",
      "16/16 [==============================] - 0s 2ms/step - loss: 0.3522 - mse: 0.3522 - val_loss: 0.4031 - val_mse: 0.4031\n",
      "Epoch 170/320\n",
      "16/16 [==============================] - 0s 2ms/step - loss: 0.3524 - mse: 0.3524 - val_loss: 0.4018 - val_mse: 0.4018\n",
      "Epoch 171/320\n",
      "16/16 [==============================] - 0s 3ms/step - loss: 0.3523 - mse: 0.3523 - val_loss: 0.4021 - val_mse: 0.4021\n",
      "Epoch 172/320\n",
      "16/16 [==============================] - 0s 2ms/step - loss: 0.3523 - mse: 0.3523 - val_loss: 0.4020 - val_mse: 0.4020\n",
      "Epoch 173/320\n",
      "16/16 [==============================] - 0s 2ms/step - loss: 0.3524 - mse: 0.3524 - val_loss: 0.4029 - val_mse: 0.4029\n",
      "Epoch 174/320\n",
      "16/16 [==============================] - 0s 2ms/step - loss: 0.3523 - mse: 0.3523 - val_loss: 0.4021 - val_mse: 0.4021\n",
      "Epoch 175/320\n",
      "16/16 [==============================] - 0s 2ms/step - loss: 0.3522 - mse: 0.3522 - val_loss: 0.4004 - val_mse: 0.4004\n",
      "Epoch 176/320\n",
      "16/16 [==============================] - 0s 2ms/step - loss: 0.3524 - mse: 0.3524 - val_loss: 0.4003 - val_mse: 0.4003\n",
      "Epoch 177/320\n",
      "16/16 [==============================] - 0s 2ms/step - loss: 0.3523 - mse: 0.3523 - val_loss: 0.4007 - val_mse: 0.4007\n",
      "Epoch 178/320\n",
      "16/16 [==============================] - 0s 2ms/step - loss: 0.3526 - mse: 0.3526 - val_loss: 0.4007 - val_mse: 0.4007\n",
      "Epoch 179/320\n",
      "16/16 [==============================] - 0s 2ms/step - loss: 0.3523 - mse: 0.3523 - val_loss: 0.4012 - val_mse: 0.4012\n",
      "Epoch 180/320\n",
      "16/16 [==============================] - 0s 2ms/step - loss: 0.3523 - mse: 0.3523 - val_loss: 0.4025 - val_mse: 0.4025\n",
      "Epoch 181/320\n",
      "16/16 [==============================] - 0s 2ms/step - loss: 0.3523 - mse: 0.3523 - val_loss: 0.4018 - val_mse: 0.4018\n",
      "Epoch 182/320\n",
      "16/16 [==============================] - 0s 2ms/step - loss: 0.3523 - mse: 0.3523 - val_loss: 0.4028 - val_mse: 0.4028\n",
      "Epoch 183/320\n",
      "16/16 [==============================] - 0s 2ms/step - loss: 0.3523 - mse: 0.3523 - val_loss: 0.4023 - val_mse: 0.4023\n",
      "Epoch 184/320\n",
      "16/16 [==============================] - 0s 2ms/step - loss: 0.3522 - mse: 0.3522 - val_loss: 0.4027 - val_mse: 0.4027\n",
      "Epoch 185/320\n",
      "16/16 [==============================] - 0s 2ms/step - loss: 0.3523 - mse: 0.3523 - val_loss: 0.4031 - val_mse: 0.4031\n",
      "Epoch 186/320\n"
     ]
    },
    {
     "name": "stdout",
     "output_type": "stream",
     "text": [
      "16/16 [==============================] - 0s 4ms/step - loss: 0.3522 - mse: 0.3522 - val_loss: 0.4032 - val_mse: 0.4032\n",
      "Epoch 187/320\n",
      "16/16 [==============================] - 0s 2ms/step - loss: 0.3523 - mse: 0.3523 - val_loss: 0.4034 - val_mse: 0.4034\n",
      "Epoch 188/320\n",
      "16/16 [==============================] - 0s 3ms/step - loss: 0.3522 - mse: 0.3522 - val_loss: 0.4031 - val_mse: 0.4031\n",
      "Epoch 189/320\n",
      "16/16 [==============================] - 0s 2ms/step - loss: 0.3522 - mse: 0.3522 - val_loss: 0.4031 - val_mse: 0.4031\n",
      "Epoch 190/320\n",
      "16/16 [==============================] - 0s 2ms/step - loss: 0.3523 - mse: 0.3523 - val_loss: 0.4027 - val_mse: 0.4027\n",
      "Epoch 191/320\n",
      "16/16 [==============================] - 0s 2ms/step - loss: 0.3523 - mse: 0.3523 - val_loss: 0.4038 - val_mse: 0.4038\n",
      "Epoch 192/320\n",
      "16/16 [==============================] - 0s 2ms/step - loss: 0.3522 - mse: 0.3522 - val_loss: 0.4027 - val_mse: 0.4027\n",
      "Epoch 193/320\n",
      "16/16 [==============================] - 0s 3ms/step - loss: 0.3522 - mse: 0.3522 - val_loss: 0.4022 - val_mse: 0.4022\n",
      "Epoch 194/320\n",
      "16/16 [==============================] - 0s 4ms/step - loss: 0.3522 - mse: 0.3522 - val_loss: 0.4011 - val_mse: 0.4011\n",
      "Epoch 195/320\n",
      "16/16 [==============================] - 0s 2ms/step - loss: 0.3523 - mse: 0.3523 - val_loss: 0.4017 - val_mse: 0.4017\n",
      "Epoch 196/320\n",
      "16/16 [==============================] - 0s 2ms/step - loss: 0.3522 - mse: 0.3522 - val_loss: 0.4023 - val_mse: 0.4023\n",
      "Epoch 197/320\n",
      "16/16 [==============================] - 0s 2ms/step - loss: 0.3523 - mse: 0.3523 - val_loss: 0.4030 - val_mse: 0.4030\n",
      "Epoch 198/320\n",
      "16/16 [==============================] - 0s 2ms/step - loss: 0.3523 - mse: 0.3523 - val_loss: 0.4032 - val_mse: 0.4032\n",
      "Epoch 199/320\n",
      "16/16 [==============================] - 0s 2ms/step - loss: 0.3523 - mse: 0.3523 - val_loss: 0.4041 - val_mse: 0.4041\n",
      "Epoch 200/320\n",
      "16/16 [==============================] - 0s 2ms/step - loss: 0.3523 - mse: 0.3523 - val_loss: 0.4030 - val_mse: 0.4030\n",
      "Epoch 201/320\n",
      "16/16 [==============================] - 0s 3ms/step - loss: 0.3523 - mse: 0.3523 - val_loss: 0.4023 - val_mse: 0.4023\n",
      "Epoch 202/320\n",
      "16/16 [==============================] - 0s 2ms/step - loss: 0.3523 - mse: 0.3523 - val_loss: 0.4017 - val_mse: 0.4017\n",
      "Epoch 203/320\n",
      "16/16 [==============================] - 0s 2ms/step - loss: 0.3522 - mse: 0.3522 - val_loss: 0.4016 - val_mse: 0.4016\n",
      "Epoch 204/320\n",
      "16/16 [==============================] - 0s 2ms/step - loss: 0.3522 - mse: 0.3522 - val_loss: 0.4004 - val_mse: 0.4004\n",
      "Epoch 205/320\n",
      "16/16 [==============================] - 0s 2ms/step - loss: 0.3524 - mse: 0.3524 - val_loss: 0.4005 - val_mse: 0.4005\n",
      "Epoch 206/320\n",
      "16/16 [==============================] - 0s 2ms/step - loss: 0.3524 - mse: 0.3524 - val_loss: 0.4009 - val_mse: 0.4009\n",
      "Epoch 207/320\n",
      "16/16 [==============================] - 0s 2ms/step - loss: 0.3521 - mse: 0.3521 - val_loss: 0.4000 - val_mse: 0.4000\n",
      "Epoch 208/320\n",
      "16/16 [==============================] - 0s 2ms/step - loss: 0.3523 - mse: 0.3523 - val_loss: 0.3996 - val_mse: 0.3996\n",
      "Epoch 209/320\n",
      "16/16 [==============================] - 0s 2ms/step - loss: 0.3522 - mse: 0.3522 - val_loss: 0.4005 - val_mse: 0.4005\n",
      "Epoch 210/320\n",
      "16/16 [==============================] - 0s 2ms/step - loss: 0.3524 - mse: 0.3524 - val_loss: 0.3996 - val_mse: 0.3996\n",
      "Epoch 211/320\n",
      "16/16 [==============================] - 0s 2ms/step - loss: 0.3522 - mse: 0.3522 - val_loss: 0.3995 - val_mse: 0.3995\n",
      "Epoch 212/320\n",
      "16/16 [==============================] - 0s 2ms/step - loss: 0.3523 - mse: 0.3523 - val_loss: 0.4008 - val_mse: 0.4008\n",
      "Epoch 213/320\n",
      "16/16 [==============================] - 0s 2ms/step - loss: 0.3523 - mse: 0.3523 - val_loss: 0.4007 - val_mse: 0.4007\n",
      "Epoch 214/320\n",
      "16/16 [==============================] - 0s 2ms/step - loss: 0.3523 - mse: 0.3523 - val_loss: 0.4020 - val_mse: 0.4020\n",
      "Epoch 215/320\n",
      "16/16 [==============================] - 0s 2ms/step - loss: 0.3523 - mse: 0.3523 - val_loss: 0.4011 - val_mse: 0.4011\n",
      "Epoch 216/320\n",
      "16/16 [==============================] - 0s 2ms/step - loss: 0.3522 - mse: 0.3522 - val_loss: 0.4009 - val_mse: 0.4009\n",
      "Epoch 217/320\n",
      "16/16 [==============================] - 0s 2ms/step - loss: 0.3522 - mse: 0.3522 - val_loss: 0.4014 - val_mse: 0.4014\n",
      "Epoch 218/320\n",
      "16/16 [==============================] - 0s 2ms/step - loss: 0.3522 - mse: 0.3522 - val_loss: 0.4017 - val_mse: 0.4017\n",
      "Epoch 219/320\n",
      "16/16 [==============================] - 0s 2ms/step - loss: 0.3523 - mse: 0.3523 - val_loss: 0.4016 - val_mse: 0.4016\n",
      "Epoch 220/320\n",
      "16/16 [==============================] - 0s 2ms/step - loss: 0.3523 - mse: 0.3523 - val_loss: 0.4016 - val_mse: 0.4016\n",
      "Epoch 221/320\n",
      "16/16 [==============================] - 0s 2ms/step - loss: 0.3524 - mse: 0.3524 - val_loss: 0.4012 - val_mse: 0.4012\n",
      "Epoch 222/320\n",
      "16/16 [==============================] - 0s 2ms/step - loss: 0.3522 - mse: 0.3522 - val_loss: 0.4026 - val_mse: 0.4026\n",
      "Epoch 223/320\n",
      "16/16 [==============================] - 0s 2ms/step - loss: 0.3523 - mse: 0.3523 - val_loss: 0.4022 - val_mse: 0.4022\n",
      "Epoch 224/320\n",
      "16/16 [==============================] - 0s 2ms/step - loss: 0.3522 - mse: 0.3522 - val_loss: 0.4019 - val_mse: 0.4019\n",
      "Epoch 225/320\n",
      "16/16 [==============================] - 0s 3ms/step - loss: 0.3524 - mse: 0.3524 - val_loss: 0.4026 - val_mse: 0.4026\n",
      "Epoch 226/320\n",
      "16/16 [==============================] - 0s 4ms/step - loss: 0.3523 - mse: 0.3523 - val_loss: 0.4031 - val_mse: 0.4031\n",
      "Epoch 227/320\n",
      "16/16 [==============================] - 0s 4ms/step - loss: 0.3522 - mse: 0.3522 - val_loss: 0.4031 - val_mse: 0.4031\n",
      "Epoch 228/320\n",
      "16/16 [==============================] - 0s 3ms/step - loss: 0.3523 - mse: 0.3523 - val_loss: 0.4040 - val_mse: 0.4040\n",
      "Epoch 229/320\n",
      "16/16 [==============================] - 0s 4ms/step - loss: 0.3523 - mse: 0.3523 - val_loss: 0.4040 - val_mse: 0.4040\n",
      "Epoch 230/320\n",
      "16/16 [==============================] - 0s 4ms/step - loss: 0.3524 - mse: 0.3524 - val_loss: 0.4037 - val_mse: 0.4037\n",
      "Epoch 231/320\n",
      "16/16 [==============================] - 0s 3ms/step - loss: 0.3523 - mse: 0.3523 - val_loss: 0.4046 - val_mse: 0.4046\n",
      "Epoch 232/320\n",
      "16/16 [==============================] - 0s 3ms/step - loss: 0.3523 - mse: 0.3523 - val_loss: 0.4051 - val_mse: 0.4051\n",
      "Epoch 233/320\n",
      "16/16 [==============================] - 0s 4ms/step - loss: 0.3523 - mse: 0.3523 - val_loss: 0.4043 - val_mse: 0.4043\n",
      "Epoch 234/320\n",
      "16/16 [==============================] - 0s 2ms/step - loss: 0.3524 - mse: 0.3524 - val_loss: 0.4030 - val_mse: 0.4030\n",
      "Epoch 235/320\n",
      "16/16 [==============================] - 0s 2ms/step - loss: 0.3523 - mse: 0.3523 - val_loss: 0.4034 - val_mse: 0.4034\n",
      "Epoch 236/320\n",
      "16/16 [==============================] - 0s 3ms/step - loss: 0.3525 - mse: 0.3525 - val_loss: 0.4038 - val_mse: 0.4038\n",
      "Epoch 237/320\n",
      "16/16 [==============================] - 0s 3ms/step - loss: 0.3522 - mse: 0.3522 - val_loss: 0.4031 - val_mse: 0.4031\n",
      "Epoch 238/320\n",
      "16/16 [==============================] - 0s 2ms/step - loss: 0.3525 - mse: 0.3525 - val_loss: 0.4026 - val_mse: 0.4026\n",
      "Epoch 239/320\n",
      "16/16 [==============================] - 0s 3ms/step - loss: 0.3522 - mse: 0.3522 - val_loss: 0.4034 - val_mse: 0.4034\n",
      "Epoch 240/320\n",
      "16/16 [==============================] - 0s 2ms/step - loss: 0.3523 - mse: 0.3523 - val_loss: 0.4034 - val_mse: 0.4034\n",
      "Epoch 241/320\n",
      "16/16 [==============================] - 0s 3ms/step - loss: 0.3523 - mse: 0.3523 - val_loss: 0.4032 - val_mse: 0.4032\n",
      "Epoch 242/320\n",
      "16/16 [==============================] - 0s 3ms/step - loss: 0.3523 - mse: 0.3523 - val_loss: 0.4027 - val_mse: 0.4027\n",
      "Epoch 243/320\n",
      "16/16 [==============================] - 0s 2ms/step - loss: 0.3522 - mse: 0.3522 - val_loss: 0.4013 - val_mse: 0.4013\n",
      "Epoch 244/320\n",
      "16/16 [==============================] - 0s 3ms/step - loss: 0.3522 - mse: 0.3522 - val_loss: 0.4006 - val_mse: 0.4006\n",
      "Epoch 245/320\n",
      "16/16 [==============================] - 0s 2ms/step - loss: 0.3522 - mse: 0.3522 - val_loss: 0.4006 - val_mse: 0.4006\n",
      "Epoch 246/320\n",
      "16/16 [==============================] - 0s 2ms/step - loss: 0.3522 - mse: 0.3522 - val_loss: 0.4000 - val_mse: 0.4000\n",
      "Epoch 247/320\n",
      "16/16 [==============================] - 0s 3ms/step - loss: 0.3523 - mse: 0.3523 - val_loss: 0.4018 - val_mse: 0.4018\n"
     ]
    },
    {
     "name": "stdout",
     "output_type": "stream",
     "text": [
      "Epoch 248/320\n",
      "16/16 [==============================] - 0s 2ms/step - loss: 0.3523 - mse: 0.3523 - val_loss: 0.4017 - val_mse: 0.4017\n",
      "Epoch 249/320\n",
      "16/16 [==============================] - 0s 2ms/step - loss: 0.3524 - mse: 0.3524 - val_loss: 0.4005 - val_mse: 0.4005\n",
      "Epoch 250/320\n",
      "16/16 [==============================] - 0s 3ms/step - loss: 0.3524 - mse: 0.3524 - val_loss: 0.4000 - val_mse: 0.4000\n",
      "Epoch 251/320\n",
      "16/16 [==============================] - 0s 3ms/step - loss: 0.3523 - mse: 0.3523 - val_loss: 0.3985 - val_mse: 0.3985\n",
      "Epoch 252/320\n",
      "16/16 [==============================] - 0s 3ms/step - loss: 0.3524 - mse: 0.3524 - val_loss: 0.3990 - val_mse: 0.3990\n",
      "Epoch 253/320\n",
      "16/16 [==============================] - 0s 2ms/step - loss: 0.3523 - mse: 0.3523 - val_loss: 0.4004 - val_mse: 0.4004\n",
      "Epoch 254/320\n",
      "16/16 [==============================] - 0s 2ms/step - loss: 0.3524 - mse: 0.3524 - val_loss: 0.4009 - val_mse: 0.4009\n",
      "Epoch 255/320\n",
      "16/16 [==============================] - 0s 2ms/step - loss: 0.3523 - mse: 0.3523 - val_loss: 0.4006 - val_mse: 0.4006\n",
      "Epoch 256/320\n",
      "16/16 [==============================] - 0s 2ms/step - loss: 0.3524 - mse: 0.3524 - val_loss: 0.4011 - val_mse: 0.4011\n",
      "Epoch 257/320\n",
      "16/16 [==============================] - 0s 2ms/step - loss: 0.3523 - mse: 0.3523 - val_loss: 0.4006 - val_mse: 0.4006\n",
      "Epoch 258/320\n",
      "16/16 [==============================] - 0s 2ms/step - loss: 0.3522 - mse: 0.3522 - val_loss: 0.4009 - val_mse: 0.4009\n",
      "Epoch 259/320\n",
      "16/16 [==============================] - 0s 2ms/step - loss: 0.3523 - mse: 0.3523 - val_loss: 0.4004 - val_mse: 0.4004\n",
      "Epoch 260/320\n",
      "16/16 [==============================] - 0s 2ms/step - loss: 0.3522 - mse: 0.3522 - val_loss: 0.4007 - val_mse: 0.4007\n",
      "Epoch 261/320\n",
      "16/16 [==============================] - 0s 3ms/step - loss: 0.3523 - mse: 0.3523 - val_loss: 0.4008 - val_mse: 0.4008\n",
      "Epoch 262/320\n",
      "16/16 [==============================] - 0s 4ms/step - loss: 0.3522 - mse: 0.3522 - val_loss: 0.4012 - val_mse: 0.4012\n",
      "Epoch 263/320\n",
      "16/16 [==============================] - 0s 3ms/step - loss: 0.3521 - mse: 0.3521 - val_loss: 0.4016 - val_mse: 0.4016\n",
      "Epoch 264/320\n",
      "16/16 [==============================] - 0s 3ms/step - loss: 0.3522 - mse: 0.3522 - val_loss: 0.4009 - val_mse: 0.4009\n",
      "Epoch 265/320\n",
      "16/16 [==============================] - 0s 4ms/step - loss: 0.3523 - mse: 0.3523 - val_loss: 0.4012 - val_mse: 0.4012\n",
      "Epoch 266/320\n",
      "16/16 [==============================] - 0s 3ms/step - loss: 0.3523 - mse: 0.3523 - val_loss: 0.4017 - val_mse: 0.4017\n",
      "Epoch 267/320\n",
      "16/16 [==============================] - 0s 3ms/step - loss: 0.3522 - mse: 0.3522 - val_loss: 0.4023 - val_mse: 0.4023\n",
      "Epoch 268/320\n",
      "16/16 [==============================] - 0s 3ms/step - loss: 0.3523 - mse: 0.3523 - val_loss: 0.4021 - val_mse: 0.4021\n",
      "Epoch 269/320\n",
      "16/16 [==============================] - 0s 3ms/step - loss: 0.3523 - mse: 0.3523 - val_loss: 0.4015 - val_mse: 0.4015\n",
      "Epoch 270/320\n",
      "16/16 [==============================] - 0s 3ms/step - loss: 0.3523 - mse: 0.3523 - val_loss: 0.4019 - val_mse: 0.4019\n",
      "Epoch 271/320\n",
      "16/16 [==============================] - 0s 3ms/step - loss: 0.3521 - mse: 0.3521 - val_loss: 0.4027 - val_mse: 0.4027\n",
      "Epoch 272/320\n",
      "16/16 [==============================] - 0s 4ms/step - loss: 0.3525 - mse: 0.3525 - val_loss: 0.4016 - val_mse: 0.4016\n",
      "Epoch 273/320\n",
      "16/16 [==============================] - 0s 3ms/step - loss: 0.3522 - mse: 0.3522 - val_loss: 0.4018 - val_mse: 0.4018\n",
      "Epoch 274/320\n",
      "16/16 [==============================] - 0s 2ms/step - loss: 0.3522 - mse: 0.3522 - val_loss: 0.4010 - val_mse: 0.4010\n",
      "Epoch 275/320\n",
      "16/16 [==============================] - 0s 2ms/step - loss: 0.3523 - mse: 0.3523 - val_loss: 0.4018 - val_mse: 0.4018\n",
      "Epoch 276/320\n",
      "16/16 [==============================] - 0s 3ms/step - loss: 0.3524 - mse: 0.3524 - val_loss: 0.4026 - val_mse: 0.4026\n",
      "Epoch 277/320\n",
      "16/16 [==============================] - 0s 2ms/step - loss: 0.3523 - mse: 0.3523 - val_loss: 0.4020 - val_mse: 0.4020\n",
      "Epoch 278/320\n",
      "16/16 [==============================] - 0s 3ms/step - loss: 0.3522 - mse: 0.3522 - val_loss: 0.4022 - val_mse: 0.4022\n",
      "Epoch 279/320\n",
      "16/16 [==============================] - 0s 3ms/step - loss: 0.3521 - mse: 0.3521 - val_loss: 0.4021 - val_mse: 0.4021\n",
      "Epoch 280/320\n",
      "16/16 [==============================] - 0s 2ms/step - loss: 0.3522 - mse: 0.3522 - val_loss: 0.4023 - val_mse: 0.4023\n",
      "Epoch 281/320\n",
      "16/16 [==============================] - 0s 2ms/step - loss: 0.3523 - mse: 0.3523 - val_loss: 0.4016 - val_mse: 0.4016\n",
      "Epoch 282/320\n",
      "16/16 [==============================] - 0s 3ms/step - loss: 0.3522 - mse: 0.3522 - val_loss: 0.4024 - val_mse: 0.4024\n",
      "Epoch 283/320\n",
      "16/16 [==============================] - 0s 2ms/step - loss: 0.3522 - mse: 0.3522 - val_loss: 0.4019 - val_mse: 0.4019\n",
      "Epoch 284/320\n",
      "16/16 [==============================] - 0s 4ms/step - loss: 0.3522 - mse: 0.3522 - val_loss: 0.4016 - val_mse: 0.4016\n",
      "Epoch 285/320\n",
      "16/16 [==============================] - 0s 3ms/step - loss: 0.3524 - mse: 0.3524 - val_loss: 0.4021 - val_mse: 0.4021\n",
      "Epoch 286/320\n",
      "16/16 [==============================] - 0s 3ms/step - loss: 0.3523 - mse: 0.3523 - val_loss: 0.4021 - val_mse: 0.4021\n",
      "Epoch 287/320\n",
      "16/16 [==============================] - 0s 3ms/step - loss: 0.3523 - mse: 0.3523 - val_loss: 0.4024 - val_mse: 0.4024\n",
      "Epoch 288/320\n",
      "16/16 [==============================] - 0s 2ms/step - loss: 0.3523 - mse: 0.3523 - val_loss: 0.4026 - val_mse: 0.4026\n",
      "Epoch 289/320\n",
      "16/16 [==============================] - 0s 3ms/step - loss: 0.3523 - mse: 0.3523 - val_loss: 0.4023 - val_mse: 0.4023\n",
      "Epoch 290/320\n",
      "16/16 [==============================] - 0s 2ms/step - loss: 0.3522 - mse: 0.3522 - val_loss: 0.4019 - val_mse: 0.4019\n",
      "Epoch 291/320\n",
      "16/16 [==============================] - 0s 4ms/step - loss: 0.3522 - mse: 0.3522 - val_loss: 0.4015 - val_mse: 0.4015\n",
      "Epoch 292/320\n",
      "16/16 [==============================] - 0s 4ms/step - loss: 0.3522 - mse: 0.3522 - val_loss: 0.4015 - val_mse: 0.4015\n",
      "Epoch 293/320\n",
      "16/16 [==============================] - 0s 4ms/step - loss: 0.3523 - mse: 0.3523 - val_loss: 0.4004 - val_mse: 0.4004\n",
      "Epoch 294/320\n",
      "16/16 [==============================] - 0s 4ms/step - loss: 0.3523 - mse: 0.3523 - val_loss: 0.3997 - val_mse: 0.3997\n",
      "Epoch 295/320\n",
      "16/16 [==============================] - 0s 3ms/step - loss: 0.3522 - mse: 0.3522 - val_loss: 0.4001 - val_mse: 0.4001\n",
      "Epoch 296/320\n",
      "16/16 [==============================] - 0s 2ms/step - loss: 0.3523 - mse: 0.3523 - val_loss: 0.4014 - val_mse: 0.4014\n",
      "Epoch 297/320\n",
      "16/16 [==============================] - 0s 3ms/step - loss: 0.3523 - mse: 0.3523 - val_loss: 0.4018 - val_mse: 0.4018\n",
      "Epoch 298/320\n",
      "16/16 [==============================] - 0s 3ms/step - loss: 0.3524 - mse: 0.3524 - val_loss: 0.4033 - val_mse: 0.4033\n",
      "Epoch 299/320\n",
      "16/16 [==============================] - 0s 3ms/step - loss: 0.3521 - mse: 0.3521 - val_loss: 0.4032 - val_mse: 0.4032\n",
      "Epoch 300/320\n",
      "16/16 [==============================] - 0s 4ms/step - loss: 0.3524 - mse: 0.3524 - val_loss: 0.4051 - val_mse: 0.4051\n",
      "Epoch 301/320\n",
      "16/16 [==============================] - 0s 3ms/step - loss: 0.3522 - mse: 0.3522 - val_loss: 0.4051 - val_mse: 0.4051\n",
      "Epoch 302/320\n",
      "16/16 [==============================] - 0s 3ms/step - loss: 0.3522 - mse: 0.3522 - val_loss: 0.4043 - val_mse: 0.4043\n",
      "Epoch 303/320\n",
      "16/16 [==============================] - 0s 3ms/step - loss: 0.3525 - mse: 0.3525 - val_loss: 0.4037 - val_mse: 0.4037\n",
      "Epoch 304/320\n",
      "16/16 [==============================] - 0s 3ms/step - loss: 0.3523 - mse: 0.3523 - val_loss: 0.4024 - val_mse: 0.4024\n",
      "Epoch 305/320\n",
      "16/16 [==============================] - 0s 3ms/step - loss: 0.3523 - mse: 0.3523 - val_loss: 0.4022 - val_mse: 0.4022\n",
      "Epoch 306/320\n",
      "16/16 [==============================] - 0s 4ms/step - loss: 0.3522 - mse: 0.3522 - val_loss: 0.4023 - val_mse: 0.4023\n",
      "Epoch 307/320\n",
      "16/16 [==============================] - 0s 3ms/step - loss: 0.3523 - mse: 0.3523 - val_loss: 0.4008 - val_mse: 0.4008\n",
      "Epoch 308/320\n",
      "16/16 [==============================] - 0s 3ms/step - loss: 0.3523 - mse: 0.3523 - val_loss: 0.4009 - val_mse: 0.4009\n",
      "Epoch 309/320\n"
     ]
    },
    {
     "name": "stdout",
     "output_type": "stream",
     "text": [
      "16/16 [==============================] - 0s 3ms/step - loss: 0.3522 - mse: 0.3522 - val_loss: 0.4010 - val_mse: 0.4010\n",
      "Epoch 310/320\n",
      "16/16 [==============================] - 0s 4ms/step - loss: 0.3522 - mse: 0.3522 - val_loss: 0.4009 - val_mse: 0.4009\n",
      "Epoch 311/320\n",
      "16/16 [==============================] - 0s 3ms/step - loss: 0.3523 - mse: 0.3523 - val_loss: 0.3999 - val_mse: 0.3999\n",
      "Epoch 312/320\n",
      "16/16 [==============================] - 0s 3ms/step - loss: 0.3523 - mse: 0.3523 - val_loss: 0.3995 - val_mse: 0.3995\n",
      "Epoch 313/320\n",
      "16/16 [==============================] - 0s 3ms/step - loss: 0.3523 - mse: 0.3523 - val_loss: 0.3996 - val_mse: 0.3996\n",
      "Epoch 314/320\n",
      "16/16 [==============================] - 0s 2ms/step - loss: 0.3522 - mse: 0.3522 - val_loss: 0.4010 - val_mse: 0.4010\n",
      "Epoch 315/320\n",
      "16/16 [==============================] - 0s 2ms/step - loss: 0.3524 - mse: 0.3524 - val_loss: 0.4015 - val_mse: 0.4015\n",
      "Epoch 316/320\n",
      "16/16 [==============================] - 0s 2ms/step - loss: 0.3523 - mse: 0.3523 - val_loss: 0.4019 - val_mse: 0.4019\n",
      "Epoch 317/320\n",
      "16/16 [==============================] - 0s 3ms/step - loss: 0.3523 - mse: 0.3523 - val_loss: 0.4014 - val_mse: 0.4014\n",
      "Epoch 318/320\n",
      "16/16 [==============================] - 0s 2ms/step - loss: 0.3524 - mse: 0.3524 - val_loss: 0.4003 - val_mse: 0.4003\n",
      "Epoch 319/320\n",
      "16/16 [==============================] - 0s 3ms/step - loss: 0.3523 - mse: 0.3523 - val_loss: 0.4005 - val_mse: 0.4005\n",
      "Epoch 320/320\n",
      "16/16 [==============================] - 0s 2ms/step - loss: 0.3523 - mse: 0.3523 - val_loss: 0.4011 - val_mse: 0.4011\n"
     ]
    }
   ],
   "source": [
    "# fit the model using training dataset\n",
    "# over 10 epochs of 32 batch size each\n",
    "# report training progress against validation data\n",
    "history = model.fit(x=x_train, y=y_train, \n",
    "          batch_size=32, epochs=320,\n",
    "          shuffle=True, # a good idea is to shuffle input before at each epoch\n",
    "          validation_data=(x_valid, y_valid))"
   ]
  },
  {
   "cell_type": "code",
   "execution_count": 34,
   "metadata": {
    "scrolled": true
   },
   "outputs": [
    {
     "data": {
      "text/plain": [
       "[array([[2.064649]], dtype=float32), array([0.9365079], dtype=float32)]"
      ]
     },
     "execution_count": 34,
     "metadata": {},
     "output_type": "execute_result"
    }
   ],
   "source": [
    "# return weights and biases\n",
    "model.get_weights()"
   ]
  },
  {
   "cell_type": "code",
   "execution_count": 35,
   "metadata": {},
   "outputs": [
    {
     "name": "stdout",
     "output_type": "stream",
     "text": [
      "2/2 [==============================] - 0s 3ms/step - loss: 0.4011 - mse: 0.4011\n",
      "\n",
      "Test loss: 0.40111368894577026\n",
      "Test accuracy: 0.40111368894577026\n"
     ]
    }
   ],
   "source": [
    "# evaluate model\n",
    "score = model.evaluate(x_valid, y_valid, batch_size=32, verbose=1)\n",
    "\n",
    "# print performance\n",
    "print()\n",
    "print('Test loss:', score[0])\n",
    "print('Test accuracy:', score[1])"
   ]
  },
  {
   "cell_type": "code",
   "execution_count": 36,
   "metadata": {},
   "outputs": [
    {
     "name": "stdout",
     "output_type": "stream",
     "text": [
      "2/2 [==============================] - 0s 5ms/step - loss: 0.0058 - mse: 0.0058\n",
      "\n",
      "Test loss: 0.005794242024421692\n",
      "Test accuracy: 0.005794242024421692\n"
     ]
    }
   ],
   "source": [
    "# evaluate model with the exact curve\n",
    "score = model.evaluate(x_valid, y_target, batch_size=32, verbose=1)\n",
    "\n",
    "# print performance\n",
    "print()\n",
    "print('Test loss:', score[0])\n",
    "print('Test accuracy:', score[1])"
   ]
  },
  {
   "cell_type": "code",
   "execution_count": 37,
   "metadata": {},
   "outputs": [
    {
     "data": {
      "image/png": "[encoded data removed]",
      "text/plain": [
       "<Figure size 432x288 with 1 Axes>"
      ]
     },
     "metadata": {
      "needs_background": "light"
     },
     "output_type": "display_data"
    }
   ],
   "source": [
    "# look into training history\n",
    "# Plot training & validation loss values\n",
    "plt.plot(history.history['loss'])\n",
    "plt.plot(history.history['val_loss'])\n",
    "plt.title('Model loss')\n",
    "plt.ylabel('Loss')\n",
    "plt.xlabel('Epoch')\n",
    "plt.legend(['Train', 'Test'], loc='best')\n",
    "plt.show()"
   ]
  },
  {
   "cell_type": "code",
   "execution_count": 38,
   "metadata": {
    "scrolled": true
   },
   "outputs": [
    {
     "data": {
      "image/png": "[encoded data removed]",
      "text/plain": [
       "<Figure size 432x288 with 1 Axes>"
      ]
     },
     "metadata": {
      "needs_background": "light"
     },
     "output_type": "display_data"
    }
   ],
   "source": [
    "x_predicted = np.random.uniform(-1, 1, 100)\n",
    "y_predicted = model.predict(x_predicted)\n",
    "plt.scatter(x_predicted, y_predicted,color='r')\n",
    "plt.plot(x_valid, y_target)\n",
    "plt.grid(True)\n",
    "plt.show()"
   ]
  },
  {
   "cell_type": "markdown",
   "metadata": {},
   "source": [
    "### Più train/valid"
   ]
  },
  {
   "cell_type": "code",
   "execution_count": 39,
   "metadata": {},
   "outputs": [],
   "source": [
    "# target parameters of f(x) = m*x + b\n",
    "m = 2 # slope\n",
    "b = 1 # intersect"
   ]
  },
  {
   "cell_type": "code",
   "execution_count": 40,
   "metadata": {},
   "outputs": [],
   "source": [
    "import numpy as np\n",
    "\n",
    "# generate training inputs\n",
    "np.random.seed(0)\n",
    "x_train = np.random.uniform(-1, 1, 5000)\n",
    "x_valid = np.random.uniform(-1, 1, 500)\n",
    "x_valid.sort()\n",
    "y_target = m * x_valid + b # ideal (target) linear function\n",
    "\n",
    "sigma = 0.6 # noise standard deviation, for the moment it is absent\n",
    "y_train = np.random.normal(m * x_train + b, sigma) # actual measures from which we want to guess regression parameters\n",
    "y_valid = np.random.normal(m * x_valid + b, sigma)"
   ]
  },
  {
   "cell_type": "code",
   "execution_count": 41,
   "metadata": {
    "scrolled": false
   },
   "outputs": [
    {
     "data": {
      "image/png": "[encoded data removed]",
      "text/plain": [
       "<Figure size 432x288 with 1 Axes>"
      ]
     },
     "metadata": {
      "needs_background": "light"
     },
     "output_type": "display_data"
    }
   ],
   "source": [
    "# plot validation and target dataset\n",
    "import matplotlib.pyplot as plt\n",
    "plt.plot(x_valid, y_target, label='target')\n",
    "plt.scatter(x_valid, y_valid, color='r', label='validation data')\n",
    "plt.legend()\n",
    "plt.grid(True)\n",
    "plt.show()"
   ]
  },
  {
   "cell_type": "code",
   "execution_count": 42,
   "metadata": {},
   "outputs": [],
   "source": [
    "import tensorflow as tf\n",
    "from tensorflow import keras\n",
    "\n",
    "from tensorflow.keras.models import Sequential\n",
    "from tensorflow.keras.layers import Dense, Activation\n",
    "from tensorflow.keras import backend as K\n",
    "from tensorflow.keras.utils import get_custom_objects\n",
    "\n",
    "model = tf.keras.Sequential()\n",
    "model.add(Dense(1, input_shape=(1,)))\n",
    "\n",
    "# compile the model choosing optimizer, loss and metrics objects\n",
    "model.compile(optimizer='sgd', loss='mse', metrics=['mse'])"
   ]
  },
  {
   "cell_type": "code",
   "execution_count": 43,
   "metadata": {
    "scrolled": false
   },
   "outputs": [
    {
     "name": "stdout",
     "output_type": "stream",
     "text": [
      "Model: \"sequential_3\"\n",
      "_________________________________________________________________\n",
      "Layer (type)                 Output Shape              Param #   \n",
      "=================================================================\n",
      "dense_3 (Dense)              (None, 1)                 2         \n",
      "=================================================================\n",
      "Total params: 2\n",
      "Trainable params: 2\n",
      "Non-trainable params: 0\n",
      "_________________________________________________________________\n"
     ]
    }
   ],
   "source": [
    "# get a summary of our composed model\n",
    "model.summary()"
   ]
  },
  {
   "cell_type": "code",
   "execution_count": 44,
   "metadata": {
    "scrolled": true
   },
   "outputs": [
    {
     "name": "stdout",
     "output_type": "stream",
     "text": [
      "Epoch 1/30\n",
      "157/157 [==============================] - 0s 1ms/step - loss: 1.7998 - mse: 1.7998 - val_loss: 0.6893 - val_mse: 0.6893\n",
      "Epoch 2/30\n",
      "157/157 [==============================] - 0s 858us/step - loss: 0.5104 - mse: 0.5104 - val_loss: 0.3795 - val_mse: 0.3795\n",
      "Epoch 3/30\n",
      "157/157 [==============================] - 0s 857us/step - loss: 0.3723 - mse: 0.3723 - val_loss: 0.3464 - val_mse: 0.3464\n",
      "Epoch 4/30\n",
      "157/157 [==============================] - 0s 790us/step - loss: 0.3558 - mse: 0.3558 - val_loss: 0.3428 - val_mse: 0.3428\n",
      "Epoch 5/30\n",
      "157/157 [==============================] - 0s 900us/step - loss: 0.3536 - mse: 0.3536 - val_loss: 0.3427 - val_mse: 0.3427\n",
      "Epoch 6/30\n",
      "157/157 [==============================] - 0s 807us/step - loss: 0.3534 - mse: 0.3534 - val_loss: 0.3428 - val_mse: 0.3428\n",
      "Epoch 7/30\n",
      "157/157 [==============================] - 0s 827us/step - loss: 0.3533 - mse: 0.3533 - val_loss: 0.3429 - val_mse: 0.3429\n",
      "Epoch 8/30\n",
      "157/157 [==============================] - 0s 844us/step - loss: 0.3532 - mse: 0.3532 - val_loss: 0.3432 - val_mse: 0.3432\n",
      "Epoch 9/30\n",
      "157/157 [==============================] - 0s 761us/step - loss: 0.3532 - mse: 0.3532 - val_loss: 0.3431 - val_mse: 0.3431\n",
      "Epoch 10/30\n",
      "157/157 [==============================] - 0s 863us/step - loss: 0.3532 - mse: 0.3532 - val_loss: 0.3430 - val_mse: 0.3430\n",
      "Epoch 11/30\n",
      "157/157 [==============================] - 0s 860us/step - loss: 0.3533 - mse: 0.3533 - val_loss: 0.3429 - val_mse: 0.3429\n",
      "Epoch 12/30\n",
      "157/157 [==============================] - 0s 904us/step - loss: 0.3533 - mse: 0.3533 - val_loss: 0.3430 - val_mse: 0.3430\n",
      "Epoch 13/30\n",
      "157/157 [==============================] - 0s 836us/step - loss: 0.3532 - mse: 0.3532 - val_loss: 0.3430 - val_mse: 0.3430\n",
      "Epoch 14/30\n",
      "157/157 [==============================] - 0s 849us/step - loss: 0.3533 - mse: 0.3533 - val_loss: 0.3430 - val_mse: 0.3430\n",
      "Epoch 15/30\n",
      "157/157 [==============================] - 0s 826us/step - loss: 0.3533 - mse: 0.3533 - val_loss: 0.3431 - val_mse: 0.3431\n",
      "Epoch 16/30\n",
      "157/157 [==============================] - 0s 825us/step - loss: 0.3533 - mse: 0.3533 - val_loss: 0.3431 - val_mse: 0.3431\n",
      "Epoch 17/30\n",
      "157/157 [==============================] - 0s 813us/step - loss: 0.3533 - mse: 0.3533 - val_loss: 0.3430 - val_mse: 0.3430\n",
      "Epoch 18/30\n",
      "157/157 [==============================] - 0s 841us/step - loss: 0.3532 - mse: 0.3532 - val_loss: 0.3430 - val_mse: 0.3430\n",
      "Epoch 19/30\n",
      "157/157 [==============================] - 0s 766us/step - loss: 0.3533 - mse: 0.3533 - val_loss: 0.3430 - val_mse: 0.3430\n",
      "Epoch 20/30\n",
      "157/157 [==============================] - 0s 764us/step - loss: 0.3533 - mse: 0.3533 - val_loss: 0.3431 - val_mse: 0.3431\n",
      "Epoch 21/30\n",
      "157/157 [==============================] - 0s 765us/step - loss: 0.3533 - mse: 0.3533 - val_loss: 0.3430 - val_mse: 0.3430\n",
      "Epoch 22/30\n",
      "157/157 [==============================] - 0s 880us/step - loss: 0.3532 - mse: 0.3532 - val_loss: 0.3431 - val_mse: 0.3431\n",
      "Epoch 23/30\n",
      "157/157 [==============================] - 0s 884us/step - loss: 0.3533 - mse: 0.3533 - val_loss: 0.3431 - val_mse: 0.3431\n",
      "Epoch 24/30\n",
      "157/157 [==============================] - 0s 800us/step - loss: 0.3532 - mse: 0.3532 - val_loss: 0.3431 - val_mse: 0.3431\n",
      "Epoch 25/30\n",
      "157/157 [==============================] - 0s 903us/step - loss: 0.3533 - mse: 0.3533 - val_loss: 0.3430 - val_mse: 0.3430\n",
      "Epoch 26/30\n",
      "157/157 [==============================] - 0s 1ms/step - loss: 0.3532 - mse: 0.3532 - val_loss: 0.3430 - val_mse: 0.3430\n",
      "Epoch 27/30\n",
      "157/157 [==============================] - 0s 2ms/step - loss: 0.3532 - mse: 0.3532 - val_loss: 0.3429 - val_mse: 0.3429\n",
      "Epoch 28/30\n",
      "157/157 [==============================] - 0s 1ms/step - loss: 0.3532 - mse: 0.3532 - val_loss: 0.3428 - val_mse: 0.3428\n",
      "Epoch 29/30\n",
      "157/157 [==============================] - 0s 882us/step - loss: 0.3533 - mse: 0.3533 - val_loss: 0.3430 - val_mse: 0.3430\n",
      "Epoch 30/30\n",
      "157/157 [==============================] - 0s 827us/step - loss: 0.3533 - mse: 0.3533 - val_loss: 0.3430 - val_mse: 0.3430\n"
     ]
    }
   ],
   "source": [
    "# fit the model using training dataset\n",
    "# over 10 epochs of 32 batch size each\n",
    "# report training progress against validation data\n",
    "history = model.fit(x=x_train, y=y_train, \n",
    "          batch_size=32, epochs=30,\n",
    "          shuffle=True, # a good idea is to shuffle input before at each epoch\n",
    "          validation_data=(x_valid, y_valid))"
   ]
  },
  {
   "cell_type": "code",
   "execution_count": 45,
   "metadata": {
    "scrolled": true
   },
   "outputs": [
    {
     "data": {
      "text/plain": [
       "[array([[1.989787]], dtype=float32), array([1.0016695], dtype=float32)]"
      ]
     },
     "execution_count": 45,
     "metadata": {},
     "output_type": "execute_result"
    }
   ],
   "source": [
    "# return weights and biases\n",
    "model.get_weights()"
   ]
  },
  {
   "cell_type": "code",
   "execution_count": 46,
   "metadata": {},
   "outputs": [
    {
     "name": "stdout",
     "output_type": "stream",
     "text": [
      "16/16 [==============================] - 0s 3ms/step - loss: 0.3430 - mse: 0.3430\n",
      "\n",
      "Test loss: 0.34297287464141846\n",
      "Test accuracy: 0.34297287464141846\n"
     ]
    }
   ],
   "source": [
    "# evaluate model\n",
    "score = model.evaluate(x_valid, y_valid, batch_size=32, verbose=1)\n",
    "\n",
    "# print performance\n",
    "print()\n",
    "print('Test loss:', score[0])\n",
    "print('Test accuracy:', score[1])"
   ]
  },
  {
   "cell_type": "code",
   "execution_count": 47,
   "metadata": {},
   "outputs": [
    {
     "name": "stdout",
     "output_type": "stream",
     "text": [
      "16/16 [==============================] - 0s 2ms/step - loss: 3.7196e-05 - mse: 3.7196e-05\n",
      "\n",
      "Test loss: 3.7195757613517344e-05\n",
      "Test accuracy: 3.7195757613517344e-05\n"
     ]
    }
   ],
   "source": [
    "# evaluate model with the exact curve\n",
    "score = model.evaluate(x_valid, y_target, batch_size=32, verbose=1)\n",
    "\n",
    "# print performance\n",
    "print()\n",
    "print('Test loss:', score[0])\n",
    "print('Test accuracy:', score[1])"
   ]
  },
  {
   "cell_type": "code",
   "execution_count": 48,
   "metadata": {},
   "outputs": [
    {
     "data": {
      "image/png": "[encoded data removed]",
      "text/plain": [
       "<Figure size 432x288 with 1 Axes>"
      ]
     },
     "metadata": {
      "needs_background": "light"
     },
     "output_type": "display_data"
    }
   ],
   "source": [
    "# look into training history\n",
    "# Plot training & validation loss values\n",
    "plt.plot(history.history['loss'])\n",
    "plt.plot(history.history['val_loss'])\n",
    "plt.title('Model loss')\n",
    "plt.ylabel('Loss')\n",
    "plt.xlabel('Epoch')\n",
    "plt.legend(['Train', 'Test'], loc='best')\n",
    "plt.show()"
   ]
  },
  {
   "cell_type": "code",
   "execution_count": 49,
   "metadata": {
    "scrolled": true
   },
   "outputs": [
    {
     "data": {
      "image/png": "[encoded data removed]",
      "text/plain": [
       "<Figure size 432x288 with 1 Axes>"
      ]
     },
     "metadata": {
      "needs_background": "light"
     },
     "output_type": "display_data"
    }
   ],
   "source": [
    "x_predicted = np.random.uniform(-1, 1, 100)\n",
    "y_predicted = model.predict(x_predicted)\n",
    "plt.scatter(x_predicted, y_predicted,color='r')\n",
    "plt.plot(x_valid, y_target)\n",
    "plt.grid(True)\n",
    "plt.show()"
   ]
  },
  {
   "cell_type": "markdown",
   "metadata": {},
   "source": [
    "Ho decuplicato prima le epoche e poi set di train/valid e ho ottenuto un risultato nettamente migliore in quest'ultimo caso.\n",
    "Per questo problema almeno si può dire  che questa seconda variabile è stata più incisiva."
   ]
  },
  {
   "cell_type": "code",
   "execution_count": null,
   "metadata": {},
   "outputs": [],
   "source": []
  }
 ],
 "metadata": {
  "kernelspec": {
   "display_name": "Python 3",
   "language": "python",
   "name": "python3"
  },
  "language_info": {
   "codemirror_mode": {
    "name": "ipython",
    "version": 3
   },
   "file_extension": ".py",
   "mimetype": "text/x-python",
   "name": "python",
   "nbconvert_exporter": "python",
   "pygments_lexer": "ipython3",
   "version": "3.8.5"
  }
 },
 "nbformat": 4,
 "nbformat_minor": 4
}
